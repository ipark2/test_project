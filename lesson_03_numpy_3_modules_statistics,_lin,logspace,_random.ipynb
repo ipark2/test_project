{
  "cells": [
    {
      "cell_type": "markdown",
      "metadata": {
        "id": "view-in-github",
        "colab_type": "text"
      },
      "source": [
        "<a href=\"https://colab.research.google.com/github/ipark2/test_project/blob/main/lesson_03_numpy_3_modules_statistics%2C_lin%2Clogspace%2C_random.ipynb\" target=\"_parent\"><img src=\"https://colab.research.google.com/assets/colab-badge.svg\" alt=\"Open In Colab\"/></a>"
      ]
    },
    {
      "cell_type": "markdown",
      "metadata": {
        "id": "HMbQJyrBFd3Y"
      },
      "source": [
        "### Numpy modules"
      ]
    },
    {
      "cell_type": "code",
      "execution_count": 1,
      "metadata": {
        "ExecuteTime": {
          "end_time": "2021-02-02T03:35:32.486108Z",
          "start_time": "2021-02-02T03:35:32.473142Z"
        },
        "colab": {
          "base_uri": "https://localhost:8080/"
        },
        "id": "Qt1cJGOLFd3k",
        "outputId": "682e07e9-dc6a-49f7-9d8a-1973dabd6b34"
      },
      "outputs": [
        {
          "output_type": "execute_result",
          "data": {
            "text/plain": [
              "array([26, 28, 30, 35, 27, 31, 44])"
            ]
          },
          "metadata": {},
          "execution_count": 1
        }
      ],
      "source": [
        "import numpy as np\n",
        "\n",
        "ary = [26, 28, 30, 35, 27, 31, 44]\n",
        "ary = np.array(ary)\n",
        "ary"
      ]
    },
    {
      "cell_type": "code",
      "source": [
        "import numpy as np\n",
        "\n",
        "arr = np.random.randn(100)\n",
        "arr"
      ],
      "metadata": {
        "colab": {
          "base_uri": "https://localhost:8080/"
        },
        "id": "Qr1Y3ovpFj6_",
        "outputId": "8807d81b-3a93-4697-ef8b-e83511d3570e"
      },
      "execution_count": 2,
      "outputs": [
        {
          "output_type": "execute_result",
          "data": {
            "text/plain": [
              "array([ 2.42394544, -0.69448006, -0.17882502, -0.01698895, -0.73799336,\n",
              "        0.62846845, -1.04780167, -0.97322002, -0.38692323, -0.29759709,\n",
              "       -0.41406012,  0.43706401,  0.08350642, -1.74266018,  0.1026655 ,\n",
              "       -0.23245636, -0.07286976, -0.43284735,  2.26754418,  0.18403579,\n",
              "       -1.59282777,  1.05950314, -0.67266407,  1.0891036 ,  0.60151808,\n",
              "        0.6051742 , -0.86493856,  0.07011942,  0.56427413, -0.24783656,\n",
              "       -0.56736297, -1.12047965, -1.06178879, -0.32794638, -1.77313667,\n",
              "        0.00691536, -0.56052783, -0.71592155,  0.86617453,  0.9605173 ,\n",
              "        1.13441187, -0.15112306,  1.10825889,  0.83310624, -0.49234695,\n",
              "        0.38582997, -0.51583054, -0.72603329,  1.86819533, -2.70124185,\n",
              "       -0.22620136, -0.27557784,  0.64369286, -0.0220598 , -0.70049256,\n",
              "       -0.73915814,  2.06480456,  0.18251867,  1.94130257, -0.22329252,\n",
              "       -1.25831786, -0.60450849,  1.55479477,  1.21804146,  0.28514647,\n",
              "        0.21327649, -1.46303188, -1.08629219,  1.99344105,  0.10030308,\n",
              "       -2.26700317, -0.70111328, -1.99397348, -0.58880574, -0.54724524,\n",
              "        0.16837809, -1.19244413,  0.32978914, -0.87286653,  1.43338202,\n",
              "       -0.0268754 ,  0.82371159,  2.41579957, -1.70396789,  0.21162555,\n",
              "       -0.3397835 , -1.41987029,  0.26695213,  1.43907539, -0.40630191,\n",
              "       -0.39957113,  1.65086388,  1.2471134 , -1.49054265, -1.47938677,\n",
              "       -0.02674328, -0.67780402,  0.62957665, -0.06420166,  0.66013487])"
            ]
          },
          "metadata": {},
          "execution_count": 2
        }
      ]
    },
    {
      "cell_type": "markdown",
      "metadata": {
        "id": "fR7UYZpdFd3p"
      },
      "source": [
        "#### Statistics modules\n",
        "    - max, min, median, mean, std, var\n",
        "    - cov, corrcoef"
      ]
    },
    {
      "cell_type": "code",
      "execution_count": 5,
      "metadata": {
        "ExecuteTime": {
          "end_time": "2021-02-02T03:38:09.267774Z",
          "start_time": "2021-02-02T03:38:09.249809Z"
        },
        "colab": {
          "base_uri": "https://localhost:8080/"
        },
        "id": "RSbvfekNFd3r",
        "outputId": "90a55165-494c-4323-b97e-5b19213d23ae"
      },
      "outputs": [
        {
          "output_type": "execute_result",
          "data": {
            "text/plain": [
              "(2.423945441898959,\n",
              " -2.7012418489529324,\n",
              " -0.05364106276678861,\n",
              " 1.10636021127734,\n",
              " 1.051836589626611)"
            ]
          },
          "metadata": {},
          "execution_count": 5
        }
      ],
      "source": [
        "np.max(arr), np.min(arr), np.mean(arr), np.var(arr), np.std(arr) #최대 최소 평균 표준편차 "
      ]
    },
    {
      "cell_type": "markdown",
      "metadata": {
        "id": "u8FWHLKwFd3s"
      },
      "source": [
        "#### linspace, logspace\n",
        "    - linspace : 설정한 범위에서 선형적으로 분할한 위치의 값을 출력\n",
        "    - logspace : 설정한 범위에서 로그로 분할한 위치의 값을 출력"
      ]
    },
    {
      "cell_type": "code",
      "execution_count": 6,
      "metadata": {
        "ExecuteTime": {
          "end_time": "2021-02-02T03:51:13.748004Z",
          "start_time": "2021-02-02T03:51:13.730613Z"
        },
        "colab": {
          "base_uri": "https://localhost:8080/"
        },
        "id": "6OdUeaPMFd3u",
        "outputId": "1e787460-b3c8-4236-f47c-204fac5acd08"
      },
      "outputs": [
        {
          "output_type": "execute_result",
          "data": {
            "text/plain": [
              "array([  0.,  25.,  50.,  75., 100.])"
            ]
          },
          "metadata": {},
          "execution_count": 6
        }
      ],
      "source": [
        "np.linspace(0, 100, 5)"
      ]
    },
    {
      "cell_type": "markdown",
      "metadata": {
        "id": "V4Gy0UAeFd3w"
      },
      "source": [
        "##### logspace\n",
        "    - log10(x1)=2, log_10(x_2)=4"
      ]
    },
    {
      "cell_type": "code",
      "execution_count": 7,
      "metadata": {
        "ExecuteTime": {
          "end_time": "2021-02-02T03:51:34.294992Z",
          "start_time": "2021-02-02T03:51:34.278064Z"
        },
        "colab": {
          "base_uri": "https://localhost:8080/"
        },
        "id": "7Trn70omFd3x",
        "outputId": "f3d1c424-e607-4305-ecb2-ad3695f50a15"
      },
      "outputs": [
        {
          "output_type": "execute_result",
          "data": {
            "text/plain": [
              "array([  100.,  1000., 10000.])"
            ]
          },
          "metadata": {},
          "execution_count": 7
        }
      ],
      "source": [
        "np.logspace(2, 4, 3)"
      ]
    },
    {
      "cell_type": "markdown",
      "metadata": {
        "id": "QqsXy2wCFd3y"
      },
      "source": [
        "##### 2000년 최저시급과 2019년 최저시급을 가정하여 선형적 증가 추세를 보고싶다면?"
      ]
    },
    {
      "cell_type": "code",
      "execution_count": null,
      "metadata": {
        "ExecuteTime": {
          "end_time": "2021-02-02T03:59:45.411658Z",
          "start_time": "2021-02-02T03:59:45.397700Z"
        },
        "id": "80qohSz5Fd3z",
        "outputId": "7487e3a2-3289-41fb-c003-68f5aa3d3bd4"
      },
      "outputs": [
        {
          "data": {
            "text/plain": [
              "array([1600., 2350., 3100., 3850., 4600., 5350., 6100., 6850., 7600.,\n",
              "       8350.])"
            ]
          },
          "execution_count": 10,
          "metadata": {},
          "output_type": "execute_result"
        }
      ],
      "source": [
        "time_00 = 1600\n",
        "time_19 = 8350\n",
        "np.linspace(time_00, time_19, 10)"
      ]
    },
    {
      "cell_type": "markdown",
      "metadata": {
        "id": "UaDBnzPVFd30"
      },
      "source": [
        "#### numpy random module\n",
        "    - seed : 랜덤의 설정값\n",
        "    - rand : 균등분포로 난수 생생\n",
        "    - randn : 정규분포로 난수 생성\n",
        "    - randint : 균등분포로 정수 생성\n",
        "    - shuffle : 섞기\n",
        "    - choice : 데이터를 특정 확률로 뽑기"
      ]
    },
    {
      "cell_type": "markdown",
      "metadata": {
        "id": "QlLdvaDeFd31"
      },
      "source": [
        "##### seed"
      ]
    },
    {
      "cell_type": "code",
      "execution_count": 8,
      "metadata": {
        "ExecuteTime": {
          "end_time": "2021-02-02T04:02:41.739869Z",
          "start_time": "2021-02-02T04:02:41.715938Z"
        },
        "colab": {
          "base_uri": "https://localhost:8080/"
        },
        "id": "dysNc0B6Fd32",
        "outputId": "7e5b40ec-a1d2-4eb8-8f68-b79ac9822826"
      },
      "outputs": [
        {
          "output_type": "execute_result",
          "data": {
            "text/plain": [
              "(array([47, 22, 82, 19, 85, 15, 89, 74, 26, 11]),\n",
              " array([50, 25, 82, 32, 53, 92, 85, 17, 44, 59]),\n",
              " array([47, 22, 82, 19, 85, 15, 89, 74, 26, 11]))"
            ]
          },
          "metadata": {},
          "execution_count": 8
        }
      ],
      "source": [
        "np.random.seed(1)  # arbitrary \n",
        "res1 = np.random.randint(10, 100, 10)\n",
        "\n",
        "np.random.seed(2)\n",
        "res2 = np.random.randint(10, 100, 10)\n",
        "\n",
        "np.random.seed(1)\n",
        "res3 = np.random.randint(10, 100, 10)\n",
        "\n",
        "res1, res2, res3"
      ]
    },
    {
      "cell_type": "markdown",
      "metadata": {
        "id": "HrA__PTUFd33"
      },
      "source": [
        "##### rand"
      ]
    },
    {
      "cell_type": "code",
      "execution_count": 9,
      "metadata": {
        "ExecuteTime": {
          "end_time": "2021-02-02T04:03:09.315915Z",
          "start_time": "2021-02-02T04:03:09.301950Z"
        },
        "colab": {
          "base_uri": "https://localhost:8080/"
        },
        "id": "TBg2_bMAFd33",
        "outputId": "5eef3c3b-50d2-46ca-d587-b690db4506e1"
      },
      "outputs": [
        {
          "output_type": "execute_result",
          "data": {
            "text/plain": [
              "array([0.18626021, 0.34556073, 0.39676747, 0.53881673, 0.41919451,\n",
              "       0.6852195 , 0.20445225, 0.87811744, 0.02738759, 0.67046751])"
            ]
          },
          "metadata": {},
          "execution_count": 9
        }
      ],
      "source": [
        "np.random.rand(10)"
      ]
    },
    {
      "cell_type": "code",
      "execution_count": null,
      "metadata": {
        "ExecuteTime": {
          "end_time": "2021-02-02T04:03:14.372029Z",
          "start_time": "2021-02-02T04:03:14.354077Z"
        },
        "id": "w_DL7vV5Fd34",
        "outputId": "ab3ee4ad-16ad-4b17-9262-8509fd727b54"
      },
      "outputs": [
        {
          "data": {
            "text/plain": [
              "array([0.4173048 , 0.55868983, 0.14038694, 0.19810149, 0.80074457,\n",
              "       0.96826158, 0.31342418, 0.69232262, 0.87638915, 0.89460666])"
            ]
          },
          "execution_count": 13,
          "metadata": {},
          "output_type": "execute_result"
        }
      ],
      "source": [
        "np.random.rand(10)"
      ]
    },
    {
      "cell_type": "code",
      "execution_count": null,
      "metadata": {
        "ExecuteTime": {
          "end_time": "2021-02-02T04:03:53.774231Z",
          "start_time": "2021-02-02T04:03:53.757305Z"
        },
        "id": "19VO7EqAFd35",
        "outputId": "de041156-b33f-4ab3-e935-9d0ca26a0141"
      },
      "outputs": [
        {
          "data": {
            "text/plain": [
              "array([0.41919451, 0.6852195 , 0.20445225, 0.87811744, 0.02738759,\n",
              "       0.67046751, 0.4173048 , 0.55868983, 0.14038694, 0.19810149])"
            ]
          },
          "execution_count": 15,
          "metadata": {},
          "output_type": "execute_result"
        }
      ],
      "source": [
        "np.random.rand(10)"
      ]
    },
    {
      "cell_type": "markdown",
      "metadata": {
        "id": "avsgg91AFd35"
      },
      "source": [
        "##### randn"
      ]
    },
    {
      "cell_type": "code",
      "execution_count": 10,
      "metadata": {
        "ExecuteTime": {
          "end_time": "2021-02-02T04:04:26.448528Z",
          "start_time": "2021-02-02T04:04:26.427612Z"
        },
        "colab": {
          "base_uri": "https://localhost:8080/"
        },
        "id": "yzLEggQQFd36",
        "outputId": "c6b91be2-9a80-407d-8f05-ee39e022ced0"
      },
      "outputs": [
        {
          "output_type": "execute_result",
          "data": {
            "text/plain": [
              "array([ 1.46210794, -2.06014071, -0.3224172 , -0.38405435,  1.13376944,\n",
              "       -1.09989127, -0.17242821, -0.87785842,  0.04221375,  0.58281521])"
            ]
          },
          "metadata": {},
          "execution_count": 10
        }
      ],
      "source": [
        "np.random.randn(10)"
      ]
    },
    {
      "cell_type": "code",
      "source": [
        ""
      ],
      "metadata": {
        "id": "PaOUQmipG5Hr"
      },
      "execution_count": null,
      "outputs": []
    },
    {
      "cell_type": "markdown",
      "source": [
        "Numpy method\n",
        "\n",
        "\n",
        "*   all: 모든 값이 True일 때 True 반환\n",
        "*   any: 값이 하나라도 True일 때 True 반환\n",
        "*   argmax : axis를 기준으로 최대값의 index를 반환\n",
        "*   argmin : axis를 기준으로 최소값의 index를 반환\n",
        "*   argsort : 값의 크기순으로 index를 반환\n",
        "*   np.where: 조건에 맞는 값을 반환"
      ],
      "metadata": {
        "id": "aBlSbXjcG5_d"
      }
    },
    {
      "cell_type": "code",
      "source": [
        "arr = np.random.randint(0,10,(3,3))\n",
        "arr"
      ],
      "metadata": {
        "colab": {
          "base_uri": "https://localhost:8080/"
        },
        "id": "W1vRY7cCHpnL",
        "outputId": "d5504aa8-74e6-4926-e12c-1256c2d553f0"
      },
      "execution_count": 11,
      "outputs": [
        {
          "output_type": "execute_result",
          "data": {
            "text/plain": [
              "array([[4, 8, 1],\n",
              "       [4, 0, 3],\n",
              "       [9, 2, 0]])"
            ]
          },
          "metadata": {},
          "execution_count": 11
        }
      ]
    },
    {
      "cell_type": "code",
      "source": [
        "np.any(arr > 5)\n",
        "\n",
        "# np.all(arr > 5)\n",
        "\n",
        "# np.all(arr < 10)\n",
        "\n",
        "# np.argmin(arr. axis=0)\n",
        "\n",
        "# np.argmax(arr, 1)\n",
        "\n",
        "# np.argsort(arr, axis=0)\n",
        "\n",
        "# arr[np.where(arr>5)]\n",
        "\n",
        "# np.where(arr<5, 10, arr)"
      ],
      "metadata": {
        "colab": {
          "base_uri": "https://localhost:8080/"
        },
        "id": "_Vyd9clJHvzT",
        "outputId": "e53e86bb-5648-40ed-d292-b35ef6c24666"
      },
      "execution_count": 12,
      "outputs": [
        {
          "output_type": "execute_result",
          "data": {
            "text/plain": [
              "True"
            ]
          },
          "metadata": {},
          "execution_count": 12
        }
      ]
    },
    {
      "cell_type": "code",
      "source": [
        "arr = np.random.randint(0,10,(4,4))\n",
        "arr"
      ],
      "metadata": {
        "colab": {
          "base_uri": "https://localhost:8080/"
        },
        "id": "X4PyLI4vIdrk",
        "outputId": "ec7b7da8-0227-4547-cde5-14bd973d0fec"
      },
      "execution_count": 13,
      "outputs": [
        {
          "output_type": "execute_result",
          "data": {
            "text/plain": [
              "array([[4, 9, 2, 7],\n",
              "       [7, 9, 8, 6],\n",
              "       [9, 3, 7, 7],\n",
              "       [4, 5, 9, 3]])"
            ]
          },
          "metadata": {},
          "execution_count": 13
        }
      ]
    },
    {
      "cell_type": "code",
      "source": [
        "np.max(arr, axis=1)\n",
        "\n",
        "# np.mean(arr, 0)\n",
        "\n",
        "# np.min(arr, 1)\n",
        "\n",
        "# np.std(arr), np.std(arr, 0)\n",
        "\n",
        "# np.sum(arr)"
      ],
      "metadata": {
        "colab": {
          "base_uri": "https://localhost:8080/"
        },
        "id": "ZdKWuWsQI1VZ",
        "outputId": "22d4d4a1-385a-45b0-f84e-a2bcb4743288"
      },
      "execution_count": 14,
      "outputs": [
        {
          "output_type": "execute_result",
          "data": {
            "text/plain": [
              "array([9, 9, 9, 9])"
            ]
          },
          "metadata": {},
          "execution_count": 14
        }
      ]
    },
    {
      "cell_type": "code",
      "source": [
        "arr = np.random.randint(0,10,(2,4))\n",
        "arr"
      ],
      "metadata": {
        "colab": {
          "base_uri": "https://localhost:8080/"
        },
        "id": "otbDv1aMJDaL",
        "outputId": "23b75c8f-0f1e-4888-f094-64536190c579"
      },
      "execution_count": 15,
      "outputs": [
        {
          "output_type": "execute_result",
          "data": {
            "text/plain": [
              "array([[6, 8, 0, 2],\n",
              "       [7, 7, 9, 7]])"
            ]
          },
          "metadata": {},
          "execution_count": 15
        }
      ]
    },
    {
      "cell_type": "code",
      "source": [
        "arr1 = arr[..., np.newaxis]\n",
        "arr1.shape\n",
        "arr2 = np.squeeze(arr1, -1)\n",
        "arr2.shape\n",
        "arr3 = np.transpose(arr1, (2,1,0))\n",
        "arr3.shape, arr1.shape\n",
        "# arr4 = arr1.reshape(1,4,2)\n",
        "\n",
        "# arr5 = arr2.T"
      ],
      "metadata": {
        "colab": {
          "base_uri": "https://localhost:8080/"
        },
        "id": "D3rC-ZWaJMcG",
        "outputId": "33c1fda6-b8de-47eb-ed21-5b3452fe690a"
      },
      "execution_count": 20,
      "outputs": [
        {
          "output_type": "execute_result",
          "data": {
            "text/plain": [
              "((1, 4, 2), (2, 4, 1))"
            ]
          },
          "metadata": {},
          "execution_count": 20
        }
      ]
    },
    {
      "cell_type": "markdown",
      "metadata": {
        "id": "oRVPM1moFd36"
      },
      "source": [
        "##### randint"
      ]
    },
    {
      "cell_type": "code",
      "source": [
        ""
      ],
      "metadata": {
        "id": "KzrqY6JIHctG"
      },
      "execution_count": null,
      "outputs": []
    },
    {
      "cell_type": "code",
      "execution_count": null,
      "metadata": {
        "ExecuteTime": {
          "end_time": "2021-02-02T04:16:06.671231Z",
          "start_time": "2021-02-02T04:16:06.653279Z"
        },
        "id": "fS-wp4lwFd37",
        "outputId": "34e6fb4f-417b-4056-819b-65eaf4d39957"
      },
      "outputs": [
        {
          "data": {
            "text/plain": [
              "array([[7, 7, 1, 1],\n",
              "       [3, 7, 1, 7],\n",
              "       [8, 1, 4, 1],\n",
              "       [4, 5, 8, 6]])"
            ]
          },
          "execution_count": 44,
          "metadata": {},
          "output_type": "execute_result"
        }
      ],
      "source": [
        "x = np.random.randint(1, 10, (4, 4))\n",
        "x"
      ]
    },
    {
      "cell_type": "code",
      "execution_count": null,
      "metadata": {
        "ExecuteTime": {
          "end_time": "2021-02-02T04:16:08.734725Z",
          "start_time": "2021-02-02T04:16:08.721764Z"
        },
        "id": "ORcPoxR5Fd38",
        "outputId": "43a78286-83ae-484b-fc0f-9528706f2e54"
      },
      "outputs": [
        {
          "data": {
            "text/plain": [
              "array([[4, 5, 8, 6],\n",
              "       [3, 7, 1, 7],\n",
              "       [7, 7, 1, 1],\n",
              "       [8, 1, 4, 1]])"
            ]
          },
          "execution_count": 45,
          "metadata": {},
          "output_type": "execute_result"
        }
      ],
      "source": [
        "np.random.shuffle(x)\n",
        "x"
      ]
    }
  ],
  "metadata": {
    "hide_input": false,
    "kernelspec": {
      "display_name": "Python 3",
      "language": "python",
      "name": "python3"
    },
    "language_info": {
      "codemirror_mode": {
        "name": "ipython",
        "version": 3
      },
      "file_extension": ".py",
      "mimetype": "text/x-python",
      "name": "python",
      "nbconvert_exporter": "python",
      "pygments_lexer": "ipython3",
      "version": "3.8.5"
    },
    "toc": {
      "base_numbering": 1,
      "nav_menu": {},
      "number_sections": true,
      "sideBar": true,
      "skip_h1_title": false,
      "title_cell": "Table of Contents",
      "title_sidebar": "Contents",
      "toc_cell": false,
      "toc_position": {},
      "toc_section_display": true,
      "toc_window_display": false
    },
    "varInspector": {
      "cols": {
        "lenName": 16,
        "lenType": 16,
        "lenVar": 40
      },
      "kernels_config": {
        "python": {
          "delete_cmd_postfix": "",
          "delete_cmd_prefix": "del ",
          "library": "var_list.py",
          "varRefreshCmd": "print(var_dic_list())"
        },
        "r": {
          "delete_cmd_postfix": ") ",
          "delete_cmd_prefix": "rm(",
          "library": "var_list.r",
          "varRefreshCmd": "cat(var_dic_list()) "
        }
      },
      "types_to_exclude": [
        "module",
        "function",
        "builtin_function_or_method",
        "instance",
        "_Feature"
      ],
      "window_display": false
    },
    "colab": {
      "name": "lesson 03. numpy 3 - modules statistics, lin,logspace, random.ipynb",
      "provenance": [],
      "include_colab_link": true
    }
  },
  "nbformat": 4,
  "nbformat_minor": 0
}