{
  "cells": [
    {
      "cell_type": "markdown",
      "metadata": {
        "id": "view-in-github",
        "colab_type": "text"
      },
      "source": [
        "<a href=\"https://colab.research.google.com/github/ipark2/test_project/blob/main/lesson_15_class_1_declaration%2C_self%2C_constructor%2C_destructor.ipynb\" target=\"_parent\"><img src=\"https://colab.research.google.com/assets/colab-badge.svg\" alt=\"Open In Colab\"/></a>"
      ]
    },
    {
      "cell_type": "markdown",
      "metadata": {
        "id": "kcTLc-jJMJoA"
      },
      "source": [
        "## Class\n",
        "    - 변수와 함수를 묶어놓은 개념\n",
        "    - 클래스 선언\n",
        "        - 변수와 함수를 클래스 안에서 선언\n",
        "    - 클래스를 객체로 만들어서 클래스 안의 변수와 함수를 사용\n",
        "    - 인스턴스 : 클래스에서 만들어지는 개별적인 객체"
      ]
    },
    {
      "cell_type": "markdown",
      "metadata": {
        "id": "JKFYHklQMJoF"
      },
      "source": [
        "### Basic class"
      ]
    },
    {
      "cell_type": "markdown",
      "metadata": {
        "id": "gjM1blrfMJoG"
      },
      "source": [
        "#### class 선언"
      ]
    },
    {
      "cell_type": "code",
      "execution_count": 8,
      "metadata": {
        "id": "8x8k1qj_MJoG"
      },
      "outputs": [],
      "source": [
        "class Account:\n",
        "    \n",
        "    def __init__(self, loan=0):\n",
        "        self.deposit = 0\n",
        "        self.loan = loan\n",
        "        print(\"계좌가 개설되었습니다!\")\n",
        "    \n",
        "    def save(self, money): # 매소드\n",
        "        self.deposit += money\n",
        "        print(\"현재 계좌 잔액은 {}원 입니다.\".format(self.deposit))\n",
        "        \n",
        "    def withdraw(self, money):\n",
        "        self.deposit -= money\n",
        "        print(\"인출 금액은 {}원 입니다. 현재 계좌 잔액은 {}원 입니다.\".format(money, self.deposit))\n",
        "    \n",
        "    def debt(self, d_money):\n",
        "        self.deposit += d_money\n",
        "        self.credit_debt = d_money + self.loan\n",
        "        return -int(self.credit_debt)"
      ]
    },
    {
      "cell_type": "code",
      "execution_count": 15,
      "metadata": {
        "id": "CUAwx2RdMJoH",
        "colab": {
          "base_uri": "https://localhost:8080/"
        },
        "outputId": "ee799a53-a36f-4212-aa30-7735faec8c9e"
      },
      "outputs": [
        {
          "output_type": "stream",
          "name": "stdout",
          "text": [
            "계좌가 개설되었습니다!\n"
          ]
        }
      ],
      "source": [
        "acc3 = Account()"
      ]
    },
    {
      "cell_type": "code",
      "execution_count": 16,
      "metadata": {
        "id": "VFfx6igaMJoH",
        "colab": {
          "base_uri": "https://localhost:8080/"
        },
        "outputId": "6e556c04-a3cc-4d48-d9af-cf69f26199db"
      },
      "outputs": [
        {
          "output_type": "execute_result",
          "data": {
            "text/plain": [
              "500"
            ]
          },
          "metadata": {},
          "execution_count": 16
        }
      ],
      "source": [
        "acc3.loan = 500\n",
        "acc3.loan"
      ]
    },
    {
      "cell_type": "markdown",
      "metadata": {
        "id": "FJs0e2BiMJoH"
      },
      "source": [
        "#### self\n",
        "    - 객체 자신"
      ]
    },
    {
      "cell_type": "code",
      "execution_count": 17,
      "metadata": {
        "id": "dnSOajdUMJoI",
        "colab": {
          "base_uri": "https://localhost:8080/"
        },
        "outputId": "369be3d2-e324-486a-edbc-4097145b6493"
      },
      "outputs": [
        {
          "output_type": "execute_result",
          "data": {
            "text/plain": [
              "-1500"
            ]
          },
          "metadata": {},
          "execution_count": 17
        }
      ],
      "source": [
        "acc3.debt(1000)"
      ]
    },
    {
      "cell_type": "code",
      "execution_count": 19,
      "metadata": {
        "id": "D85kSzWNMJoI",
        "colab": {
          "base_uri": "https://localhost:8080/"
        },
        "outputId": "473b32fe-fbe2-4cac-a0e6-aa8d69d982ee"
      },
      "outputs": [
        {
          "output_type": "stream",
          "name": "stdout",
          "text": [
            "계좌가 개설되었습니다!\n",
            "계좌에 있던 대출과 내가 빌린 빚의 합은 -210 입니다.\n"
          ]
        }
      ],
      "source": [
        "acc4 = Account(200)\n",
        "print(f'계좌에 있던 대출과 내가 빌린 빚의 합은 {acc4.debt(10)} 입니다.')"
      ]
    },
    {
      "cell_type": "markdown",
      "metadata": {
        "id": "sWDrnngAMJoJ"
      },
      "source": [
        "#### 생성자\n",
        "    - 클래스의 인스턴스 객체가 생성될 때 자동으로 호출되는 메소드"
      ]
    },
    {
      "cell_type": "code",
      "execution_count": null,
      "metadata": {
        "id": "K-uEx3roMJoJ"
      },
      "outputs": [],
      "source": [
        "# 위에서 붙여 넣은 후 생성자 부분을 작성해주세요"
      ]
    },
    {
      "cell_type": "code",
      "execution_count": null,
      "metadata": {
        "id": "s8ZPeVv2MJoK"
      },
      "outputs": [],
      "source": [
        "# blank"
      ]
    },
    {
      "cell_type": "code",
      "execution_count": null,
      "metadata": {
        "id": "pE8VsqKMMJoK"
      },
      "outputs": [],
      "source": [
        "# blank"
      ]
    },
    {
      "cell_type": "code",
      "execution_count": null,
      "metadata": {
        "id": "AkWdsZI8MJoK"
      },
      "outputs": [],
      "source": [
        "# blank"
      ]
    },
    {
      "cell_type": "code",
      "execution_count": null,
      "metadata": {
        "id": "9b6BxrpTMJoK"
      },
      "outputs": [],
      "source": [
        "# blank"
      ]
    },
    {
      "cell_type": "markdown",
      "metadata": {
        "id": "dL4DwbLFMJoL"
      },
      "source": [
        "#### 소멸자\n",
        "    - 객체가 사라질 때 자동으로 호출되는 함수"
      ]
    },
    {
      "cell_type": "code",
      "execution_count": 20,
      "metadata": {
        "id": "hDuSe0usMJoL"
      },
      "outputs": [],
      "source": [
        "class Account:\n",
        "    \n",
        "    def __init__(self, loan=0):\n",
        "        self.deposit = 0\n",
        "        self.loan = loan\n",
        "        print(\"계좌가 개설되었습니다!\")\n",
        "    \n",
        "    def save(self, money): # 매소드\n",
        "        self.deposit += money\n",
        "        print(\"현재 계좌 잔액은 {}원 입니다.\".format(self.deposit))\n",
        "        \n",
        "    def withdraw(self, money):\n",
        "        self.deposit -= money\n",
        "        print(\"인출 금액은 {}원 입니다. 현재 계좌 잔액은 {}원 입니다.\".format(money, self.deposit))\n",
        "    \n",
        "    def debt(self, d_money):\n",
        "        self.deposit += d_money\n",
        "        self.credit_debt = d_money + self.loan\n",
        "        return -int(self.credit_debt)\n",
        "\n",
        "    def __del__(self):\n",
        "        print(\"계좌가 폐쇄되었습니다. 이용해주셔서 감사합니다.\")"
      ]
    },
    {
      "cell_type": "code",
      "execution_count": 21,
      "metadata": {
        "id": "R7RfYlMoMJoL",
        "colab": {
          "base_uri": "https://localhost:8080/"
        },
        "outputId": "129d778d-7617-46b6-da0d-faeb78911b0b"
      },
      "outputs": [
        {
          "output_type": "stream",
          "name": "stdout",
          "text": [
            "계좌가 개설되었습니다!\n"
          ]
        }
      ],
      "source": [
        "acc5 = Account()"
      ]
    },
    {
      "cell_type": "code",
      "execution_count": 22,
      "metadata": {
        "id": "zh8JxZSoMJoL"
      },
      "outputs": [],
      "source": [
        "del acc5"
      ]
    }
  ],
  "metadata": {
    "hide_input": false,
    "kernelspec": {
      "display_name": "Python 3",
      "language": "python",
      "name": "python3"
    },
    "language_info": {
      "codemirror_mode": {
        "name": "ipython",
        "version": 3
      },
      "file_extension": ".py",
      "mimetype": "text/x-python",
      "name": "python",
      "nbconvert_exporter": "python",
      "pygments_lexer": "ipython3",
      "version": "3.8.5"
    },
    "toc": {
      "base_numbering": 1,
      "nav_menu": {},
      "number_sections": true,
      "sideBar": true,
      "skip_h1_title": false,
      "title_cell": "Table of Contents",
      "title_sidebar": "Contents",
      "toc_cell": false,
      "toc_position": {},
      "toc_section_display": true,
      "toc_window_display": false
    },
    "varInspector": {
      "cols": {
        "lenName": 16,
        "lenType": 16,
        "lenVar": 40
      },
      "kernels_config": {
        "python": {
          "delete_cmd_postfix": "",
          "delete_cmd_prefix": "del ",
          "library": "var_list.py",
          "varRefreshCmd": "print(var_dic_list())"
        },
        "r": {
          "delete_cmd_postfix": ") ",
          "delete_cmd_prefix": "rm(",
          "library": "var_list.r",
          "varRefreshCmd": "cat(var_dic_list()) "
        }
      },
      "types_to_exclude": [
        "module",
        "function",
        "builtin_function_or_method",
        "instance",
        "_Feature"
      ],
      "window_display": false
    },
    "colab": {
      "name": "lesson 15. class 1 - declaration, self, constructor, destructor.ipynb",
      "provenance": [],
      "collapsed_sections": [],
      "include_colab_link": true
    }
  },
  "nbformat": 4,
  "nbformat_minor": 0
}