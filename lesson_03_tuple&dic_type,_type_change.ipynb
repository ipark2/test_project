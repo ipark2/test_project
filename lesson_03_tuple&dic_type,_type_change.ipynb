{
  "cells": [
    {
      "cell_type": "markdown",
      "metadata": {
        "id": "view-in-github",
        "colab_type": "text"
      },
      "source": [
        "<a href=\"https://colab.research.google.com/github/ipark2/test_project/blob/main/lesson_03_tuple%26dic_type%2C_type_change.ipynb\" target=\"_parent\"><img src=\"https://colab.research.google.com/assets/colab-badge.svg\" alt=\"Open In Colab\"/></a>"
      ]
    },
    {
      "cell_type": "markdown",
      "metadata": {
        "id": "cCOOOfI6j2bE"
      },
      "source": [
        "### Tuple Function\n",
        "    list보다 같은 데이터를 가졌을 때 공간을 적게 사용"
      ]
    },
    {
      "cell_type": "code",
      "execution_count": 7,
      "metadata": {
        "id": "EQ9-aEB8j2bI",
        "colab": {
          "base_uri": "https://localhost:8080/"
        },
        "outputId": "705a5335-cd46-40e0-b64b-8e3eef82eab8"
      },
      "outputs": [
        {
          "output_type": "execute_result",
          "data": {
            "text/plain": [
              "(tuple, tuple, (1, 2, 3), (4, 5, 6))"
            ]
          },
          "metadata": {},
          "execution_count": 7
        }
      ],
      "source": [
        "tp1 = 1, 2, 3\n",
        "tp2 = (4, 5, 6)\n",
        "type(tp1), type(tp2), tp1, tp2"
      ]
    },
    {
      "cell_type": "code",
      "execution_count": 2,
      "metadata": {
        "id": "qG08grXUj2bJ",
        "colab": {
          "base_uri": "https://localhost:8080/"
        },
        "outputId": "4d052dff-56f8-48cf-8e66-5bedc4c54fba"
      },
      "outputs": [
        {
          "output_type": "execute_result",
          "data": {
            "text/plain": [
              "(10, 20)"
            ]
          },
          "metadata": {},
          "execution_count": 2
        }
      ],
      "source": [
        "a, b = 10, 20 # a=10, b=20\n",
        "a, b"
      ]
    },
    {
      "cell_type": "markdown",
      "metadata": {
        "id": "WbzpX4Sqj2bK"
      },
      "source": [
        "#### list와 마찬가지로 offset index 사용 가능"
      ]
    },
    {
      "cell_type": "code",
      "execution_count": 11,
      "metadata": {
        "id": "ySNMfXqOj2bK",
        "colab": {
          "base_uri": "https://localhost:8080/"
        },
        "outputId": "c81dd1d2-7536-43e3-db24-5a6a50d8bf76"
      },
      "outputs": [
        {
          "output_type": "execute_result",
          "data": {
            "text/plain": [
              "(1, (6, 5, 4))"
            ]
          },
          "metadata": {},
          "execution_count": 11
        }
      ],
      "source": [
        "tp1[0], tp2[::-1]"
      ]
    },
    {
      "cell_type": "markdown",
      "metadata": {
        "id": "4T34IxLfj2bL"
      },
      "source": [
        "#### list와 tuple의 저장공간 비교"
      ]
    },
    {
      "cell_type": "code",
      "execution_count": 12,
      "metadata": {
        "id": "antsMB4Oj2bL",
        "colab": {
          "base_uri": "https://localhost:8080/"
        },
        "outputId": "3360f3f5-124e-4be7-e3bf-df1d4db91bbb"
      },
      "outputs": [
        {
          "output_type": "stream",
          "name": "stdout",
          "text": [
            "96 80\n"
          ]
        }
      ],
      "source": [
        "import sys\n",
        "\n",
        "ls = [1, 2, 3]\n",
        "tp = (1, 2, 3)\n",
        "print(sys.getsizeof(ls), sys.getsizeof(tp))"
      ]
    },
    {
      "cell_type": "markdown",
      "metadata": {
        "id": "NYH3itGuj2bM"
      },
      "source": [
        "#### tuple 활용\n",
        "    절대로 변경이 되어선 안되는 데이터를 작성하는 경우"
      ]
    },
    {
      "cell_type": "code",
      "execution_count": 14,
      "metadata": {
        "id": "OhmJtql8j2bM",
        "colab": {
          "base_uri": "https://localhost:8080/"
        },
        "outputId": "76804880-41b6-4118-939a-e1055766f6c2"
      },
      "outputs": [
        {
          "output_type": "stream",
          "name": "stdout",
          "text": [
            "<class 'tuple'> (0, 0.003)\n",
            "<class 'tuple'> (100000, (0, 0.003))\n",
            "300.0\n"
          ]
        }
      ],
      "source": [
        "# 카드 포인트 적립\n",
        "rate = (0, 0.003)\n",
        "print(type(rate), rate)\n",
        "card = 100_000 # 100,000\n",
        "point = (card, rate)\n",
        "print(type(point), point)\n",
        "\n",
        "point_combi = point[0] * point[1][1]\n",
        "print(point_combi)"
      ]
    },
    {
      "cell_type": "markdown",
      "source": [
        "### Dictionary(dict)\n",
        "    순서가 없고 {키:값}으로 구성되어 있는 데이터 타입"
      ],
      "metadata": {
        "id": "MMNuiLKMkRhp"
      }
    },
    {
      "cell_type": "code",
      "execution_count": 19,
      "metadata": {
        "id": "tG2RU8BJj2bM",
        "colab": {
          "base_uri": "https://localhost:8080/"
        },
        "outputId": "f7753191-2880-4b3f-decf-31926f7c8a6b"
      },
      "outputs": [
        {
          "output_type": "execute_result",
          "data": {
            "text/plain": [
              "(dict, {1: '첫번째', 3: [3, 4, 5], 'second': 2, 'training data': 'data'})"
            ]
          },
          "metadata": {},
          "execution_count": 19
        }
      ],
      "source": [
        "dic = {\n",
        "    \"training data\":\"data\",\n",
        "    1 : \"첫번째\",\n",
        "    \"second\" : 2,\n",
        "    3 : [3, 4, 5]\n",
        "}\n",
        "type(dic), dic"
      ]
    },
    {
      "cell_type": "code",
      "execution_count": 20,
      "metadata": {
        "id": "eGodFMlqj2bM",
        "colab": {
          "base_uri": "https://localhost:8080/"
        },
        "outputId": "c72335f9-31c9-4bc4-f8c3-27fc555748b7"
      },
      "outputs": [
        {
          "output_type": "execute_result",
          "data": {
            "text/plain": [
              "{'DEEP:PHI': 'https://www.deepphi.ai/home',\n",
              " 'deepnoid': 'https://www.deepnoid.com/'}"
            ]
          },
          "metadata": {},
          "execution_count": 20
        }
      ],
      "source": [
        "# key와 value를 하나씩 직접 입력하여 작성하는 방법\n",
        "dic2 = {}\n",
        "dic2['DEEP:PHI'] = 'https://www.deepphi.ai/home'\n",
        "dic2['deepnoid'] = 'https://www.deepnoid.com/'\n",
        "dic2"
      ]
    },
    {
      "cell_type": "markdown",
      "source": [
        "#### dict 출력방법\n",
        "    dict[key값]"
      ],
      "metadata": {
        "id": "USdIb8YwkVZh"
      }
    },
    {
      "cell_type": "code",
      "execution_count": 21,
      "metadata": {
        "id": "AK38Gno7j2bN",
        "colab": {
          "base_uri": "https://localhost:8080/"
        },
        "outputId": "f346f202-5fc2-4236-b703-25b107c3926e"
      },
      "outputs": [
        {
          "output_type": "execute_result",
          "data": {
            "text/plain": [
              "('첫번째', 2)"
            ]
          },
          "metadata": {},
          "execution_count": 21
        }
      ],
      "source": [
        "dic[1], dic[\"second\"]"
      ]
    },
    {
      "cell_type": "code",
      "source": [
        "dic[0]"
      ],
      "metadata": {
        "id": "KmRhgti6kXXp",
        "colab": {
          "base_uri": "https://localhost:8080/",
          "height": 174
        },
        "outputId": "02698d3f-d9ea-435c-eaef-30e99b470b39"
      },
      "execution_count": 22,
      "outputs": [
        {
          "output_type": "error",
          "ename": "KeyError",
          "evalue": "ignored",
          "traceback": [
            "\u001b[0;31m---------------------------------------------------------------------------\u001b[0m",
            "\u001b[0;31mKeyError\u001b[0m                                  Traceback (most recent call last)",
            "\u001b[0;32m<ipython-input-22-d5a2f4e83513>\u001b[0m in \u001b[0;36m<module>\u001b[0;34m()\u001b[0m\n\u001b[0;32m----> 1\u001b[0;31m \u001b[0mdic\u001b[0m\u001b[0;34m[\u001b[0m\u001b[0;36m0\u001b[0m\u001b[0;34m]\u001b[0m\u001b[0;34m\u001b[0m\u001b[0;34m\u001b[0m\u001b[0m\n\u001b[0m",
            "\u001b[0;31mKeyError\u001b[0m: 0"
          ]
        }
      ]
    },
    {
      "cell_type": "markdown",
      "source": [
        "#### dict형 데이터 타입 key, value값 확인\n",
        "    keys() : key값을 확인\n",
        "    values() : value값을 확인\n",
        "        각각 리스트 타입으로 출력\n",
        "    items() : key, value의 쌍으로 출력\n",
        "        쌍을 이루고 수정이 불가능하므로 튜플 타입으로 출력\n",
        "        \n",
        "    ※ 주의 : 출력이 각각 list, tuple 타입으로 나타나지만 본래 데이터는 dict 타입이므로 순서가 없음\n",
        "            즉, offset index를 사용할 수 없다!"
      ],
      "metadata": {
        "id": "stLmThIokYsy"
      }
    },
    {
      "cell_type": "code",
      "source": [
        "dic.keys(), dic.values(), dic.items()"
      ],
      "metadata": {
        "id": "rlpx8Go9kbVZ",
        "colab": {
          "base_uri": "https://localhost:8080/"
        },
        "outputId": "3831e0c9-59ab-42ec-8bc8-9f38cd8b0578"
      },
      "execution_count": 23,
      "outputs": [
        {
          "output_type": "execute_result",
          "data": {
            "text/plain": [
              "(dict_keys(['training data', 1, 'second', 3]),\n",
              " dict_values(['data', '첫번째', 2, [3, 4, 5]]),\n",
              " dict_items([('training data', 'data'), (1, '첫번째'), ('second', 2), (3, [3, 4, 5])]))"
            ]
          },
          "metadata": {},
          "execution_count": 23
        }
      ]
    },
    {
      "cell_type": "code",
      "source": [
        "for key in dic.keys():\n",
        "    print(key)"
      ],
      "metadata": {
        "id": "y6IiaawSkcUV",
        "colab": {
          "base_uri": "https://localhost:8080/"
        },
        "outputId": "e37492ff-401f-40d6-8924-ab8926f60c47"
      },
      "execution_count": 25,
      "outputs": [
        {
          "output_type": "stream",
          "name": "stdout",
          "text": [
            "training data\n",
            "1\n",
            "second\n",
            "3\n"
          ]
        }
      ]
    },
    {
      "cell_type": "code",
      "source": [
        "for items in dic.items():\n",
        "    print(items)"
      ],
      "metadata": {
        "id": "P3bYtRULkdsR",
        "colab": {
          "base_uri": "https://localhost:8080/"
        },
        "outputId": "ca337760-cb66-4730-b4ca-01af84a05669"
      },
      "execution_count": 26,
      "outputs": [
        {
          "output_type": "stream",
          "name": "stdout",
          "text": [
            "('training data', 'data')\n",
            "(1, '첫번째')\n",
            "('second', 2)\n",
            "(3, [3, 4, 5])\n"
          ]
        }
      ]
    },
    {
      "cell_type": "markdown",
      "source": [
        "### length 구하기\n",
        "    문자열, list, tuple, dict 타입의 경우 데이터의 길이(혹은 갯수)를 셀 수 있음\n",
        "```python\n",
        "len(구하고자 하는 데이터타입)\n",
        "```"
      ],
      "metadata": {
        "id": "g_14zkJQkf7a"
      }
    },
    {
      "cell_type": "code",
      "source": [
        "# string type\n",
        "text = \"hello python\"\n",
        "len(text) # 공백을 포함한 길이"
      ],
      "metadata": {
        "id": "wAS9O_TbkeYh",
        "colab": {
          "base_uri": "https://localhost:8080/"
        },
        "outputId": "8b3a3536-84fe-4d93-9929-fefdc2569353"
      },
      "execution_count": 27,
      "outputs": [
        {
          "output_type": "execute_result",
          "data": {
            "text/plain": [
              "12"
            ]
          },
          "metadata": {},
          "execution_count": 27
        }
      ]
    },
    {
      "cell_type": "code",
      "source": [
        "# list type\n",
        "ls = [1, 2, 3, 4, 5]\n",
        "len(ls)"
      ],
      "metadata": {
        "id": "3-EIQCTMkh5x",
        "colab": {
          "base_uri": "https://localhost:8080/"
        },
        "outputId": "64238c8d-d3b7-4c6c-ab68-b35ce5da9fa3"
      },
      "execution_count": 28,
      "outputs": [
        {
          "output_type": "execute_result",
          "data": {
            "text/plain": [
              "5"
            ]
          },
          "metadata": {},
          "execution_count": 28
        }
      ]
    },
    {
      "cell_type": "code",
      "source": [
        "# tuple type\n",
        "tp = (10, 20, 30, 40)\n",
        "len(tp)"
      ],
      "metadata": {
        "id": "-vtRY7dxkh2h",
        "colab": {
          "base_uri": "https://localhost:8080/"
        },
        "outputId": "8e9f7fb1-ebb3-42d8-da9a-690756c69552"
      },
      "execution_count": 29,
      "outputs": [
        {
          "output_type": "execute_result",
          "data": {
            "text/plain": [
              "4"
            ]
          },
          "metadata": {},
          "execution_count": 29
        }
      ]
    },
    {
      "cell_type": "code",
      "source": [
        "# dic type도 가능할까?\n",
        "dic = { 0:\"kim\", 1:\"python\", 2:\"data\"}\n",
        "len(dic)"
      ],
      "metadata": {
        "id": "6GG3IGfzkhz5",
        "colab": {
          "base_uri": "https://localhost:8080/"
        },
        "outputId": "f45c2cdc-25c3-465e-c7b6-0ce7cb27db81"
      },
      "execution_count": 30,
      "outputs": [
        {
          "output_type": "execute_result",
          "data": {
            "text/plain": [
              "3"
            ]
          },
          "metadata": {},
          "execution_count": 30
        }
      ]
    },
    {
      "cell_type": "code",
      "source": [
        "# 숫자형은 안되요!\n",
        "nb = 123\n",
        "len(nb)"
      ],
      "metadata": {
        "id": "Bup_hL5UkkgJ",
        "colab": {
          "base_uri": "https://localhost:8080/",
          "height": 211
        },
        "outputId": "32edb061-5777-4b04-b1db-6a2c142bb3fe"
      },
      "execution_count": 32,
      "outputs": [
        {
          "output_type": "error",
          "ename": "TypeError",
          "evalue": "ignored",
          "traceback": [
            "\u001b[0;31m---------------------------------------------------------------------------\u001b[0m",
            "\u001b[0;31mTypeError\u001b[0m                                 Traceback (most recent call last)",
            "\u001b[0;32m<ipython-input-32-285aa3493528>\u001b[0m in \u001b[0;36m<module>\u001b[0;34m()\u001b[0m\n\u001b[1;32m      1\u001b[0m \u001b[0;31m# 숫자형은 안되요!\u001b[0m\u001b[0;34m\u001b[0m\u001b[0;34m\u001b[0m\u001b[0;34m\u001b[0m\u001b[0m\n\u001b[1;32m      2\u001b[0m \u001b[0mnb\u001b[0m \u001b[0;34m=\u001b[0m \u001b[0;36m123\u001b[0m\u001b[0;34m\u001b[0m\u001b[0;34m\u001b[0m\u001b[0m\n\u001b[0;32m----> 3\u001b[0;31m \u001b[0mlen\u001b[0m\u001b[0;34m(\u001b[0m\u001b[0mnb\u001b[0m\u001b[0;34m)\u001b[0m\u001b[0;34m\u001b[0m\u001b[0;34m\u001b[0m\u001b[0m\n\u001b[0m",
            "\u001b[0;31mTypeError\u001b[0m: object of type 'int' has no len()"
          ]
        }
      ]
    },
    {
      "cell_type": "markdown",
      "source": [
        "### Type change\n",
        "    - 데이터 타입을 변환하는 방법\n",
        "    - 형태의 종류\n",
        "        int, float, bool, str, list, tuple, dict"
      ],
      "metadata": {
        "id": "EJtPSUhnkmo6"
      }
    },
    {
      "cell_type": "code",
      "source": [
        "type(dic.values())"
      ],
      "metadata": {
        "id": "n_fH08Vjkonx",
        "colab": {
          "base_uri": "https://localhost:8080/"
        },
        "outputId": "b3bd199a-6f4f-478c-8212-27c5588a6d26"
      },
      "execution_count": 33,
      "outputs": [
        {
          "output_type": "execute_result",
          "data": {
            "text/plain": [
              "dict_values"
            ]
          },
          "metadata": {},
          "execution_count": 33
        }
      ]
    },
    {
      "cell_type": "code",
      "source": [
        "type(list(dic.values()))"
      ],
      "metadata": {
        "id": "-GvdXtldkpxJ",
        "colab": {
          "base_uri": "https://localhost:8080/"
        },
        "outputId": "4687378b-6081-4750-dfb0-2930f2659da7"
      },
      "execution_count": 35,
      "outputs": [
        {
          "output_type": "execute_result",
          "data": {
            "text/plain": [
              "list"
            ]
          },
          "metadata": {},
          "execution_count": 35
        }
      ]
    },
    {
      "cell_type": "code",
      "source": [
        "dic_list = list(dic.values())\n",
        "dic_list[0]"
      ],
      "metadata": {
        "id": "C6oc37pJkqlJ",
        "colab": {
          "base_uri": "https://localhost:8080/",
          "height": 35
        },
        "outputId": "d4962d3e-d68a-47a7-9f8c-23ab4588fefb"
      },
      "execution_count": 37,
      "outputs": [
        {
          "output_type": "execute_result",
          "data": {
            "text/plain": [
              "'kim'"
            ],
            "application/vnd.google.colaboratory.intrinsic+json": {
              "type": "string"
            }
          },
          "metadata": {},
          "execution_count": 37
        }
      ]
    },
    {
      "cell_type": "code",
      "source": [
        "a=1 # int\n",
        "print(type(a),a)\n",
        "b=float(a)\n",
        "print(type(b),b)\n",
        "c=str(b)\n",
        "print(type(c),c)"
      ],
      "metadata": {
        "id": "2MEkLrR1krXB",
        "colab": {
          "base_uri": "https://localhost:8080/"
        },
        "outputId": "d6186500-46f9-4b09-f681-e915988e37b2"
      },
      "execution_count": 38,
      "outputs": [
        {
          "output_type": "stream",
          "name": "stdout",
          "text": [
            "<class 'int'> 1\n",
            "<class 'float'> 1.0\n",
            "<class 'str'> 1.0\n"
          ]
        }
      ]
    },
    {
      "cell_type": "markdown",
      "source": [
        "#### list -> dict로 만들기\n",
        "    zip : 같은 index끼리 묶어주는 함수"
      ],
      "metadata": {
        "id": "A2_eOW6-kw4U"
      }
    },
    {
      "cell_type": "code",
      "source": [
        "classes = ['Supervised learning', 'Unsupervised learning', 'Reinforcement learning']\n",
        "subject = ['classification', 'clustering', 'game AI']\n",
        "dic = dict(zip(classes, subject))"
      ],
      "metadata": {
        "id": "iAbnwtWbkweT"
      },
      "execution_count": 41,
      "outputs": []
    },
    {
      "cell_type": "code",
      "source": [
        "dict(zip(classes, subject))\n",
        "type(dic)"
      ],
      "metadata": {
        "id": "LFrDjRmrkyyZ",
        "colab": {
          "base_uri": "https://localhost:8080/"
        },
        "outputId": "9821ebb5-0610-4bf7-8837-a8d1bf849145"
      },
      "execution_count": 43,
      "outputs": [
        {
          "output_type": "execute_result",
          "data": {
            "text/plain": [
              "dict"
            ]
          },
          "metadata": {},
          "execution_count": 43
        }
      ]
    },
    {
      "cell_type": "code",
      "source": [
        "dic"
      ],
      "metadata": {
        "colab": {
          "base_uri": "https://localhost:8080/"
        },
        "id": "LJoWLtICd9N2",
        "outputId": "19c93b0e-802a-4ab4-f741-fae317122446"
      },
      "execution_count": 44,
      "outputs": [
        {
          "output_type": "execute_result",
          "data": {
            "text/plain": [
              "{'Reinforcement learning': 'game AI',\n",
              " 'Supervised learning': 'classification',\n",
              " 'Unsupervised learning': 'clustering'}"
            ]
          },
          "metadata": {},
          "execution_count": 44
        }
      ]
    },
    {
      "cell_type": "code",
      "source": [
        ""
      ],
      "metadata": {
        "id": "7IgAsDsAeGmn"
      },
      "execution_count": null,
      "outputs": []
    }
  ],
  "metadata": {
    "kernelspec": {
      "display_name": "Python 3",
      "language": "python",
      "name": "python3"
    },
    "language_info": {
      "codemirror_mode": {
        "name": "ipython",
        "version": 3
      },
      "file_extension": ".py",
      "mimetype": "text/x-python",
      "name": "python",
      "nbconvert_exporter": "python",
      "pygments_lexer": "ipython3",
      "version": "3.8.5"
    },
    "toc": {
      "base_numbering": 1,
      "nav_menu": {},
      "number_sections": true,
      "sideBar": true,
      "skip_h1_title": false,
      "title_cell": "Table of Contents",
      "title_sidebar": "Contents",
      "toc_cell": false,
      "toc_position": {},
      "toc_section_display": true,
      "toc_window_display": false
    },
    "colab": {
      "name": "lesson 03. tuple&dic type, type change.ipynb",
      "provenance": [],
      "collapsed_sections": [],
      "include_colab_link": true
    }
  },
  "nbformat": 4,
  "nbformat_minor": 0
}