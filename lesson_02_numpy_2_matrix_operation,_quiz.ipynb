{
  "cells": [
    {
      "cell_type": "markdown",
      "metadata": {
        "id": "view-in-github",
        "colab_type": "text"
      },
      "source": [
        "<a href=\"https://colab.research.google.com/github/ipark2/test_project/blob/main/lesson_02_numpy_2_matrix_operation%2C_quiz.ipynb\" target=\"_parent\"><img src=\"https://colab.research.google.com/assets/colab-badge.svg\" alt=\"Open In Colab\"/></a>"
      ]
    },
    {
      "cell_type": "markdown",
      "metadata": {
        "id": "wqvdAO01_XiT"
      },
      "source": [
        "### numpy로 작성하는 행렬"
      ]
    },
    {
      "cell_type": "markdown",
      "metadata": {
        "id": "X-I4EUem_Xim"
      },
      "source": [
        "#### 행렬의 합\n",
        "\n",
        "$$\n",
        "    \\begin{pmatrix}\n",
        "    1 & 2 & 3 \\\\\n",
        "    4 & 5 & 6 \\\\\n",
        "    \\end{pmatrix}\n",
        "    +\n",
        "    \\begin{pmatrix}\n",
        "    4 & 5 & 6 \\\\\n",
        "    1 & 2 & 3 \\\\\n",
        "    \\end{pmatrix}\n",
        "$$\n",
        "   "
      ]
    },
    {
      "cell_type": "markdown",
      "metadata": {
        "id": "eDeX1eIm_Xio"
      },
      "source": [
        "#### 기본적인 list 연산도 구현 가능?"
      ]
    },
    {
      "cell_type": "code",
      "execution_count": 1,
      "metadata": {
        "ExecuteTime": {
          "end_time": "2021-02-02T02:13:40.650498Z",
          "start_time": "2021-02-02T02:13:40.634546Z"
        },
        "colab": {
          "base_uri": "https://localhost:8080/"
        },
        "id": "YgsRv1L2_Xip",
        "outputId": "bde65fa9-992b-4416-df8a-bf713da8c9b5"
      },
      "outputs": [
        {
          "output_type": "execute_result",
          "data": {
            "text/plain": [
              "[[1, 2, 3], [4, 5, 6], [4, 5, 6], [1, 2, 3]]"
            ]
          },
          "metadata": {},
          "execution_count": 1
        }
      ],
      "source": [
        "A = [[1, 2, 3], [4, 5, 6]]\n",
        "B = [[4, 5, 6], [1, 2, 3]]\n",
        "A+B # ? "
      ]
    },
    {
      "cell_type": "markdown",
      "metadata": {
        "id": "cqVRL5IC_Xit"
      },
      "source": [
        "#####  list에서 요소들의 합 구현은 쉽지 않음"
      ]
    },
    {
      "cell_type": "code",
      "execution_count": 2,
      "metadata": {
        "ExecuteTime": {
          "end_time": "2021-02-02T02:17:11.251302Z",
          "start_time": "2021-02-02T02:17:11.235330Z"
        },
        "colab": {
          "base_uri": "https://localhost:8080/"
        },
        "id": "4ap4tB7m_Xiu",
        "outputId": "9a266475-a085-4f4a-e745-00b6d7ab24c3"
      },
      "outputs": [
        {
          "output_type": "execute_result",
          "data": {
            "text/plain": [
              "[[5, 7, 9], [5, 7, 9]]"
            ]
          },
          "metadata": {},
          "execution_count": 2
        }
      ],
      "source": [
        "res = [[c+d for c, d in zip(a, b)] for a, b in zip(A, B)]\n",
        "res"
      ]
    },
    {
      "cell_type": "markdown",
      "metadata": {
        "id": "x8Ejq4h1_Xiv"
      },
      "source": [
        "##### numpy array라면 어떨까?"
      ]
    },
    {
      "cell_type": "code",
      "execution_count": 3,
      "metadata": {
        "ExecuteTime": {
          "end_time": "2021-02-02T02:18:04.679736Z",
          "start_time": "2021-02-02T02:18:04.670760Z"
        },
        "colab": {
          "base_uri": "https://localhost:8080/"
        },
        "id": "2ZZPGzAq_Xiw",
        "outputId": "ee586556-e425-439e-d882-279bbd5c7a05"
      },
      "outputs": [
        {
          "output_type": "execute_result",
          "data": {
            "text/plain": [
              "array([[5, 7, 9],\n",
              "       [5, 7, 9]])"
            ]
          },
          "metadata": {},
          "execution_count": 3
        }
      ],
      "source": [
        "import numpy as np\n",
        "a = np.array(A)\n",
        "b = np.array(B)\n",
        "a+b"
      ]
    },
    {
      "cell_type": "code",
      "source": [
        "np.multiply(A,b)"
      ],
      "metadata": {
        "colab": {
          "base_uri": "https://localhost:8080/"
        },
        "id": "atwg6uA4AXGi",
        "outputId": "dd97bf3f-8249-49e8-80e3-7a22b88f612e"
      },
      "execution_count": 5,
      "outputs": [
        {
          "output_type": "execute_result",
          "data": {
            "text/plain": [
              "array([[ 4, 10, 18],\n",
              "       [ 4, 10, 18]])"
            ]
          },
          "metadata": {},
          "execution_count": 5
        }
      ]
    },
    {
      "cell_type": "markdown",
      "metadata": {
        "id": "k8WXNktY_Xix"
      },
      "source": [
        "### 행렬의 곱\n",
        "\n",
        "$$\n",
        "    \\begin{pmatrix}\n",
        "    1 & 2 & 3 \\\\\n",
        "    4 & 5 & 6 \\\\\n",
        "    \\end{pmatrix}\n",
        "    \\rm{x}\n",
        "    \\begin{pmatrix}\n",
        "    6 & 5 \\\\\n",
        "    4 & 3 \\\\\n",
        "    2 & 1 \\\\\n",
        "    \\end{pmatrix}\n",
        "$$"
      ]
    },
    {
      "cell_type": "code",
      "source": [
        "a.shape, b.shape"
      ],
      "metadata": {
        "colab": {
          "base_uri": "https://localhost:8080/"
        },
        "id": "6pi7-3oqAwNw",
        "outputId": "fe770118-814c-4f84-c5fe-1b1ff4f3885a"
      },
      "execution_count": 7,
      "outputs": [
        {
          "output_type": "execute_result",
          "data": {
            "text/plain": [
              "((2, 3), (3, 2))"
            ]
          },
          "metadata": {},
          "execution_count": 7
        }
      ]
    },
    {
      "cell_type": "code",
      "source": [
        "a = np.array(A)\n",
        "b = np.array(B).reshape(3,2)\n",
        "np.dot(a,b) , a @ b"
      ],
      "metadata": {
        "colab": {
          "base_uri": "https://localhost:8080/"
        },
        "id": "_iLhEsSHAiqH",
        "outputId": "ba6b17ff-de34-45f9-de1a-ae07addb1428"
      },
      "execution_count": 6,
      "outputs": [
        {
          "output_type": "execute_result",
          "data": {
            "text/plain": [
              "(array([[20, 14],\n",
              "        [56, 41]]), array([[20, 14],\n",
              "        [56, 41]]))"
            ]
          },
          "metadata": {},
          "execution_count": 6
        }
      ]
    },
    {
      "cell_type": "code",
      "source": [
        "arr = np.array([[2,10,15],[1,2,3]]) # (2,3)\n",
        "\n",
        "arr1 = np.array([1]) # (1,)\n",
        "\n",
        "arr2 = np.array([1,2,3]) # (3,)\n",
        "\n",
        "arr, arr1, arr2"
      ],
      "metadata": {
        "colab": {
          "base_uri": "https://localhost:8080/"
        },
        "id": "ObuB8FA7A4wn",
        "outputId": "bf13666f-92d5-46d3-ef82-bf67e5b49ec7"
      },
      "execution_count": 9,
      "outputs": [
        {
          "output_type": "execute_result",
          "data": {
            "text/plain": [
              "(array([[ 2, 10, 15],\n",
              "        [ 1,  2,  3]]), array([1]), array([1, 2, 3]))"
            ]
          },
          "metadata": {},
          "execution_count": 9
        }
      ]
    },
    {
      "cell_type": "code",
      "source": [
        "arr.shape, arr1.shape, arr2.shape"
      ],
      "metadata": {
        "colab": {
          "base_uri": "https://localhost:8080/"
        },
        "id": "EMDDomniBfts",
        "outputId": "a24ad685-5f6a-46f2-e2cf-80ad17f03461"
      },
      "execution_count": 10,
      "outputs": [
        {
          "output_type": "execute_result",
          "data": {
            "text/plain": [
              "((2, 3), (1,), (3,))"
            ]
          },
          "metadata": {},
          "execution_count": 10
        }
      ]
    },
    {
      "cell_type": "code",
      "source": [
        "arr * arr1"
      ],
      "metadata": {
        "colab": {
          "base_uri": "https://localhost:8080/"
        },
        "id": "mhUQUIaKBymh",
        "outputId": "f0d4cedc-9ba9-49df-d0c6-1b04cd0392fa"
      },
      "execution_count": 13,
      "outputs": [
        {
          "output_type": "execute_result",
          "data": {
            "text/plain": [
              "array([[ 2, 10, 15],\n",
              "       [ 1,  2,  3]])"
            ]
          },
          "metadata": {},
          "execution_count": 13
        }
      ]
    },
    {
      "cell_type": "code",
      "source": [
        "arr + arr1, arr * arr1"
      ],
      "metadata": {
        "colab": {
          "base_uri": "https://localhost:8080/"
        },
        "id": "pg_k9xRsBmfx",
        "outputId": "634c2530-1f20-48c7-db07-fea55742a698"
      },
      "execution_count": 11,
      "outputs": [
        {
          "output_type": "execute_result",
          "data": {
            "text/plain": [
              "(array([[ 3, 11, 16],\n",
              "        [ 2,  3,  4]]), array([[ 2, 10, 15],\n",
              "        [ 1,  2,  3]]))"
            ]
          },
          "metadata": {},
          "execution_count": 11
        }
      ]
    },
    {
      "cell_type": "code",
      "source": [
        "a = np.array([[ 0,  0,  0],\n",
        "              [10, 10, 10],\n",
        "              [20, 20, 20]\n",
        "              [30, 30, 30]])\n",
        "b = np.array([1, 2, 3])\n",
        "a*b"
      ],
      "metadata": {
        "colab": {
          "base_uri": "https://localhost:8080/",
          "height": 248
        },
        "id": "Cb-YgJetCNrY",
        "outputId": "bdae5f0b-68f4-4981-a911-88a8b1988fca"
      },
      "execution_count": 16,
      "outputs": [
        {
          "output_type": "error",
          "ename": "TypeError",
          "evalue": "ignored",
          "traceback": [
            "\u001b[0;31m---------------------------------------------------------------------------\u001b[0m",
            "\u001b[0;31mTypeError\u001b[0m                                 Traceback (most recent call last)",
            "\u001b[0;32m<ipython-input-16-4ca13a4ac657>\u001b[0m in \u001b[0;36m<module>\u001b[0;34m()\u001b[0m\n\u001b[1;32m      2\u001b[0m               \u001b[0;34m[\u001b[0m\u001b[0;36m10\u001b[0m\u001b[0;34m,\u001b[0m \u001b[0;36m10\u001b[0m\u001b[0;34m,\u001b[0m \u001b[0;36m10\u001b[0m\u001b[0;34m]\u001b[0m\u001b[0;34m,\u001b[0m\u001b[0;34m\u001b[0m\u001b[0;34m\u001b[0m\u001b[0m\n\u001b[1;32m      3\u001b[0m               \u001b[0;34m[\u001b[0m\u001b[0;36m20\u001b[0m\u001b[0;34m,\u001b[0m \u001b[0;36m20\u001b[0m\u001b[0;34m,\u001b[0m \u001b[0;36m20\u001b[0m\u001b[0;34m]\u001b[0m\u001b[0;34m\u001b[0m\u001b[0;34m\u001b[0m\u001b[0m\n\u001b[0;32m----> 4\u001b[0;31m               [30, 30, 30]])\n\u001b[0m\u001b[1;32m      5\u001b[0m \u001b[0mb\u001b[0m \u001b[0;34m=\u001b[0m \u001b[0mnp\u001b[0m\u001b[0;34m.\u001b[0m\u001b[0marray\u001b[0m\u001b[0;34m(\u001b[0m\u001b[0;34m[\u001b[0m\u001b[0;36m1\u001b[0m\u001b[0;34m,\u001b[0m \u001b[0;36m2\u001b[0m\u001b[0;34m,\u001b[0m \u001b[0;36m3\u001b[0m\u001b[0;34m]\u001b[0m\u001b[0;34m)\u001b[0m\u001b[0;34m\u001b[0m\u001b[0;34m\u001b[0m\u001b[0m\n\u001b[1;32m      6\u001b[0m \u001b[0ma\u001b[0m\u001b[0;34m*\u001b[0m\u001b[0mb\u001b[0m\u001b[0;34m\u001b[0m\u001b[0;34m\u001b[0m\u001b[0m\n",
            "\u001b[0;31mTypeError\u001b[0m: list indices must be integers or slices, not tuple"
          ]
        }
      ]
    },
    {
      "cell_type": "code",
      "source": [
        "a.shape ( 4,3,2 )\n",
        "b.shape (   5,2 )"
      ],
      "metadata": {
        "colab": {
          "base_uri": "https://localhost:8080/",
          "height": 193
        },
        "id": "MZJgOYTdC9Gp",
        "outputId": "af9301d2-b318-4435-d302-ff087cc58d4c"
      },
      "execution_count": 20,
      "outputs": [
        {
          "output_type": "error",
          "ename": "TypeError",
          "evalue": "ignored",
          "traceback": [
            "\u001b[0;31m---------------------------------------------------------------------------\u001b[0m",
            "\u001b[0;31mTypeError\u001b[0m                                 Traceback (most recent call last)",
            "\u001b[0;32m<ipython-input-20-ba7b62bcc9fd>\u001b[0m in \u001b[0;36m<module>\u001b[0;34m()\u001b[0m\n\u001b[0;32m----> 1\u001b[0;31m \u001b[0ma\u001b[0m\u001b[0;34m.\u001b[0m\u001b[0mshape\u001b[0m \u001b[0;34m(\u001b[0m \u001b[0;36m4\u001b[0m\u001b[0;34m,\u001b[0m\u001b[0;36m3\u001b[0m\u001b[0;34m,\u001b[0m\u001b[0;36m2\u001b[0m \u001b[0;34m)\u001b[0m\u001b[0;34m\u001b[0m\u001b[0;34m\u001b[0m\u001b[0m\n\u001b[0m\u001b[1;32m      2\u001b[0m \u001b[0mb\u001b[0m\u001b[0;34m.\u001b[0m\u001b[0mshape\u001b[0m \u001b[0;34m(\u001b[0m   \u001b[0;36m5\u001b[0m\u001b[0;34m,\u001b[0m\u001b[0;36m2\u001b[0m \u001b[0;34m)\u001b[0m\u001b[0;34m\u001b[0m\u001b[0;34m\u001b[0m\u001b[0m\n",
            "\u001b[0;31mTypeError\u001b[0m: 'tuple' object is not callable"
          ]
        }
      ]
    },
    {
      "cell_type": "markdown",
      "metadata": {
        "id": "jsC8piCf_Xiz"
      },
      "source": [
        "#### 굳이 list로 만들어서 하겠다면..."
      ]
    },
    {
      "cell_type": "code",
      "execution_count": 4,
      "metadata": {
        "ExecuteTime": {
          "end_time": "2021-02-02T02:22:58.702978Z",
          "start_time": "2021-02-02T02:22:58.683031Z"
        },
        "colab": {
          "base_uri": "https://localhost:8080/"
        },
        "id": "y2E-fssE_Xi1",
        "outputId": "da9381f2-dd68-460c-b9f1-f606c18f0fa1"
      },
      "outputs": [
        {
          "output_type": "execute_result",
          "data": {
            "text/plain": [
              "[[20, 14], [56, 41]]"
            ]
          },
          "metadata": {},
          "execution_count": 4
        }
      ],
      "source": [
        "A = [[1, 2, 3], [4, 5, 6]]\n",
        "B = [[6, 5], [4, 3], [2, 1]]\n",
        "\n",
        "res = [[sum(a*b for a, b in zip(A_row,B_col)) for B_col in zip(*B)] for A_row in A]\n",
        "res"
      ]
    },
    {
      "cell_type": "markdown",
      "metadata": {
        "id": "ZO9ntKaz_Xi2"
      },
      "source": [
        "##### zip(*)"
      ]
    },
    {
      "cell_type": "markdown",
      "metadata": {
        "id": "S4Zi7uI8_Xi2"
      },
      "source": [
        "$$\n",
        "    \\begin{pmatrix}\n",
        "    1 & 2 & 3 \\\\\n",
        "    4 & 5 & 6 \\\\\n",
        "    \\end{pmatrix}\n",
        "    →\n",
        "    \\begin{pmatrix}\n",
        "    1 & 4 \\\\\n",
        "    2 & 5 \\\\\n",
        "    3 & 6 \\\\\n",
        "    \\end{pmatrix}\n",
        "$$"
      ]
    },
    {
      "cell_type": "code",
      "execution_count": null,
      "metadata": {
        "ExecuteTime": {
          "end_time": "2021-02-02T02:24:12.352098Z",
          "start_time": "2021-02-02T02:24:12.347112Z"
        },
        "id": "dQOMDwuC_Xi3",
        "outputId": "93b8b715-694f-44be-c89d-204e1eaa2413"
      },
      "outputs": [
        {
          "data": {
            "text/plain": [
              "[[1, 2, 3], [4, 5, 6]]"
            ]
          },
          "execution_count": 7,
          "metadata": {},
          "output_type": "execute_result"
        }
      ],
      "source": [
        "ls = [[1, 2, 3], [4, 5, 6]]\n",
        "ls"
      ]
    },
    {
      "cell_type": "code",
      "execution_count": null,
      "metadata": {
        "ExecuteTime": {
          "end_time": "2021-02-02T02:25:56.448311Z",
          "start_time": "2021-02-02T02:25:56.436371Z"
        },
        "id": "WfsRu2W7_Xi4",
        "outputId": "425ddc0e-6f35-43eb-cc1d-e55db22fd53f"
      },
      "outputs": [
        {
          "data": {
            "text/plain": [
              "[[1, 4], [2, 5], [3, 6]]"
            ]
          },
          "execution_count": 13,
          "metadata": {},
          "output_type": "execute_result"
        }
      ],
      "source": [
        "ls2 = list(map(list, zip(*ls)))\n",
        "ls2"
      ]
    },
    {
      "cell_type": "markdown",
      "metadata": {
        "id": "BnDcgqs4_Xi5"
      },
      "source": [
        "#### numpy 곱"
      ]
    },
    {
      "cell_type": "code",
      "execution_count": null,
      "metadata": {
        "ExecuteTime": {
          "end_time": "2021-02-02T02:28:17.205716Z",
          "start_time": "2021-02-02T02:28:17.198762Z"
        },
        "id": "rySgTaje_Xi5",
        "outputId": "c7cef56c-d86b-400c-90a3-9ae2ed92c3aa"
      },
      "outputs": [
        {
          "data": {
            "text/plain": [
              "array([[20, 14],\n",
              "       [56, 41]])"
            ]
          },
          "execution_count": 14,
          "metadata": {},
          "output_type": "execute_result"
        }
      ],
      "source": [
        "a = np.array(A)\n",
        "b = np.array(B)\n",
        "a@b"
      ]
    },
    {
      "cell_type": "markdown",
      "metadata": {
        "id": "z5aL-R4h_Xi6"
      },
      "source": [
        "#### 행렬 데이터의 결합\n",
        "    concatenate"
      ]
    },
    {
      "cell_type": "code",
      "execution_count": 22,
      "metadata": {
        "ExecuteTime": {
          "end_time": "2021-02-02T06:15:22.677293Z",
          "start_time": "2021-02-02T06:15:22.671310Z"
        },
        "id": "7mgg_9QZ_Xi7"
      },
      "outputs": [],
      "source": [
        "r1 = np.array([[1, 9, 8], [7, 0, 2]])  # (2,3)\n",
        "r2 = np.array([[1, 8], [2, 2], [0, 2]])  # (3,2)\n",
        "r3 = np.array([[7, 6, 0], [3, 5, 4], [6, 7, 9]])  #(3,3)"
      ]
    },
    {
      "cell_type": "code",
      "source": [
        "# np.concatenate((r1, r3), axis=0)\n",
        "# np.vstack([r1,r3])\n",
        "np.r_[r1,r3]"
      ],
      "metadata": {
        "colab": {
          "base_uri": "https://localhost:8080/"
        },
        "id": "yI6xJhHcDk1r",
        "outputId": "6fa053f6-8a71-44ad-e2df-5385d20d4ecd"
      },
      "execution_count": 27,
      "outputs": [
        {
          "output_type": "execute_result",
          "data": {
            "text/plain": [
              "array([[1, 9, 8],\n",
              "       [7, 0, 2],\n",
              "       [7, 6, 0],\n",
              "       [3, 5, 4],\n",
              "       [6, 7, 9]])"
            ]
          },
          "metadata": {},
          "execution_count": 27
        }
      ]
    },
    {
      "cell_type": "code",
      "execution_count": null,
      "metadata": {
        "ExecuteTime": {
          "end_time": "2021-02-02T06:16:08.473097Z",
          "start_time": "2021-02-02T06:16:08.464149Z"
        },
        "id": "GVIGegQS_Xi7",
        "outputId": "70f826a5-f0c1-4aee-e444-efe54f5f985a"
      },
      "outputs": [
        {
          "data": {
            "text/plain": [
              "array([[1, 9, 8],\n",
              "       [7, 0, 2]])"
            ]
          },
          "execution_count": 29,
          "metadata": {},
          "output_type": "execute_result"
        }
      ],
      "source": [
        "r1"
      ]
    },
    {
      "cell_type": "code",
      "execution_count": null,
      "metadata": {
        "ExecuteTime": {
          "end_time": "2021-02-02T06:16:10.770099Z",
          "start_time": "2021-02-02T06:16:10.760126Z"
        },
        "id": "fJ3XU_lV_Xi8",
        "outputId": "de2e91b5-9895-46c8-d998-4c6c6c5bebea"
      },
      "outputs": [
        {
          "data": {
            "text/plain": [
              "array([[1, 8],\n",
              "       [2, 2],\n",
              "       [0, 2]])"
            ]
          },
          "execution_count": 30,
          "metadata": {},
          "output_type": "execute_result"
        }
      ],
      "source": [
        "r2"
      ]
    },
    {
      "cell_type": "code",
      "execution_count": null,
      "metadata": {
        "ExecuteTime": {
          "end_time": "2021-02-02T06:16:17.605085Z",
          "start_time": "2021-02-02T06:16:17.588134Z"
        },
        "id": "yKHqLFzS_Xi9",
        "outputId": "b85740f2-78c7-4008-e6b9-dea62601b506"
      },
      "outputs": [
        {
          "data": {
            "text/plain": [
              "array([[7, 6, 0],\n",
              "       [3, 5, 4],\n",
              "       [6, 7, 9]])"
            ]
          },
          "execution_count": 31,
          "metadata": {},
          "output_type": "execute_result"
        }
      ],
      "source": [
        "r3"
      ]
    },
    {
      "cell_type": "code",
      "execution_count": null,
      "metadata": {
        "ExecuteTime": {
          "end_time": "2021-02-02T06:16:45.873753Z",
          "start_time": "2021-02-02T06:16:45.861756Z"
        },
        "id": "5xrairQ1_Xi9",
        "outputId": "bb77570b-87fa-44b8-bcaa-42e5dfb27e2f"
      },
      "outputs": [
        {
          "data": {
            "text/plain": [
              "array([[1, 9, 8],\n",
              "       [7, 0, 2],\n",
              "       [7, 6, 0],\n",
              "       [3, 5, 4],\n",
              "       [6, 7, 9]])"
            ]
          },
          "execution_count": 33,
          "metadata": {},
          "output_type": "execute_result"
        }
      ],
      "source": [
        "np.concatenate((r1, r3)), axis=0)"
      ]
    },
    {
      "cell_type": "code",
      "execution_count": null,
      "metadata": {
        "ExecuteTime": {
          "end_time": "2021-02-02T06:17:02.178189Z",
          "start_time": "2021-02-02T06:17:02.163237Z"
        },
        "id": "aV7ckt6S_Xi-",
        "outputId": "6d0da65a-2d53-4bdf-fb04-6d6621af2794"
      },
      "outputs": [
        {
          "data": {
            "text/plain": [
              "array([[1, 8, 7, 6, 0],\n",
              "       [2, 2, 3, 5, 4],\n",
              "       [0, 2, 6, 7, 9]])"
            ]
          },
          "execution_count": 34,
          "metadata": {},
          "output_type": "execute_result"
        }
      ],
      "source": [
        "np.concatenate((r2, r3), axis=1)"
      ]
    },
    {
      "cell_type": "code",
      "execution_count": null,
      "metadata": {
        "ExecuteTime": {
          "end_time": "2021-02-02T06:18:47.460676Z",
          "start_time": "2021-02-02T06:18:47.453693Z"
        },
        "id": "apehtrrC_Xi_",
        "outputId": "1a0ebf69-a579-46ba-e086-a5f973fc1dd3"
      },
      "outputs": [
        {
          "data": {
            "text/plain": [
              "array([[1, 4],\n",
              "       [2, 5],\n",
              "       [3, 6]])"
            ]
          },
          "execution_count": 36,
          "metadata": {},
          "output_type": "execute_result"
        }
      ],
      "source": [
        "ls1 = np.array([1, 2, 3])\n",
        "ls2 = np.array([4, 5, 6])\n",
        "np.c_[ls1, ls2]"
      ]
    },
    {
      "cell_type": "code",
      "execution_count": null,
      "metadata": {
        "ExecuteTime": {
          "end_time": "2021-02-02T06:18:53.783295Z",
          "start_time": "2021-02-02T06:18:53.779316Z"
        },
        "id": "hs6jUpXv_Xi_",
        "outputId": "4fae0e21-9696-4343-9ee9-21e4833f76bb"
      },
      "outputs": [
        {
          "data": {
            "text/plain": [
              "array([1, 2, 3, 4, 5, 6])"
            ]
          },
          "execution_count": 37,
          "metadata": {},
          "output_type": "execute_result"
        }
      ],
      "source": [
        "np.r_[ls1, ls2]"
      ]
    },
    {
      "cell_type": "markdown",
      "metadata": {
        "id": "4RhqqM1n_XjA"
      },
      "source": [
        "### Quiz\n",
        "    위 행렬의 곱을 for문으로 작성하면?"
      ]
    },
    {
      "cell_type": "code",
      "execution_count": 28,
      "metadata": {
        "ExecuteTime": {
          "end_time": "2021-02-02T03:29:52.528895Z",
          "start_time": "2021-02-02T03:29:52.513896Z"
        },
        "colab": {
          "base_uri": "https://localhost:8080/"
        },
        "id": "qUXG6abN_XjA",
        "outputId": "0fee48f5-eb9e-4357-b400-3af4f7e293e1"
      },
      "outputs": [
        {
          "output_type": "stream",
          "name": "stdout",
          "text": [
            "2 3\n"
          ]
        }
      ],
      "source": [
        "A = [[1, 2, 3], [4, 5, 6]]\n",
        "B = [[6, 5],[4, 3], [2, 1]]\n",
        "print(len(A), len(B))"
      ]
    },
    {
      "cell_type": "code",
      "execution_count": 29,
      "metadata": {
        "ExecuteTime": {
          "end_time": "2021-02-02T03:32:52.050689Z",
          "start_time": "2021-02-02T03:32:52.038717Z"
        },
        "colab": {
          "base_uri": "https://localhost:8080/"
        },
        "id": "tPRKMLwJ_XjB",
        "outputId": "2418d6a8-95f0-4ed3-f0af-3a64edf211d1"
      },
      "outputs": [
        {
          "output_type": "execute_result",
          "data": {
            "text/plain": [
              "[[20, 14], [56, 41]]"
            ]
          },
          "metadata": {},
          "execution_count": 29
        }
      ],
      "source": [
        "res = [[0 for i in range(len(B[0]))]for _ in range(len(A))]\n",
        "for i in range(len(A)): # 행\n",
        "    for j in range(len(B[0])): # 행\n",
        "        for k in range(len(A[0])):\n",
        "            res[i][j] += A[i][k] * B[k][j]\n",
        "            \n",
        "res"
      ]
    },
    {
      "cell_type": "code",
      "source": [
        "a=np.array(A)\n",
        "b=np.array(B)\n",
        "np.dot(a,b)"
      ],
      "metadata": {
        "colab": {
          "base_uri": "https://localhost:8080/"
        },
        "id": "jjyTqgFSEbpc",
        "outputId": "a79efa49-3e6a-47e2-a458-8783aba5e88d"
      },
      "execution_count": 30,
      "outputs": [
        {
          "output_type": "execute_result",
          "data": {
            "text/plain": [
              "array([[20, 14],\n",
              "       [56, 41]])"
            ]
          },
          "metadata": {},
          "execution_count": 30
        }
      ]
    },
    {
      "cell_type": "markdown",
      "source": [
        "n차원 배열의 슬라이싱"
      ],
      "metadata": {
        "id": "uiFGQD72Es10"
      }
    },
    {
      "cell_type": "code",
      "source": [
        "a = np.arange(0,9).reshape(3,3)\n",
        "a"
      ],
      "metadata": {
        "colab": {
          "base_uri": "https://localhost:8080/"
        },
        "id": "dG09rg6iEwQe",
        "outputId": "37eae00e-9b28-428b-df51-143ec94df11c"
      },
      "execution_count": 31,
      "outputs": [
        {
          "output_type": "execute_result",
          "data": {
            "text/plain": [
              "array([[0, 1, 2],\n",
              "       [3, 4, 5],\n",
              "       [6, 7, 8]])"
            ]
          },
          "metadata": {},
          "execution_count": 31
        }
      ]
    },
    {
      "cell_type": "code",
      "source": [
        "a[0], a[0,:], a[:,0]"
      ],
      "metadata": {
        "colab": {
          "base_uri": "https://localhost:8080/"
        },
        "id": "_n7qtaPzE9L0",
        "outputId": "02864346-68f4-4dbb-eb48-d00caad2c3a1"
      },
      "execution_count": 32,
      "outputs": [
        {
          "output_type": "execute_result",
          "data": {
            "text/plain": [
              "(array([0, 1, 2]), array([0, 1, 2]), array([0, 3, 6]))"
            ]
          },
          "metadata": {},
          "execution_count": 32
        }
      ]
    },
    {
      "cell_type": "code",
      "source": [
        "a[2, :], a[:, :2], a[1, :2]"
      ],
      "metadata": {
        "colab": {
          "base_uri": "https://localhost:8080/"
        },
        "id": "p4_fSaWlFC__",
        "outputId": "1a6d712d-5b39-40a6-e8a4-69d2617ff8e0"
      },
      "execution_count": 33,
      "outputs": [
        {
          "output_type": "execute_result",
          "data": {
            "text/plain": [
              "(array([6, 7, 8]), array([[0, 1],\n",
              "        [3, 4],\n",
              "        [6, 7]]), array([3, 4]))"
            ]
          },
          "metadata": {},
          "execution_count": 33
        }
      ]
    },
    {
      "cell_type": "code",
      "source": [
        "a[0, 0:2], a[:2, :2]"
      ],
      "metadata": {
        "colab": {
          "base_uri": "https://localhost:8080/"
        },
        "id": "imBHN6MpFOtS",
        "outputId": "711b559d-45c4-47b2-9a0a-6203ed317715"
      },
      "execution_count": 34,
      "outputs": [
        {
          "output_type": "execute_result",
          "data": {
            "text/plain": [
              "(array([0, 1]), array([[0, 1],\n",
              "        [3, 4]]))"
            ]
          },
          "metadata": {},
          "execution_count": 34
        }
      ]
    }
  ],
  "metadata": {
    "hide_input": false,
    "kernelspec": {
      "display_name": "Python 3",
      "language": "python",
      "name": "python3"
    },
    "language_info": {
      "codemirror_mode": {
        "name": "ipython",
        "version": 3
      },
      "file_extension": ".py",
      "mimetype": "text/x-python",
      "name": "python",
      "nbconvert_exporter": "python",
      "pygments_lexer": "ipython3",
      "version": "3.8.5"
    },
    "toc": {
      "base_numbering": 1,
      "nav_menu": {},
      "number_sections": true,
      "sideBar": true,
      "skip_h1_title": false,
      "title_cell": "Table of Contents",
      "title_sidebar": "Contents",
      "toc_cell": false,
      "toc_position": {},
      "toc_section_display": true,
      "toc_window_display": false
    },
    "varInspector": {
      "cols": {
        "lenName": 16,
        "lenType": 16,
        "lenVar": 40
      },
      "kernels_config": {
        "python": {
          "delete_cmd_postfix": "",
          "delete_cmd_prefix": "del ",
          "library": "var_list.py",
          "varRefreshCmd": "print(var_dic_list())"
        },
        "r": {
          "delete_cmd_postfix": ") ",
          "delete_cmd_prefix": "rm(",
          "library": "var_list.r",
          "varRefreshCmd": "cat(var_dic_list()) "
        }
      },
      "types_to_exclude": [
        "module",
        "function",
        "builtin_function_or_method",
        "instance",
        "_Feature"
      ],
      "window_display": false
    },
    "colab": {
      "name": "lesson 02. numpy 2 - matrix operation, quiz.ipynb",
      "provenance": [],
      "include_colab_link": true
    }
  },
  "nbformat": 4,
  "nbformat_minor": 0
}