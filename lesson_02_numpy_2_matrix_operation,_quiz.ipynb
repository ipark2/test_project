{
  "cells": [
    {
      "cell_type": "markdown",
      "metadata": {
        "id": "view-in-github",
        "colab_type": "text"
      },
      "source": [
        "<a href=\"https://colab.research.google.com/github/ipark2/test_project/blob/main/lesson_02_numpy_2_matrix_operation%2C_quiz.ipynb\" target=\"_parent\"><img src=\"https://colab.research.google.com/assets/colab-badge.svg\" alt=\"Open In Colab\"/></a>"
      ]
    },
    {
      "cell_type": "markdown",
      "metadata": {
        "id": "3EEHk9Twy4M6"
      },
      "source": [
        "### numpy로 작성하는 행렬"
      ]
    },
    {
      "cell_type": "markdown",
      "metadata": {
        "id": "QNyGKK7by4NM"
      },
      "source": [
        "#### 행렬의 합\n",
        "\n",
        "$$\n",
        "    \\begin{pmatrix}\n",
        "    1 & 2 & 3 \\\\\n",
        "    4 & 5 & 6 \\\\\n",
        "    \\end{pmatrix}\n",
        "    +\n",
        "    \\begin{pmatrix}\n",
        "    4 & 5 & 6 \\\\\n",
        "    1 & 2 & 3 \\\\\n",
        "    \\end{pmatrix}\n",
        "$$\n",
        "   "
      ]
    },
    {
      "cell_type": "markdown",
      "metadata": {
        "id": "rCgmqj18y4NV"
      },
      "source": [
        "#### 기본적인 list 연산도 구현 가능?"
      ]
    },
    {
      "cell_type": "code",
      "execution_count": 1,
      "metadata": {
        "ExecuteTime": {
          "end_time": "2021-02-02T02:13:40.650498Z",
          "start_time": "2021-02-02T02:13:40.634546Z"
        },
        "colab": {
          "base_uri": "https://localhost:8080/"
        },
        "id": "r_SngfiOy4NW",
        "outputId": "d105c215-f03d-4703-82e1-4fda5a1c286d"
      },
      "outputs": [
        {
          "output_type": "execute_result",
          "data": {
            "text/plain": [
              "[[1, 2, 3], [4, 5, 6], [4, 5, 6], [1, 2, 3]]"
            ]
          },
          "metadata": {},
          "execution_count": 1
        }
      ],
      "source": [
        "A = [[1, 2, 3], [4, 5, 6]]\n",
        "B = [[4, 5, 6], [1, 2, 3]]\n",
        "A+B # ? "
      ]
    },
    {
      "cell_type": "markdown",
      "metadata": {
        "id": "r-4ZCoALy4Nb"
      },
      "source": [
        "#####  list에서 요소들의 합 구현은 쉽지 않음"
      ]
    },
    {
      "cell_type": "code",
      "execution_count": 2,
      "metadata": {
        "ExecuteTime": {
          "end_time": "2021-02-02T02:17:11.251302Z",
          "start_time": "2021-02-02T02:17:11.235330Z"
        },
        "colab": {
          "base_uri": "https://localhost:8080/"
        },
        "id": "J2QjsTH8y4Nd",
        "outputId": "dcf3bfad-c1b8-42cf-e371-1c0734049f80"
      },
      "outputs": [
        {
          "output_type": "execute_result",
          "data": {
            "text/plain": [
              "[[5, 7, 9], [5, 7, 9]]"
            ]
          },
          "metadata": {},
          "execution_count": 2
        }
      ],
      "source": [
        "res = [[c+d for c, d in zip(a, b)] for a, b in zip(A, B)]\n",
        "res"
      ]
    },
    {
      "cell_type": "markdown",
      "metadata": {
        "id": "a0NeTsQxy4Ne"
      },
      "source": [
        "##### numpy array라면 어떨까?"
      ]
    },
    {
      "cell_type": "code",
      "execution_count": 3,
      "metadata": {
        "ExecuteTime": {
          "end_time": "2021-02-02T02:18:04.679736Z",
          "start_time": "2021-02-02T02:18:04.670760Z"
        },
        "colab": {
          "base_uri": "https://localhost:8080/"
        },
        "id": "eDy-oZ8oy4Nh",
        "outputId": "837685b7-35cf-4a97-a664-d6a7d948062c"
      },
      "outputs": [
        {
          "output_type": "execute_result",
          "data": {
            "text/plain": [
              "array([[5, 7, 9],\n",
              "       [5, 7, 9]])"
            ]
          },
          "metadata": {},
          "execution_count": 3
        }
      ],
      "source": [
        "import numpy as np\n",
        "a = np.array(A)\n",
        "b = np.array(B)\n",
        "a+b"
      ]
    },
    {
      "cell_type": "code",
      "source": [
        "np.multiply(A,b)"
      ],
      "metadata": {
        "colab": {
          "base_uri": "https://localhost:8080/"
        },
        "id": "bi1LOQ2DzLaz",
        "outputId": "cbbdd922-4204-43f0-dae9-93a8de03251b"
      },
      "execution_count": 4,
      "outputs": [
        {
          "output_type": "execute_result",
          "data": {
            "text/plain": [
              "array([[ 4, 10, 18],\n",
              "       [ 4, 10, 18]])"
            ]
          },
          "metadata": {},
          "execution_count": 4
        }
      ]
    },
    {
      "cell_type": "markdown",
      "metadata": {
        "id": "0yvaChOjy4Np"
      },
      "source": [
        "### 행렬의 곱\n",
        "\n",
        "$$\n",
        "    \\begin{pmatrix}\n",
        "    1 & 2 & 3 \\\\\n",
        "    4 & 5 & 6 \\\\\n",
        "    \\end{pmatrix}\n",
        "    \\rm{x}\n",
        "    \\begin{pmatrix}\n",
        "    6 & 5 \\\\\n",
        "    4 & 3 \\\\\n",
        "    2 & 1 \\\\\n",
        "    \\end{pmatrix}\n",
        "$$"
      ]
    },
    {
      "cell_type": "markdown",
      "metadata": {
        "id": "D5ZLPhs9y4Ns"
      },
      "source": [
        "#### 굳이 list로 만들어서 하겠다면..."
      ]
    },
    {
      "cell_type": "code",
      "execution_count": null,
      "metadata": {
        "ExecuteTime": {
          "end_time": "2021-02-02T02:22:58.702978Z",
          "start_time": "2021-02-02T02:22:58.683031Z"
        },
        "id": "HU0AzVLGy4Nu",
        "outputId": "a683f243-9766-43ec-9939-a771a93a3cd5"
      },
      "outputs": [
        {
          "data": {
            "text/plain": [
              "[[20, 14], [56, 41]]"
            ]
          },
          "execution_count": 6,
          "metadata": {},
          "output_type": "execute_result"
        }
      ],
      "source": [
        "A = [[1, 2, 3], [4, 5, 6]]\n",
        "B = [[6, 5], [4, 3], [2, 1]]\n",
        "\n",
        "res = [[sum(a*b for a, b in zip(A_row,B_col)) for B_col in zip(*B)] for A_row in A]\n",
        "res"
      ]
    },
    {
      "cell_type": "markdown",
      "metadata": {
        "id": "7nxDIphay4Ny"
      },
      "source": [
        "##### zip(*)"
      ]
    },
    {
      "cell_type": "markdown",
      "metadata": {
        "id": "oB_cKNpSy4N0"
      },
      "source": [
        "$$\n",
        "    \\begin{pmatrix}\n",
        "    1 & 2 & 3 \\\\\n",
        "    4 & 5 & 6 \\\\\n",
        "    \\end{pmatrix}\n",
        "    →\n",
        "    \\begin{pmatrix}\n",
        "    1 & 4 \\\\\n",
        "    2 & 5 \\\\\n",
        "    3 & 6 \\\\\n",
        "    \\end{pmatrix}\n",
        "$$"
      ]
    },
    {
      "cell_type": "code",
      "execution_count": null,
      "metadata": {
        "ExecuteTime": {
          "end_time": "2021-02-02T02:24:12.352098Z",
          "start_time": "2021-02-02T02:24:12.347112Z"
        },
        "id": "gxm1SB6my4N1",
        "outputId": "7121624c-28fc-4821-af6c-c34e548e1fa4"
      },
      "outputs": [
        {
          "data": {
            "text/plain": [
              "[[1, 2, 3], [4, 5, 6]]"
            ]
          },
          "execution_count": 7,
          "metadata": {},
          "output_type": "execute_result"
        }
      ],
      "source": [
        "ls = [[1, 2, 3], [4, 5, 6]]\n",
        "ls"
      ]
    },
    {
      "cell_type": "code",
      "execution_count": null,
      "metadata": {
        "ExecuteTime": {
          "end_time": "2021-02-02T02:25:56.448311Z",
          "start_time": "2021-02-02T02:25:56.436371Z"
        },
        "id": "T3raAPVyy4N3",
        "outputId": "625d507a-c959-4010-93ff-891cd2ffdde8"
      },
      "outputs": [
        {
          "data": {
            "text/plain": [
              "[[1, 4], [2, 5], [3, 6]]"
            ]
          },
          "execution_count": 13,
          "metadata": {},
          "output_type": "execute_result"
        }
      ],
      "source": [
        "ls2 = list(map(list, zip(*ls)))\n",
        "ls2"
      ]
    },
    {
      "cell_type": "markdown",
      "metadata": {
        "id": "c0emtdfay4N4"
      },
      "source": [
        "#### numpy 곱"
      ]
    },
    {
      "cell_type": "code",
      "execution_count": 6,
      "metadata": {
        "ExecuteTime": {
          "end_time": "2021-02-02T02:28:17.205716Z",
          "start_time": "2021-02-02T02:28:17.198762Z"
        },
        "colab": {
          "base_uri": "https://localhost:8080/",
          "height": 248
        },
        "id": "zRmX2Q4qy4N7",
        "outputId": "5c6b62c2-6b94-4f08-88b6-e3510846d09a"
      },
      "outputs": [
        {
          "output_type": "error",
          "ename": "ValueError",
          "evalue": "ignored",
          "traceback": [
            "\u001b[0;31m---------------------------------------------------------------------------\u001b[0m",
            "\u001b[0;31mValueError\u001b[0m                                Traceback (most recent call last)",
            "\u001b[0;32m<ipython-input-6-19aceb432854>\u001b[0m in \u001b[0;36m<module>\u001b[0;34m()\u001b[0m\n\u001b[1;32m      1\u001b[0m \u001b[0ma\u001b[0m \u001b[0;34m=\u001b[0m \u001b[0mnp\u001b[0m\u001b[0;34m.\u001b[0m\u001b[0marray\u001b[0m\u001b[0;34m(\u001b[0m\u001b[0mA\u001b[0m\u001b[0;34m)\u001b[0m\u001b[0;34m\u001b[0m\u001b[0;34m\u001b[0m\u001b[0m\n\u001b[1;32m      2\u001b[0m \u001b[0mb\u001b[0m \u001b[0;34m=\u001b[0m \u001b[0mnp\u001b[0m\u001b[0;34m.\u001b[0m\u001b[0marray\u001b[0m\u001b[0;34m(\u001b[0m\u001b[0mB\u001b[0m\u001b[0;34m)\u001b[0m\u001b[0;34m\u001b[0m\u001b[0;34m\u001b[0m\u001b[0m\n\u001b[0;32m----> 3\u001b[0;31m \u001b[0mnp\u001b[0m\u001b[0;34m.\u001b[0m\u001b[0mdot\u001b[0m\u001b[0;34m(\u001b[0m\u001b[0ma\u001b[0m\u001b[0;34m,\u001b[0m\u001b[0mb\u001b[0m\u001b[0;34m)\u001b[0m \u001b[0;34m,\u001b[0m \u001b[0ma\u001b[0m \u001b[0;34m@\u001b[0m \u001b[0mb\u001b[0m\u001b[0;34m,\u001b[0m \u001b[0ma\u001b[0m\u001b[0;34m.\u001b[0m\u001b[0mdot\u001b[0m\u001b[0;34m(\u001b[0m\u001b[0mb\u001b[0m\u001b[0;34m)\u001b[0m\u001b[0;34m\u001b[0m\u001b[0;34m\u001b[0m\u001b[0m\n\u001b[0m",
            "\u001b[0;32m<__array_function__ internals>\u001b[0m in \u001b[0;36mdot\u001b[0;34m(*args, **kwargs)\u001b[0m\n",
            "\u001b[0;31mValueError\u001b[0m: shapes (2,3) and (2,3) not aligned: 3 (dim 1) != 2 (dim 0)"
          ]
        }
      ],
      "source": [
        "a = np.array(A)\n",
        "b = np.array(B)\n",
        "np.dot(a,b) , a @ b, a.dot(b)"
      ]
    },
    {
      "cell_type": "markdown",
      "metadata": {
        "id": "8OdAFe2ty4N8"
      },
      "source": [
        "#### 행렬 데이터의 결합\n",
        "    concatenate"
      ]
    },
    {
      "cell_type": "code",
      "execution_count": 7,
      "metadata": {
        "ExecuteTime": {
          "end_time": "2021-02-02T06:15:22.677293Z",
          "start_time": "2021-02-02T06:15:22.671310Z"
        },
        "id": "IqxPNx4Dy4N-"
      },
      "outputs": [],
      "source": [
        "r1 = np.array([[1, 9, 8], [7, 0, 2]])\n",
        "r2 = np.array([[1, 8], [2, 2], [0, 2]])\n",
        "r3 = np.array([[7, 6, 0], [3, 5, 4], [6, 7, 9]])"
      ]
    },
    {
      "cell_type": "code",
      "execution_count": 9,
      "metadata": {
        "ExecuteTime": {
          "end_time": "2021-02-02T06:16:08.473097Z",
          "start_time": "2021-02-02T06:16:08.464149Z"
        },
        "colab": {
          "base_uri": "https://localhost:8080/"
        },
        "id": "udeg2XOKy4N-",
        "outputId": "150338f9-8dd9-4360-d57a-509aaac6a502"
      },
      "outputs": [
        {
          "output_type": "execute_result",
          "data": {
            "text/plain": [
              "array([[1, 9, 8],\n",
              "       [7, 0, 2],\n",
              "       [7, 6, 0],\n",
              "       [3, 5, 4],\n",
              "       [6, 7, 9]])"
            ]
          },
          "metadata": {},
          "execution_count": 9
        }
      ],
      "source": [
        "#np.concatenate((r1, r3), axis=0\n",
        "#np.vstack([r1,r3])\n",
        "np.r_[r1,r3]               "
      ]
    },
    {
      "cell_type": "code",
      "execution_count": null,
      "metadata": {
        "ExecuteTime": {
          "end_time": "2021-02-02T06:16:10.770099Z",
          "start_time": "2021-02-02T06:16:10.760126Z"
        },
        "id": "X7c9Ef9Ay4N_",
        "outputId": "13705c6c-aa84-453d-acde-bd38b27a38e9"
      },
      "outputs": [
        {
          "data": {
            "text/plain": [
              "array([[1, 8],\n",
              "       [2, 2],\n",
              "       [0, 2]])"
            ]
          },
          "execution_count": 30,
          "metadata": {},
          "output_type": "execute_result"
        }
      ],
      "source": [
        "r2"
      ]
    },
    {
      "cell_type": "code",
      "execution_count": null,
      "metadata": {
        "ExecuteTime": {
          "end_time": "2021-02-02T06:16:17.605085Z",
          "start_time": "2021-02-02T06:16:17.588134Z"
        },
        "id": "TPEKQuf4y4OC",
        "outputId": "c6fa9872-96aa-4e49-aa9d-890210c4ad24"
      },
      "outputs": [
        {
          "data": {
            "text/plain": [
              "array([[7, 6, 0],\n",
              "       [3, 5, 4],\n",
              "       [6, 7, 9]])"
            ]
          },
          "execution_count": 31,
          "metadata": {},
          "output_type": "execute_result"
        }
      ],
      "source": [
        "r3"
      ]
    },
    {
      "cell_type": "code",
      "execution_count": null,
      "metadata": {
        "ExecuteTime": {
          "end_time": "2021-02-02T06:16:45.873753Z",
          "start_time": "2021-02-02T06:16:45.861756Z"
        },
        "id": "Z91wiNIpy4OD",
        "outputId": "940636b7-38c2-4a31-8ea9-760dcdd89c9f"
      },
      "outputs": [
        {
          "data": {
            "text/plain": [
              "array([[1, 9, 8],\n",
              "       [7, 0, 2],\n",
              "       [7, 6, 0],\n",
              "       [3, 5, 4],\n",
              "       [6, 7, 9]])"
            ]
          },
          "execution_count": 33,
          "metadata": {},
          "output_type": "execute_result"
        }
      ],
      "source": [
        "np.concatenate((r1, r3))"
      ]
    },
    {
      "cell_type": "code",
      "execution_count": null,
      "metadata": {
        "ExecuteTime": {
          "end_time": "2021-02-02T06:17:02.178189Z",
          "start_time": "2021-02-02T06:17:02.163237Z"
        },
        "id": "Mpui0Wf5y4OE",
        "outputId": "37deeef7-75d1-4a28-88b5-918692602a97"
      },
      "outputs": [
        {
          "data": {
            "text/plain": [
              "array([[1, 8, 7, 6, 0],\n",
              "       [2, 2, 3, 5, 4],\n",
              "       [0, 2, 6, 7, 9]])"
            ]
          },
          "execution_count": 34,
          "metadata": {},
          "output_type": "execute_result"
        }
      ],
      "source": [
        "np.concatenate((r2, r3), axis=1)"
      ]
    },
    {
      "cell_type": "code",
      "execution_count": null,
      "metadata": {
        "ExecuteTime": {
          "end_time": "2021-02-02T06:18:47.460676Z",
          "start_time": "2021-02-02T06:18:47.453693Z"
        },
        "id": "Eg1o2ABQy4OF",
        "outputId": "d23c7e99-ebcb-4c1e-ed40-09d4f70bb877"
      },
      "outputs": [
        {
          "data": {
            "text/plain": [
              "array([[1, 4],\n",
              "       [2, 5],\n",
              "       [3, 6]])"
            ]
          },
          "execution_count": 36,
          "metadata": {},
          "output_type": "execute_result"
        }
      ],
      "source": [
        "ls1 = np.array([1, 2, 3])\n",
        "ls2 = np.array([4, 5, 6])\n",
        "np.c_[ls1, ls2]"
      ]
    },
    {
      "cell_type": "code",
      "execution_count": null,
      "metadata": {
        "ExecuteTime": {
          "end_time": "2021-02-02T06:18:53.783295Z",
          "start_time": "2021-02-02T06:18:53.779316Z"
        },
        "id": "OQ9M0NJ3y4OF",
        "outputId": "3fcf3fdc-5295-49a2-baaf-19e381b4645b"
      },
      "outputs": [
        {
          "data": {
            "text/plain": [
              "array([1, 2, 3, 4, 5, 6])"
            ]
          },
          "execution_count": 37,
          "metadata": {},
          "output_type": "execute_result"
        }
      ],
      "source": [
        "np.r_[ls1, ls2]"
      ]
    },
    {
      "cell_type": "markdown",
      "metadata": {
        "id": "JiJhSetLy4OG"
      },
      "source": [
        "### Quiz\n",
        "    위 행렬의 곱을 for문으로 작성하면?"
      ]
    },
    {
      "cell_type": "code",
      "execution_count": null,
      "metadata": {
        "ExecuteTime": {
          "end_time": "2021-02-02T03:29:52.528895Z",
          "start_time": "2021-02-02T03:29:52.513896Z"
        },
        "id": "QsDJfw8dy4OH",
        "outputId": "5ee98dc6-4594-4d77-a713-9bba63abe9ba"
      },
      "outputs": [
        {
          "name": "stdout",
          "output_type": "stream",
          "text": [
            "2 3\n"
          ]
        }
      ],
      "source": [
        "A = [[1, 2, 3], [4, 5, 6]]\n",
        "B = [[6, 5],[4, 3], [2, 1]]\n",
        "print(len(A), len(B))"
      ]
    },
    {
      "cell_type": "code",
      "execution_count": null,
      "metadata": {
        "ExecuteTime": {
          "end_time": "2021-02-02T03:32:52.050689Z",
          "start_time": "2021-02-02T03:32:52.038717Z"
        },
        "id": "nW_tfj0Yy4OI",
        "outputId": "562906d4-add1-4d4e-81b0-fc8203bed6ed"
      },
      "outputs": [
        {
          "data": {
            "text/plain": [
              "[[20, 14], [56, 41]]"
            ]
          },
          "execution_count": 24,
          "metadata": {},
          "output_type": "execute_result"
        }
      ],
      "source": [
        "res = [[0 for i in range(len(B[0]))]for _ in range(len(A))]\n",
        "for i in range(len(A)): # 행\n",
        "    for j in range(len(B[0])): # 행\n",
        "        for k in range(len(A[0])):\n",
        "            res[i][j] += A[i][k] * B[k][j]\n",
        "            \n",
        "res"
      ]
    }
  ],
  "metadata": {
    "hide_input": false,
    "kernelspec": {
      "display_name": "Python 3",
      "language": "python",
      "name": "python3"
    },
    "language_info": {
      "codemirror_mode": {
        "name": "ipython",
        "version": 3
      },
      "file_extension": ".py",
      "mimetype": "text/x-python",
      "name": "python",
      "nbconvert_exporter": "python",
      "pygments_lexer": "ipython3",
      "version": "3.8.5"
    },
    "toc": {
      "base_numbering": 1,
      "nav_menu": {},
      "number_sections": true,
      "sideBar": true,
      "skip_h1_title": false,
      "title_cell": "Table of Contents",
      "title_sidebar": "Contents",
      "toc_cell": false,
      "toc_position": {},
      "toc_section_display": true,
      "toc_window_display": false
    },
    "varInspector": {
      "cols": {
        "lenName": 16,
        "lenType": 16,
        "lenVar": 40
      },
      "kernels_config": {
        "python": {
          "delete_cmd_postfix": "",
          "delete_cmd_prefix": "del ",
          "library": "var_list.py",
          "varRefreshCmd": "print(var_dic_list())"
        },
        "r": {
          "delete_cmd_postfix": ") ",
          "delete_cmd_prefix": "rm(",
          "library": "var_list.r",
          "varRefreshCmd": "cat(var_dic_list()) "
        }
      },
      "types_to_exclude": [
        "module",
        "function",
        "builtin_function_or_method",
        "instance",
        "_Feature"
      ],
      "window_display": false
    },
    "colab": {
      "name": "lesson 02. numpy 2 - matrix operation, quiz.ipynb",
      "provenance": [],
      "include_colab_link": true
    }
  },
  "nbformat": 4,
  "nbformat_minor": 0
}