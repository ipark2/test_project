{
  "cells": [
    {
      "cell_type": "markdown",
      "metadata": {
        "id": "view-in-github",
        "colab_type": "text"
      },
      "source": [
        "<a href=\"https://colab.research.google.com/github/ipark2/test_project/blob/main/lesson_04_operator(%EC%97%B0%EC%82%B0%EC%9E%90).ipynb\" target=\"_parent\"><img src=\"https://colab.research.google.com/assets/colab-badge.svg\" alt=\"Open In Colab\"/></a>"
      ]
    },
    {
      "cell_type": "markdown",
      "metadata": {
        "id": "EdUFrdbbl-wc"
      },
      "source": [
        "### 연산자\n",
        "    - 산술\n",
        "    - 할당\n",
        "    - 비교\n",
        "    - 논리\n",
        "    - 멤버"
      ]
    },
    {
      "cell_type": "markdown",
      "metadata": {
        "id": "Es33FJOIl-wh"
      },
      "source": [
        "#### 산술\n",
        "    +, -, *, /, //, %, **"
      ]
    },
    {
      "cell_type": "code",
      "execution_count": 1,
      "metadata": {
        "id": "Obwwmae4l-wi",
        "colab": {
          "base_uri": "https://localhost:8080/"
        },
        "outputId": "237dbc2e-11c7-47a8-9d8e-900b9f179270"
      },
      "outputs": [
        {
          "output_type": "execute_result",
          "data": {
            "text/plain": [
              "6.0"
            ]
          },
          "metadata": {},
          "execution_count": 1
        }
      ],
      "source": [
        "8 - 4*2 / 2**2"
      ]
    },
    {
      "cell_type": "markdown",
      "metadata": {
        "id": "N9rtuBxCl-wj"
      },
      "source": [
        "#### 할당"
      ]
    },
    {
      "cell_type": "code",
      "execution_count": 6,
      "metadata": {
        "id": "PxJ4rOayl-wj",
        "colab": {
          "base_uri": "https://localhost:8080/"
        },
        "outputId": "04f09b3c-c236-4f46-fc75-a7b52ef4030b"
      },
      "outputs": [
        {
          "output_type": "execute_result",
          "data": {
            "text/plain": [
              "121"
            ]
          },
          "metadata": {},
          "execution_count": 6
        }
      ],
      "source": [
        "# 변수 선언, list, tuple, dic\n",
        "# int, float, string\n",
        "a = 100\n",
        "a *= 1.1 \n",
        "a *= 1.1\n",
        "int(a)"
      ]
    },
    {
      "cell_type": "code",
      "execution_count": 8,
      "metadata": {
        "id": "pGOoz9kUl-wk",
        "colab": {
          "base_uri": "https://localhost:8080/"
        },
        "outputId": "9aa85a26-38f5-4173-c65d-064a8464cecf"
      },
      "outputs": [
        {
          "output_type": "stream",
          "name": "stdout",
          "text": [
            "1\n",
            "3\n",
            "6\n",
            "10\n",
            "15\n",
            "21\n",
            "28\n",
            "36\n",
            "45\n",
            "55\n"
          ]
        }
      ],
      "source": [
        "# blank\n",
        "b = 0\n",
        "\n",
        "for i in range(1, 11):\n",
        "    b += i\n",
        "    print(b)"
      ]
    },
    {
      "cell_type": "markdown",
      "metadata": {
        "id": "WhGoOc1zl-wl"
      },
      "source": [
        "#### 비교\n",
        "    >, <, >=, <=, ==, !=\n",
        "    결과값이 True, False"
      ]
    },
    {
      "cell_type": "code",
      "execution_count": 11,
      "metadata": {
        "id": "c9IvDY9nl-wl",
        "colab": {
          "base_uri": "https://localhost:8080/"
        },
        "outputId": "4d5b67ed-32cc-4074-adb4-d85791ff766d"
      },
      "outputs": [
        {
          "output_type": "execute_result",
          "data": {
            "text/plain": [
              "False"
            ]
          },
          "metadata": {},
          "execution_count": 11
        }
      ],
      "source": [
        "# blank\n",
        "c = 5\n",
        "d = 8\n",
        "c == d"
      ]
    },
    {
      "cell_type": "markdown",
      "metadata": {
        "id": "7GPG_Goul-wm"
      },
      "source": [
        "#### 논리 \n",
        "    and, or, not\n",
        "    True, False로 나타내는 연산\n",
        "    연산은 앞에서부터 순서대로 진행"
      ]
    },
    {
      "cell_type": "code",
      "execution_count": 15,
      "metadata": {
        "id": "n3TPm0PEl-wm",
        "colab": {
          "base_uri": "https://localhost:8080/"
        },
        "outputId": "7791e9f1-238f-457a-d05c-62712f431e5a"
      },
      "outputs": [
        {
          "output_type": "stream",
          "name": "stdout",
          "text": [
            "False True True\n",
            "False\n"
          ]
        }
      ],
      "source": [
        "# blank\n",
        "print(True and False, True and True, True or False)\n",
        "print(False and False)"
      ]
    },
    {
      "cell_type": "markdown",
      "metadata": {
        "id": "KZlXYwOJl-wn"
      },
      "source": [
        "#### 멤버\n",
        "    in, not in\n",
        "    특정 데이터가 있는지 확인할 때 사용"
      ]
    },
    {
      "cell_type": "code",
      "execution_count": 16,
      "metadata": {
        "id": "tNj-_A6el-wn",
        "colab": {
          "base_uri": "https://localhost:8080/"
        },
        "outputId": "7557e195-af27-4e0e-92e8-02d2a2c21cd4"
      },
      "outputs": [
        {
          "output_type": "execute_result",
          "data": {
            "text/plain": [
              "(True, False)"
            ]
          },
          "metadata": {},
          "execution_count": 16
        }
      ],
      "source": [
        "# exists\n",
        "ls = ['python', 'is', 'very', 'easy']\n",
        "'python' in ls, 'hard' in ls"
      ]
    }
  ],
  "metadata": {
    "kernelspec": {
      "display_name": "Python 3",
      "language": "python",
      "name": "python3"
    },
    "language_info": {
      "codemirror_mode": {
        "name": "ipython",
        "version": 3
      },
      "file_extension": ".py",
      "mimetype": "text/x-python",
      "name": "python",
      "nbconvert_exporter": "python",
      "pygments_lexer": "ipython3",
      "version": "3.8.5"
    },
    "toc": {
      "base_numbering": 1,
      "nav_menu": {},
      "number_sections": true,
      "sideBar": true,
      "skip_h1_title": false,
      "title_cell": "Table of Contents",
      "title_sidebar": "Contents",
      "toc_cell": false,
      "toc_position": {},
      "toc_section_display": true,
      "toc_window_display": false
    },
    "colab": {
      "name": "lesson 04. operator(연산자).ipynb",
      "provenance": [],
      "collapsed_sections": [],
      "include_colab_link": true
    }
  },
  "nbformat": 4,
  "nbformat_minor": 0
}