{
  "cells": [
    {
      "cell_type": "markdown",
      "metadata": {
        "id": "view-in-github",
        "colab_type": "text"
      },
      "source": [
        "<a href=\"https://colab.research.google.com/github/ipark2/test_project/blob/main/lesson_11_function1_%EC%84%A0%EC%96%B8%2C_%ED%98%B8%EC%B6%9C%2C_return%2C_param%2C_args%2C_kwargs.ipynb\" target=\"_parent\"><img src=\"https://colab.research.google.com/assets/colab-badge.svg\" alt=\"Open In Colab\"/></a>"
      ]
    },
    {
      "cell_type": "markdown",
      "metadata": {
        "id": "ZlgY2VP8OAmS"
      },
      "source": [
        "## Function\n",
        "    - 특정 목적을 위해 작성한 코드(연산)의 집합\n",
        "    - 독립적인 호출과 간결한 코드 작성을 위해 사용 : 코드 작성의 반복을 줄일 수 있음!\n",
        "    - 복잡한 프로그래밍 작업을 더 간단한 작업들로 분해할 수 있다.\n",
        "    - 한 번 작성하면 재사용이 편하다.\n",
        "    - 가독성 및 코드 유지 관리가 쉬워진다.\n",
        "    "
      ]
    },
    {
      "cell_type": "code",
      "execution_count": 1,
      "metadata": {
        "id": "rNuG75iFOAmU",
        "colab": {
          "base_uri": "https://localhost:8080/"
        },
        "outputId": "b06843cd-1603-458f-8fb5-58704ca334bf"
      },
      "outputs": [
        {
          "output_type": "execute_result",
          "data": {
            "text/plain": [
              "375"
            ]
          },
          "metadata": {},
          "execution_count": 1
        }
      ],
      "source": [
        "score = 0 # 다 더하기\n",
        "\n",
        "test = [100, 90, 50, 65, 70]\n",
        "\n",
        "for s in test:\n",
        "    score += s\n",
        "\n",
        "score"
      ]
    },
    {
      "cell_type": "code",
      "execution_count": 2,
      "metadata": {
        "id": "64yO1ImQOAmU",
        "colab": {
          "base_uri": "https://localhost:8080/"
        },
        "outputId": "7882fe6a-e169-4f23-adf8-0354dce3d84e"
      },
      "outputs": [
        {
          "output_type": "execute_result",
          "data": {
            "text/plain": [
              "686"
            ]
          },
          "metadata": {},
          "execution_count": 2
        }
      ],
      "source": [
        "test2 = [50, 22, 29, 100, 10, 100]\n",
        "for s in test2:\n",
        "    score += s\n",
        "\n",
        "score\n"
      ]
    },
    {
      "cell_type": "markdown",
      "metadata": {
        "id": "ZiAaLZoHOAmU"
      },
      "source": [
        "    같은 연산의 코드 작성을 반복해서 써야하므로 불편하고 힘들고 간단히 만들어보자!\n",
        "    "
      ]
    },
    {
      "cell_type": "markdown",
      "metadata": {
        "id": "k0CmIrruOAmV"
      },
      "source": [
        "### 함수의 선언과 호출"
      ]
    },
    {
      "cell_type": "markdown",
      "metadata": {
        "id": "Y2fEY16rOAmV"
      },
      "source": [
        "#### 선언\n",
        "```python\n",
        "def 함수명(param1, param2, ...):\n",
        "    # 작성하고 싶은 코드 구문\n",
        "    #..\n",
        "    #..\n",
        "    return 결과값\n",
        "```"
      ]
    },
    {
      "cell_type": "code",
      "execution_count": 3,
      "metadata": {
        "id": "dFDtjlSAOAmW"
      },
      "outputs": [],
      "source": [
        "def score(test): # 함수작성???\n",
        "    point = 0\n",
        "    for s in test:\n",
        "        point += s\n",
        "    return point"
      ]
    },
    {
      "cell_type": "code",
      "execution_count": 6,
      "metadata": {
        "id": "acJzjslYOAmW",
        "colab": {
          "base_uri": "https://localhost:8080/"
        },
        "outputId": "9b450742-a7d3-4538-d04b-e9ef56381cb9"
      },
      "outputs": [
        {
          "output_type": "stream",
          "name": "stdout",
          "text": [
            "320\n"
          ]
        }
      ],
      "source": [
        "# test\n",
        "test1 = [100, 50, 75, 65, 30]\n",
        "test2 = [50, 40, 25, 15, 11, 20]\n",
        "\n",
        "print(score(test1))\n",
        "#print(score(test2, 20)) # 에러 발생"
      ]
    },
    {
      "cell_type": "code",
      "execution_count": 9,
      "metadata": {
        "id": "7iNYEZ8iOAmX",
        "colab": {
          "base_uri": "https://localhost:8080/"
        },
        "outputId": "e5df8511-376b-4108-f55a-e6ac42bf4c3c"
      },
      "outputs": [
        {
          "output_type": "execute_result",
          "data": {
            "text/plain": [
              "62.800000000000004"
            ]
          },
          "metadata": {},
          "execution_count": 9
        }
      ],
      "source": [
        "def get_area(radius):\n",
        "  return 3.14*radius*2\n",
        "  \n",
        "get_area(10)"
      ]
    },
    {
      "cell_type": "markdown",
      "metadata": {
        "id": "sFgb1Y_AOAmY"
      },
      "source": [
        "##### quiz\n",
        "    1. 정수를 제곱하는 함수\n",
        "    2. 평균을 구하는 함수"
      ]
    },
    {
      "cell_type": "code",
      "execution_count": 11,
      "metadata": {
        "id": "6SLbISyiOAmY",
        "colab": {
          "base_uri": "https://localhost:8080/"
        },
        "outputId": "65642808-62de-4f04-e2e4-a21a6f890147"
      },
      "outputs": [
        {
          "output_type": "stream",
          "name": "stdout",
          "text": [
            "100\n"
          ]
        },
        {
          "output_type": "execute_result",
          "data": {
            "text/plain": [
              "(None, 15.0)"
            ]
          },
          "metadata": {},
          "execution_count": 11
        }
      ],
      "source": [
        "# 함수 작성\n",
        "def square(n):\n",
        "  return n**2\n",
        "\n",
        "def average(n1,n2):\n",
        "  return (n1+n2)/2\n",
        "\n",
        "\n",
        "print(square(10)), average(10,20)\n"
      ]
    },
    {
      "cell_type": "code",
      "execution_count": null,
      "metadata": {
        "id": "Of3ocjhFOAmY"
      },
      "outputs": [],
      "source": [
        "# blank"
      ]
    },
    {
      "cell_type": "markdown",
      "metadata": {
        "id": "H_8wE074OAmZ"
      },
      "source": [
        "#### 호출"
      ]
    },
    {
      "cell_type": "markdown",
      "metadata": {
        "id": "CufwpkqiOAmZ"
      },
      "source": [
        "##### parameter, argument\n",
        "```python\n",
        "    def 함수명(파라미터):\n",
        "        return\n",
        "    \n",
        "    함수명(아규먼트)\n",
        "```\n",
        "    - 파라미터는 함수를 선언할 때 호출할 변수\n",
        "    - 아규먼트는 함수를 호출할 때 보내줄 변수\n",
        "    - 함수를 선언할 때 파라미터의 타입과 개수를 맞추지 않으면 에러가 발생"
      ]
    },
    {
      "cell_type": "code",
      "execution_count": 12,
      "metadata": {
        "id": "J-vqkB2FOAma",
        "colab": {
          "base_uri": "https://localhost:8080/"
        },
        "outputId": "1d2d30fe-d0ca-4cf1-8e1d-7086e197b8bd"
      },
      "outputs": [
        {
          "output_type": "execute_result",
          "data": {
            "text/plain": [
              "400"
            ]
          },
          "metadata": {},
          "execution_count": 12
        }
      ],
      "source": [
        "def bowling(n1, n2, n3=50): # adv 이름의 파라미터는 디폴트 파라미터\n",
        "    return n1+n2+n3\n",
        "bowling(200, 150) # adv 파라미터에 값을 넣어주지 않아도 디폴트 값을 이용해서 실행"
      ]
    },
    {
      "cell_type": "code",
      "execution_count": 13,
      "metadata": {
        "id": "dMmkhbYmOAma",
        "colab": {
          "base_uri": "https://localhost:8080/"
        },
        "outputId": "b1eca9e6-7664-4370-e782-ed6742db3c4f"
      },
      "outputs": [
        {
          "output_type": "execute_result",
          "data": {
            "text/plain": [
              "(350, 360)"
            ]
          },
          "metadata": {},
          "execution_count": 13
        }
      ],
      "source": [
        "bowling(200,150,0), bowling(200, 150, n3=10)"
      ]
    },
    {
      "cell_type": "markdown",
      "metadata": {
        "id": "qh2HMFeCOAma"
      },
      "source": [
        "return\n",
        "    - 선언한 함수의 결과값을 저장\n",
        "    - 함수내에서 연산 진행중에 return에 도달하면 연산이 종료\n",
        "    - return을 작성하지 않으면 결과값을 저장하지 않음"
      ]
    },
    {
      "cell_type": "code",
      "execution_count": 14,
      "metadata": {
        "id": "1CyxJHT8OAmb",
        "colab": {
          "base_uri": "https://localhost:8080/",
          "height": 35
        },
        "outputId": "5570b6a7-e3fa-4c3b-f5bb-2055dcea26ad"
      },
      "outputs": [
        {
          "output_type": "execute_result",
          "data": {
            "text/plain": [
              "'HELLO PYTHON'"
            ],
            "application/vnd.google.colaboratory.intrinsic+json": {
              "type": "string"
            }
          },
          "metadata": {},
          "execution_count": 14
        }
      ],
      "source": [
        "def print_test(text):\n",
        "    return text.upper() # 앞에 있는 변수가 문자라면 전부 대문자로 만들어준다.\n",
        "\n",
        "text = \"hello python\"\n",
        "print_test(text)"
      ]
    },
    {
      "cell_type": "code",
      "execution_count": 20,
      "metadata": {
        "id": "q0kAqsVEOAmb",
        "colab": {
          "base_uri": "https://localhost:8080/",
          "height": 54
        },
        "outputId": "f1f355db-a502-4ec3-de3b-f964b8bc5197"
      },
      "outputs": [
        {
          "output_type": "stream",
          "name": "stdout",
          "text": [
            "HELLO PYTHON\n"
          ]
        },
        {
          "output_type": "execute_result",
          "data": {
            "text/plain": [
              "'hello python'"
            ],
            "application/vnd.google.colaboratory.intrinsic+json": {
              "type": "string"
            }
          },
          "metadata": {},
          "execution_count": 20
        }
      ],
      "source": [
        "def print_test(text):\n",
        "    print(text.upper())\n",
        "    return text.upper()\n",
        "text = \"hello python\"\n",
        "# print_test(text)\n",
        "print_test(text).lower() #저장된 결과 값이 없으므로 lower()함수를 실행시킬 수 없음"
      ]
    },
    {
      "cell_type": "code",
      "execution_count": 21,
      "metadata": {
        "id": "l62n5RtrOAmb",
        "colab": {
          "base_uri": "https://localhost:8080/"
        },
        "outputId": "886ceea1-e83d-4bd6-877b-58cef74a3951"
      },
      "outputs": [
        {
          "output_type": "stream",
          "name": "stdout",
          "text": [
            "12\n",
            "3\n",
            "Clear!\n"
          ]
        },
        {
          "output_type": "execute_result",
          "data": {
            "text/plain": [
              "(False, False, True)"
            ]
          },
          "metadata": {},
          "execution_count": 21
        }
      ],
      "source": [
        "# 함수 연산을 중단 시키는 예제\n",
        "\n",
        "def alpha_check(text):\n",
        "  for t in text:\n",
        "      if t.isalpha(): # isalpha() : str타입의 변수가 알파벳으로 구성되어있으면 True. 아니면 False를 반환하는 함수\n",
        "          continue\n",
        "      else:\n",
        "          print(text. index(t)+1)\n",
        "          return False\n",
        "  print(\"Clear!\")\n",
        "  return True\n",
        "\n",
        "text = 'abcdeFgHijk1op'\n",
        "text2 = 'mn2asd'\n",
        "text3 = 'easyupclass'\n",
        "alpha_check(text), alpha_check(text2), alpha_check(text3)"
      ]
    },
    {
      "cell_type": "markdown",
      "metadata": {
        "id": "LxRXaW-mOAmc"
      },
      "source": [
        "#### arguments와 keyword arguments\n",
        "    - 인수의 이름을 지정해서 parameter로 전달한다. \n",
        "    - 인수의 위치가 매개변수의 순서와 달라도 가능하다.\n",
        "    - positional argument라고도 한다.\n",
        "    - keyword args의 경우 아규먼트로 함수 호출 시 키워드를 작성하여 호출하며 반드시 다른 arguments 뒤에 존재해야 한다.\n"
      ]
    },
    {
      "cell_type": "code",
      "execution_count": 22,
      "metadata": {
        "id": "P2kcHW3COAmc",
        "colab": {
          "base_uri": "https://localhost:8080/"
        },
        "outputId": "11eb9471-b418-48a3-e60b-650a652a01ba"
      },
      "outputs": [
        {
          "output_type": "execute_result",
          "data": {
            "text/plain": [
              "5"
            ]
          },
          "metadata": {},
          "execution_count": 22
        }
      ],
      "source": [
        "def operation(a=0,b=0,c=0): # a,b,c 는 keyword argument\n",
        "  return a*b+c\n",
        "\n",
        "operation(1,2,3)"
      ]
    },
    {
      "cell_type": "code",
      "source": [
        "# operation(1,c=33)\n",
        "operation(1,a=2) # 파라미터가 겹칠 가능성도 존재할 때"
      ],
      "metadata": {
        "colab": {
          "base_uri": "https://localhost:8080/",
          "height": 193
        },
        "id": "93gEPSEKW_dn",
        "outputId": "943fcc97-e090-45ad-9a62-f733ec0ab5cf"
      },
      "execution_count": 23,
      "outputs": [
        {
          "output_type": "error",
          "ename": "TypeError",
          "evalue": "ignored",
          "traceback": [
            "\u001b[0;31m---------------------------------------------------------------------------\u001b[0m",
            "\u001b[0;31mTypeError\u001b[0m                                 Traceback (most recent call last)",
            "\u001b[0;32m<ipython-input-23-686215009ab5>\u001b[0m in \u001b[0;36m<module>\u001b[0;34m()\u001b[0m\n\u001b[1;32m      1\u001b[0m \u001b[0;31m# operation(1,c=33)\u001b[0m\u001b[0;34m\u001b[0m\u001b[0;34m\u001b[0m\u001b[0;34m\u001b[0m\u001b[0m\n\u001b[0;32m----> 2\u001b[0;31m \u001b[0moperation\u001b[0m\u001b[0;34m(\u001b[0m\u001b[0;36m1\u001b[0m\u001b[0;34m,\u001b[0m\u001b[0ma\u001b[0m\u001b[0;34m=\u001b[0m\u001b[0;36m2\u001b[0m\u001b[0;34m)\u001b[0m \u001b[0;31m# 파라미터가 겹칠 가능성도 존재할 때\u001b[0m\u001b[0;34m\u001b[0m\u001b[0;34m\u001b[0m\u001b[0m\n\u001b[0m",
            "\u001b[0;31mTypeError\u001b[0m: operation() got multiple values for argument 'a'"
          ]
        }
      ]
    },
    {
      "cell_type": "markdown",
      "source": [
        "####  가변 인수\n",
        "  - 함수 선언시 파라미터의 수를 특정할 수 없을 경우 사용\n",
        "  - asterisk(*) 를 사용한다.\n",
        "  - *args는 가변길이 인수를 전달, 튜플 타입\n",
        "  - **kwargs는 키워드 인수를 전달, 딕셔너리 타입\n",
        "  - 가변 인수는 튜플이나 리스트 등으로 for 문으로 사용가능하다."
      ],
      "metadata": {
        "id": "vQjZ35ccuJ02"
      }
    },
    {
      "cell_type": "code",
      "source": [
        "def hap(num,*args, **kwargs):\n",
        "    print(type(num), num)\n",
        "    print(type(args), args)\n",
        "    print(type(kwargs), kwargs)\n",
        "    return num+sum(args) + sum(list(kwargs.values()))\n",
        "\n",
        "# hap(1)\n",
        "hap(1,2,3, num1=4, num2=5)"
      ],
      "metadata": {
        "id": "SEEX00vuuLsy",
        "colab": {
          "base_uri": "https://localhost:8080/"
        },
        "outputId": "6ee11b85-0fcb-4b88-e679-e2cffbc60229"
      },
      "execution_count": 26,
      "outputs": [
        {
          "output_type": "stream",
          "name": "stdout",
          "text": [
            "<class 'int'> 1\n",
            "<class 'tuple'> (2, 3)\n",
            "<class 'dict'> {'num1': 4, 'num2': 5}\n"
          ]
        },
        {
          "output_type": "execute_result",
          "data": {
            "text/plain": [
              "15"
            ]
          },
          "metadata": {},
          "execution_count": 26
        }
      ]
    },
    {
      "cell_type": "markdown",
      "metadata": {
        "id": "mTc2UpusOAmc"
      },
      "source": [
        "##### list타입 데이터를 args로 호출하는 방법"
      ]
    },
    {
      "cell_type": "code",
      "execution_count": 29,
      "metadata": {
        "id": "lKjCYc4DOAmc",
        "colab": {
          "base_uri": "https://localhost:8080/"
        },
        "outputId": "6414bfb6-c237-44c2-ddc4-2ceb712d90a3"
      },
      "outputs": [
        {
          "output_type": "execute_result",
          "data": {
            "text/plain": [
              "32"
            ]
          },
          "metadata": {},
          "execution_count": 29
        }
      ],
      "source": [
        "def multiply(n1, n2, n3):\n",
        "    return n1 * n2 ** n3\n",
        "\n",
        "ls = [2, 2, 4]\n",
        "multiply(*ls) # list 타입 데이터를 함수에 선언한 파라미터에 각각 대입"
      ]
    },
    {
      "cell_type": "code",
      "execution_count": 30,
      "metadata": {
        "id": "M4PhpNpHOAmd",
        "colab": {
          "base_uri": "https://localhost:8080/",
          "height": 193
        },
        "outputId": "87a864f7-4904-4b96-c1d4-b8978981544f"
      },
      "outputs": [
        {
          "output_type": "error",
          "ename": "NameError",
          "evalue": "ignored",
          "traceback": [
            "\u001b[0;31m---------------------------------------------------------------------------\u001b[0m",
            "\u001b[0;31mNameError\u001b[0m                                 Traceback (most recent call last)",
            "\u001b[0;32m<ipython-input-30-d11580455021>\u001b[0m in \u001b[0;36m<module>\u001b[0;34m()\u001b[0m\n\u001b[1;32m      1\u001b[0m \u001b[0mls2\u001b[0m \u001b[0;34m=\u001b[0m \u001b[0;34m[\u001b[0m\u001b[0;36m2\u001b[0m\u001b[0;34m,\u001b[0m \u001b[0;36m3\u001b[0m\u001b[0;34m,\u001b[0m \u001b[0;36m4\u001b[0m\u001b[0;34m,\u001b[0m \u001b[0;36m5\u001b[0m\u001b[0;34m]\u001b[0m\u001b[0;34m\u001b[0m\u001b[0;34m\u001b[0m\u001b[0m\n\u001b[0;32m----> 2\u001b[0;31m \u001b[0mgop\u001b[0m\u001b[0;34m(\u001b[0m\u001b[0;34m*\u001b[0m\u001b[0mls2\u001b[0m\u001b[0;34m)\u001b[0m \u001b[0;31m# 함수 선언시 *args로 선언하지 않고 파라미터의 개수가 맞지 않아서 오류 발생\u001b[0m\u001b[0;34m\u001b[0m\u001b[0;34m\u001b[0m\u001b[0m\n\u001b[0m",
            "\u001b[0;31mNameError\u001b[0m: name 'gop' is not defined"
          ]
        }
      ],
      "source": [
        "ls2 = [2, 3, 4, 5]\n",
        "gop(*ls2) # 함수 선언시 *args로 선언하지 않고 파라미터의 개수가 맞지 않아서 오류 발생"
      ]
    },
    {
      "cell_type": "code",
      "execution_count": 31,
      "metadata": {
        "id": "S_gXLlfHOAmd",
        "colab": {
          "base_uri": "https://localhost:8080/",
          "height": 339
        },
        "outputId": "ac68480f-32e0-4b18-c425-3e8b5ba965c2"
      },
      "outputs": [
        {
          "output_type": "error",
          "ename": "TypeError",
          "evalue": "ignored",
          "traceback": [
            "\u001b[0;31m---------------------------------------------------------------------------\u001b[0m",
            "\u001b[0;31mTypeError\u001b[0m                                 Traceback (most recent call last)",
            "\u001b[0;32m<ipython-input-31-3ead29fc47c0>\u001b[0m in \u001b[0;36m<module>\u001b[0;34m()\u001b[0m\n\u001b[1;32m      3\u001b[0m \u001b[0;31m# hap2(ls2)\u001b[0m\u001b[0;34m\u001b[0m\u001b[0;34m\u001b[0m\u001b[0;34m\u001b[0m\u001b[0m\n\u001b[1;32m      4\u001b[0m \u001b[0mls3\u001b[0m \u001b[0;34m=\u001b[0m \u001b[0;34m[\u001b[0m\u001b[0;36m1\u001b[0m\u001b[0;34m,\u001b[0m \u001b[0;36m2\u001b[0m\u001b[0;34m,\u001b[0m \u001b[0;36m3\u001b[0m\u001b[0;34m]\u001b[0m\u001b[0;34m\u001b[0m\u001b[0;34m\u001b[0m\u001b[0m\n\u001b[0;32m----> 5\u001b[0;31m \u001b[0mhap2\u001b[0m\u001b[0;34m(\u001b[0m\u001b[0mls3\u001b[0m\u001b[0;34m)\u001b[0m \u001b[0;31m# 호출하는 argument 타입이 직접 입력이 아닌 경우에도 에러가 발생\u001b[0m\u001b[0;34m\u001b[0m\u001b[0;34m\u001b[0m\u001b[0m\n\u001b[0m",
            "\u001b[0;32m<ipython-input-31-3ead29fc47c0>\u001b[0m in \u001b[0;36mhap2\u001b[0;34m(*args)\u001b[0m\n\u001b[1;32m      1\u001b[0m \u001b[0;32mdef\u001b[0m \u001b[0mhap2\u001b[0m\u001b[0;34m(\u001b[0m\u001b[0;34m*\u001b[0m\u001b[0margs\u001b[0m\u001b[0;34m)\u001b[0m\u001b[0;34m:\u001b[0m\u001b[0;34m\u001b[0m\u001b[0;34m\u001b[0m\u001b[0m\n\u001b[0;32m----> 2\u001b[0;31m     \u001b[0;32mreturn\u001b[0m \u001b[0msum\u001b[0m\u001b[0;34m(\u001b[0m\u001b[0margs\u001b[0m\u001b[0;34m)\u001b[0m\u001b[0;34m\u001b[0m\u001b[0;34m\u001b[0m\u001b[0m\n\u001b[0m\u001b[1;32m      3\u001b[0m \u001b[0;31m# hap2(ls2)\u001b[0m\u001b[0;34m\u001b[0m\u001b[0;34m\u001b[0m\u001b[0;34m\u001b[0m\u001b[0m\n\u001b[1;32m      4\u001b[0m \u001b[0mls3\u001b[0m \u001b[0;34m=\u001b[0m \u001b[0;34m[\u001b[0m\u001b[0;36m1\u001b[0m\u001b[0;34m,\u001b[0m \u001b[0;36m2\u001b[0m\u001b[0;34m,\u001b[0m \u001b[0;36m3\u001b[0m\u001b[0;34m]\u001b[0m\u001b[0;34m\u001b[0m\u001b[0;34m\u001b[0m\u001b[0m\n\u001b[1;32m      5\u001b[0m \u001b[0mhap2\u001b[0m\u001b[0;34m(\u001b[0m\u001b[0mls3\u001b[0m\u001b[0;34m)\u001b[0m \u001b[0;31m# 호출하는 argument 타입이 직접 입력이 아닌 경우에도 에러가 발생\u001b[0m\u001b[0;34m\u001b[0m\u001b[0;34m\u001b[0m\u001b[0m\n",
            "\u001b[0;31mTypeError\u001b[0m: unsupported operand type(s) for +: 'int' and 'list'"
          ]
        }
      ],
      "source": [
        "def hap2(*args):\n",
        "    return sum(args)\n",
        "\n",
        "# hap2(ls2)\n",
        "ls3 = [1, 2, 3]\n",
        "hap2(ls3) # 호출하는 argument 타입이 직접 입력이 아닌 경우에도 에러가 발생"
      ]
    },
    {
      "cell_type": "code",
      "execution_count": 32,
      "metadata": {
        "id": "VjoWt3D_OAmd",
        "colab": {
          "base_uri": "https://localhost:8080/"
        },
        "outputId": "f3ce1306-aaec-47c5-f7ee-f25d366a4710"
      },
      "outputs": [
        {
          "output_type": "execute_result",
          "data": {
            "text/plain": [
              "(6, 6)"
            ]
          },
          "metadata": {},
          "execution_count": 32
        }
      ],
      "source": [
        "hap2(1, 2, 3), hap2(*ls3)"
      ]
    },
    {
      "cell_type": "code",
      "source": [
        ""
      ],
      "metadata": {
        "id": "LSgw8HvSZj1k"
      },
      "execution_count": null,
      "outputs": []
    }
  ],
  "metadata": {
    "hide_input": false,
    "kernelspec": {
      "display_name": "Python 3",
      "language": "python",
      "name": "python3"
    },
    "language_info": {
      "codemirror_mode": {
        "name": "ipython",
        "version": 3
      },
      "file_extension": ".py",
      "mimetype": "text/x-python",
      "name": "python",
      "nbconvert_exporter": "python",
      "pygments_lexer": "ipython3",
      "version": "3.8.5"
    },
    "toc": {
      "base_numbering": 1,
      "nav_menu": {},
      "number_sections": true,
      "sideBar": true,
      "skip_h1_title": false,
      "title_cell": "Table of Contents",
      "title_sidebar": "Contents",
      "toc_cell": false,
      "toc_position": {
        "height": "calc(100% - 180px)",
        "left": "10px",
        "top": "150px",
        "width": "384px"
      },
      "toc_section_display": true,
      "toc_window_display": false
    },
    "varInspector": {
      "cols": {
        "lenName": 16,
        "lenType": 16,
        "lenVar": 40
      },
      "kernels_config": {
        "python": {
          "delete_cmd_postfix": "",
          "delete_cmd_prefix": "del ",
          "library": "var_list.py",
          "varRefreshCmd": "print(var_dic_list())"
        },
        "r": {
          "delete_cmd_postfix": ") ",
          "delete_cmd_prefix": "rm(",
          "library": "var_list.r",
          "varRefreshCmd": "cat(var_dic_list()) "
        }
      },
      "types_to_exclude": [
        "module",
        "function",
        "builtin_function_or_method",
        "instance",
        "_Feature"
      ],
      "window_display": false
    },
    "colab": {
      "name": "lesson 11. function1 - 선언, 호출, return, param, args, kwargs.ipynb",
      "provenance": [],
      "collapsed_sections": [],
      "include_colab_link": true
    }
  },
  "nbformat": 4,
  "nbformat_minor": 0
}