{
  "cells": [
    {
      "cell_type": "markdown",
      "metadata": {
        "id": "view-in-github",
        "colab_type": "text"
      },
      "source": [
        "<a href=\"https://colab.research.google.com/github/ipark2/test_project/blob/main/lesson_06_%EC%9E%85%EB%A0%A5%ED%95%A8%EC%88%98%2C_random%ED%95%A8%EC%88%98%2C_Quiz.ipynb\" target=\"_parent\"><img src=\"https://colab.research.google.com/assets/colab-badge.svg\" alt=\"Open In Colab\"/></a>"
      ]
    },
    {
      "cell_type": "markdown",
      "metadata": {
        "id": "27sswvQNnoN5"
      },
      "source": [
        "#### 입력함수"
      ]
    },
    {
      "cell_type": "code",
      "execution_count": 2,
      "metadata": {
        "ExecuteTime": {
          "end_time": "2021-01-13T07:52:30.893622Z",
          "start_time": "2021-01-13T07:52:28.216480Z"
        },
        "id": "ooeXmH3mnoN9",
        "colab": {
          "base_uri": "https://localhost:8080/",
          "height": 54
        },
        "outputId": "bcea8366-2e26-4885-f0da-e481f0c4ff4f"
      },
      "outputs": [
        {
          "name": "stdout",
          "output_type": "stream",
          "text": [
            "문장을 입력하세요: 안녕하세요\n"
          ]
        },
        {
          "output_type": "execute_result",
          "data": {
            "text/plain": [
              "'안녕하세요'"
            ],
            "application/vnd.google.colaboratory.intrinsic+json": {
              "type": "string"
            }
          },
          "metadata": {},
          "execution_count": 2
        }
      ],
      "source": [
        "text = input(\"문장을 입력하세요: \")\n",
        "text"
      ]
    },
    {
      "cell_type": "markdown",
      "source": [
        "안녕하세요\n"
      ],
      "metadata": {
        "id": "pw1vq-mpqzsw"
      }
    },
    {
      "cell_type": "code",
      "source": [
        "number = int(input(\"숫자를 입력하세요:\"))\n",
        "number, type(number)"
      ],
      "metadata": {
        "colab": {
          "base_uri": "https://localhost:8080/"
        },
        "id": "FaBM3Ztqq5tB",
        "outputId": "b84c9677-d9b1-41be-b89b-402929c15190"
      },
      "execution_count": 1,
      "outputs": [
        {
          "name": "stdout",
          "output_type": "stream",
          "text": [
            "숫자를 입력하세요:100\n"
          ]
        },
        {
          "output_type": "execute_result",
          "data": {
            "text/plain": [
              "(100, int)"
            ]
          },
          "metadata": {},
          "execution_count": 1
        }
      ]
    },
    {
      "cell_type": "markdown",
      "metadata": {
        "id": "GSqrJLDpnoN_"
      },
      "source": [
        "#### random 모듈\n",
        "    import random : random이라는 이름의 모듈 안의 함수들을 사용하겠다고 선언"
      ]
    },
    {
      "cell_type": "code",
      "execution_count": 4,
      "metadata": {
        "ExecuteTime": {
          "end_time": "2021-01-13T08:01:29.161740Z",
          "start_time": "2021-01-13T08:01:29.144794Z"
        },
        "colab": {
          "base_uri": "https://localhost:8080/"
        },
        "id": "uvpbALXCnoN_",
        "outputId": "db1e8d2b-501e-461b-cad4-5ce4723e268b"
      },
      "outputs": [
        {
          "output_type": "execute_result",
          "data": {
            "text/plain": [
              "2"
            ]
          },
          "metadata": {},
          "execution_count": 4
        }
      ],
      "source": [
        "import random\n",
        "random.randint(0,10)"
      ]
    },
    {
      "cell_type": "code",
      "execution_count": 10,
      "metadata": {
        "ExecuteTime": {
          "end_time": "2021-01-13T08:06:26.666689Z",
          "start_time": "2021-01-13T08:06:08.752772Z"
        },
        "id": "3Iul-nu3noOA",
        "outputId": "74371d17-65c5-48c1-a3ce-5945def5e94f",
        "colab": {
          "base_uri": "https://localhost:8080/"
        }
      },
      "outputs": [
        {
          "output_type": "stream",
          "name": "stdout",
          "text": [
            "킹받뜨라쉬\n"
          ]
        }
      ],
      "source": [
        "brand_new_words = [\n",
        "    \"홀리몰리과카몰리\",\n",
        "    \"전래전래전래동화\",\n",
        "    \"개펀리펀\",\n",
        "    \"킹받뜨라쉬\",\n",
        "    \"아차찹쌀떡~\"\n",
        "]\n",
        "\n",
        "import random\n",
        "# ques = int(input(\"index 번호를 입력하세요: \")\n",
        "idx = random.randint(0, len(brand_new_words)-1)\n",
        "print(brand_new_words[idx])\n",
        "# blank"
      ]
    },
    {
      "cell_type": "code",
      "execution_count": 12,
      "metadata": {
        "ExecuteTime": {
          "end_time": "2021-01-14T01:20:32.313051Z",
          "start_time": "2021-01-14T01:20:32.292081Z"
        },
        "id": "gVxFGLJYnoOA",
        "outputId": "5ac7edd7-f66b-4bbe-d482-d2495d3935db",
        "colab": {
          "base_uri": "https://localhost:8080/",
          "height": 35
        }
      },
      "outputs": [
        {
          "output_type": "execute_result",
          "data": {
            "text/plain": [
              "'삼'"
            ],
            "application/vnd.google.colaboratory.intrinsic+json": {
              "type": "string"
            }
          },
          "metadata": {},
          "execution_count": 12
        }
      ],
      "source": [
        "import random\n",
        "ls = ['일','이','삼','사','오']\n",
        "\n",
        "random.choice(ls)\n",
        "\n",
        "\n",
        "# blank"
      ]
    },
    {
      "cell_type": "markdown",
      "metadata": {
        "id": "9piVSI_4noOB"
      },
      "source": [
        "#### format 함수\n",
        "    변수의 데이터를 문자형으로 변환하여 출력할 수 있는 방법"
      ]
    },
    {
      "cell_type": "code",
      "execution_count": 19,
      "metadata": {
        "ExecuteTime": {
          "end_time": "2021-01-14T01:22:59.228884Z",
          "start_time": "2021-01-14T01:22:59.222900Z"
        },
        "id": "Uyq4Nyv1noOB",
        "colab": {
          "base_uri": "https://localhost:8080/"
        },
        "outputId": "4bde352f-66dc-4c7f-b983-d1b481a5a961"
      },
      "outputs": [
        {
          "output_type": "stream",
          "name": "stdout",
          "text": [
            "인출: 30000, 잔액: 70000\n",
            "인출: 30000, 잔액: 70000\n",
            "인출: 30000, 잔액: 70000\n"
          ]
        }
      ],
      "source": [
        "account = 100_000\n",
        "draw = 30_000\n",
        "account -= draw\n",
        "\n",
        "print(\"인출: {}, 잔액: {}\".format(draw, account))\n",
        "print(\"인출: %s, 잔액: %s\" %(draw, account)) # %s : string, %d : int, %f : float\n",
        "print(f\"인출: {draw}, 잔액: {account}\")\n",
        "\n",
        "# blank"
      ]
    },
    {
      "cell_type": "markdown",
      "metadata": {
        "id": "e4UtrxynnoOC"
      },
      "source": [
        "### Quiz\n",
        "    저녁먹고 남은돈, 랜덤으로 메뉴선택(금액을 입력), 차액에 따라 다음날 점심을 먹을 수 있다 없다를 출력\n",
        "    6000 이상 식사 가능,"
      ]
    },
    {
      "cell_type": "code",
      "execution_count": 21,
      "metadata": {
        "colab": {
          "base_uri": "https://localhost:8080/"
        },
        "id": "v8bnIFRunoOD",
        "outputId": "00e92daf-0c2b-44a7-9602-61239de6b43d"
      },
      "outputs": [
        {
          "output_type": "stream",
          "name": "stdout",
          "text": [
            "금액을 입력하세요: 2000\n",
            "남은 돈이 2000원이라니..이거 실화냐\n"
          ]
        }
      ],
      "source": [
        "wallet = int(input(\"금액을 입력하세요: \"))\n",
        "\n",
        "menu = [15000, 8000, 4500]\n",
        "import random\n",
        "dinner = random.choice(menu)\n",
        "\n",
        "# blank\n",
        "if wallet >= dinner:\n",
        "    wallet -=dinner\n",
        "    if wallet >= 6000:\n",
        "        print(\"저녁 식대는 {}원\".format(dinner))\n",
        "        print(\"남은 돈이 {}이니 저녁도 가능하고 점심은 든든한 국밥이지~\".format(wallet))\n",
        "    else:\n",
        "        print(\"저녁 식대는 {}원\".format(dinner))\n",
        "        print(\"남은 돈이 {}원이니 점심은 거르고 저녁에 국밥 한 그릇 먹어야겠구나\".format(wallet))\n",
        "else:\n",
        "    if wallet >= 6000:\n",
        "        print(\"저녁 식대는 {}원\".format(dinner))\n",
        "        print(\"남은 돈이 {}원이니 저녁은 못먹어도 점심에 국밥 한 그릇은 가능하겠구나.\".format(wallet))\n",
        "    else:\n",
        "        print(\"남은 돈이 {}원이라니..이거 실화냐\".format(wallet))"
      ]
    },
    {
      "cell_type": "code",
      "source": [
        ""
      ],
      "metadata": {
        "id": "-HPS2ufw_-_J"
      },
      "execution_count": null,
      "outputs": []
    },
    {
      "cell_type": "code",
      "source": [
        ""
      ],
      "metadata": {
        "id": "Z-Ce4pFZn9rv"
      },
      "execution_count": null,
      "outputs": []
    }
  ],
  "metadata": {
    "hide_input": false,
    "kernelspec": {
      "display_name": "Python 3",
      "language": "python",
      "name": "python3"
    },
    "language_info": {
      "codemirror_mode": {
        "name": "ipython",
        "version": 3
      },
      "file_extension": ".py",
      "mimetype": "text/x-python",
      "name": "python",
      "nbconvert_exporter": "python",
      "pygments_lexer": "ipython3",
      "version": "3.8.5"
    },
    "toc": {
      "base_numbering": 1,
      "nav_menu": {},
      "number_sections": true,
      "sideBar": true,
      "skip_h1_title": false,
      "title_cell": "Table of Contents",
      "title_sidebar": "Contents",
      "toc_cell": false,
      "toc_position": {},
      "toc_section_display": true,
      "toc_window_display": false
    },
    "varInspector": {
      "cols": {
        "lenName": 16,
        "lenType": 16,
        "lenVar": 40
      },
      "kernels_config": {
        "python": {
          "delete_cmd_postfix": "",
          "delete_cmd_prefix": "del ",
          "library": "var_list.py",
          "varRefreshCmd": "print(var_dic_list())"
        },
        "r": {
          "delete_cmd_postfix": ") ",
          "delete_cmd_prefix": "rm(",
          "library": "var_list.r",
          "varRefreshCmd": "cat(var_dic_list()) "
        }
      },
      "types_to_exclude": [
        "module",
        "function",
        "builtin_function_or_method",
        "instance",
        "_Feature"
      ],
      "window_display": false
    },
    "colab": {
      "name": "lesson 06. 입력함수, random함수, Quiz.ipynb",
      "provenance": [],
      "collapsed_sections": [],
      "include_colab_link": true
    }
  },
  "nbformat": 4,
  "nbformat_minor": 0
}