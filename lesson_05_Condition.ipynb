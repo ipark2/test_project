{
  "cells": [
    {
      "cell_type": "markdown",
      "metadata": {
        "id": "view-in-github",
        "colab_type": "text"
      },
      "source": [
        "<a href=\"https://colab.research.google.com/github/ipark2/test_project/blob/main/lesson_05_Condition.ipynb\" target=\"_parent\"><img src=\"https://colab.research.google.com/assets/colab-badge.svg\" alt=\"Open In Colab\"/></a>"
      ]
    },
    {
      "cell_type": "markdown",
      "metadata": {
        "id": "pvN6_6mHnSxa"
      },
      "source": [
        "### 조건문(condition)\n",
        "    특정 조건에 따라 코드를 실행하고자 할 때 사용\n",
        "    if, else, elif"
      ]
    },
    {
      "cell_type": "markdown",
      "metadata": {
        "id": "ojfRpbgcnSxe"
      },
      "source": [
        "#### if\n",
        "```python\n",
        "if 조건문 :\n",
        "    조건이 성립할 때 실행될 구문\n",
        "```\n",
        "    조건문에 boolian 타입 외의 데이터 타입이 오면 boolian 타입으로 형변환되어 판단"
      ]
    },
    {
      "cell_type": "code",
      "execution_count": 1,
      "metadata": {
        "id": "yTHfpG26nSxf",
        "colab": {
          "base_uri": "https://localhost:8080/"
        },
        "outputId": "8c8d1c94-e7fa-4222-a745-6a0025cf608e"
      },
      "outputs": [
        {
          "output_type": "stream",
          "name": "stdout",
          "text": [
            "It's True\n",
            "Done!\n"
          ]
        }
      ],
      "source": [
        "if True: # 조건 작성, IDE(Vscode, Pycharm, Jupyter notebook, colab) 자동으로 들여쓰기\n",
        "    print(\"It's True\")\n",
        "print(\"Done!\")"
      ]
    },
    {
      "cell_type": "code",
      "execution_count": 3,
      "metadata": {
        "id": "OuuUqdmcnSxf",
        "colab": {
          "base_uri": "https://localhost:8080/"
        },
        "outputId": "86fc7d99-aef9-4b92-ab97-ce52e1d2dd26"
      },
      "outputs": [
        {
          "output_type": "stream",
          "name": "stdout",
          "text": [
            "Done\n"
          ]
        }
      ],
      "source": [
        "if False:\n",
        "    print(\"It's False\") # 실행 안됨\n",
        "print(\"Done\")"
      ]
    },
    {
      "cell_type": "markdown",
      "metadata": {
        "id": "YhAIgIKfnSxf"
      },
      "source": [
        "    int : 0을 제외한 나머지 숫자는 모두 True\n",
        "    float : 0.0을 제외한 나머지 숫자는 모두 True\n",
        "    str : \"\"을 제외한 나머지는 모두 True\n",
        "    list, tuple, dict : [], (), {}을 제외한 나머지는 모두 True"
      ]
    },
    {
      "cell_type": "code",
      "source": [
        ""
      ],
      "metadata": {
        "id": "SmwyfrWXj-Dd"
      },
      "execution_count": null,
      "outputs": []
    },
    {
      "cell_type": "markdown",
      "metadata": {
        "id": "nyXFiMaqnSxg"
      },
      "source": [
        "#### if else\n",
        "```python\n",
        "if 조건문:\n",
        "    조건문이 성립할 때 실행되는 구문\n",
        "else:\n",
        "    조건문 외의 경우가 성립할 때 실행되는 구문\n",
        "```"
      ]
    },
    {
      "cell_type": "code",
      "execution_count": 4,
      "metadata": {
        "id": "S1XWQ5q2nSxg",
        "colab": {
          "base_uri": "https://localhost:8080/"
        },
        "outputId": "c8a468f0-2eb5-4bab-c724-cff389159ad5"
      },
      "outputs": [
        {
          "output_type": "stream",
          "name": "stdout",
          "text": [
            "It's True\n"
          ]
        }
      ],
      "source": [
        "if False:\n",
        "    print(\"It's False\")\n",
        "else: # 조건은 작성x\n",
        "    print(\"It's True\")"
      ]
    },
    {
      "cell_type": "code",
      "execution_count": 6,
      "metadata": {
        "id": "pavOaJtUnSxh",
        "colab": {
          "base_uri": "https://localhost:8080/"
        },
        "outputId": "fb1dd929-6934-4711-fec4-1a5ba65c1021"
      },
      "outputs": [
        {
          "output_type": "stream",
          "name": "stdout",
          "text": [
            "홀수입니다\n"
          ]
        }
      ],
      "source": [
        "import random\n",
        "num = random.randint(1,11) # 임의의 숫자가 선언\n",
        "\n",
        "if num %2 :\n",
        "    print(\"홀수입니다\")\n",
        "else:\n",
        "    print(num, \"짝수입니다\")"
      ]
    },
    {
      "cell_type": "markdown",
      "metadata": {
        "id": "pevqr7cPnSxh"
      },
      "source": [
        "#### if elif else\n",
        "```python\n",
        "if 조건문1:\n",
        "    실행문1\n",
        "elif 조건문2:\n",
        "    실행문2\n",
        "else:\n",
        "    실행문3\n",
        "```\n",
        "    if 조건문부터 순차적으로 확인한 후 True의 경우일 때 해당 조건의 실행문이 실행된다"
      ]
    },
    {
      "cell_type": "code",
      "execution_count": 7,
      "metadata": {
        "id": "L7Lrncm1nSxi",
        "colab": {
          "base_uri": "https://localhost:8080/"
        },
        "outputId": "f65a5f6c-55d3-482b-85fa-a7e32f9edf9f"
      },
      "outputs": [
        {
          "output_type": "stream",
          "name": "stdout",
          "text": [
            "금액을 입력하세요: 7000\n",
            "치킨마요삼각김밥\n"
          ]
        }
      ],
      "source": [
        "# blank\n",
        "wallet = int(input(\"금액을 입력하세요: \")) # int: 형변환, input: 데이터를 받은 함수, string 타입으로 데이터를 받음\n",
        "\n",
        "if wallet >= 30000:\n",
        "    print(\"허니콤보\")\n",
        "elif wallet >= 10000:\n",
        "    print(\"치킨마요\")\n",
        "elif wallet >= 5000:\n",
        "    print(\"치킨마요삼각김밥\")\n",
        "else:\n",
        "    print(\"굶기\")"
      ]
    },
    {
      "cell_type": "markdown",
      "metadata": {
        "id": "mzmN1DTqnSxi"
      },
      "source": [
        "#### 삼항연산자\n",
        "    한줄의 코드로 if, else를 표현할 수 있는 방법\n",
        "```python\n",
        "실행문1 if 조건문1 else 실행문2\n",
        "```"
      ]
    },
    {
      "cell_type": "code",
      "execution_count": 16,
      "metadata": {
        "id": "TgkCJTh6nSxi",
        "colab": {
          "base_uri": "https://localhost:8080/"
        },
        "outputId": "fefe97aa-7a31-4059-9076-196f934e4dc0"
      },
      "outputs": [
        {
          "output_type": "stream",
          "name": "stdout",
          "text": [
            "5 홀수!\n"
          ]
        }
      ],
      "source": [
        "import random # kernel 실행 -> 재시작\n",
        "\n",
        "num = random.randint(1, 10)\n",
        "\n",
        "print(num, \"홀수!\") if num % 2 else print(\"짝수!\")"
      ]
    },
    {
      "cell_type": "code",
      "execution_count": 21,
      "metadata": {
        "id": "QdLoVh10nSxj",
        "colab": {
          "base_uri": "https://localhost:8080/"
        },
        "outputId": "f535c78a-4810-455a-cbad-74bd72c954c1"
      },
      "outputs": [
        {
          "output_type": "stream",
          "name": "stdout",
          "text": [
            "홀수!\n"
          ]
        }
      ],
      "source": [
        "if num %2:\n",
        "    print(\"홀수!\")\n",
        "else:\n",
        "    print(\"짝수!\")\n"
      ]
    },
    {
      "cell_type": "code",
      "source": [
        "print(state)"
      ],
      "metadata": {
        "colab": {
          "base_uri": "https://localhost:8080/",
          "height": 174
        },
        "id": "u679aQbkpJK_",
        "outputId": "3f433318-4442-4335-d454-3f5c54b4f324"
      },
      "execution_count": 24,
      "outputs": [
        {
          "output_type": "error",
          "ename": "NameError",
          "evalue": "ignored",
          "traceback": [
            "\u001b[0;31m---------------------------------------------------------------------------\u001b[0m",
            "\u001b[0;31mNameError\u001b[0m                                 Traceback (most recent call last)",
            "\u001b[0;32m<ipython-input-24-6d7049431b8c>\u001b[0m in \u001b[0;36m<module>\u001b[0;34m()\u001b[0m\n\u001b[0;32m----> 1\u001b[0;31m \u001b[0mprint\u001b[0m\u001b[0;34m(\u001b[0m\u001b[0mstate\u001b[0m\u001b[0;34m)\u001b[0m\u001b[0;34m\u001b[0m\u001b[0;34m\u001b[0m\u001b[0m\n\u001b[0m",
            "\u001b[0;31mNameError\u001b[0m: name 'state' is not defined"
          ]
        }
      ]
    }
  ],
  "metadata": {
    "hide_input": false,
    "kernelspec": {
      "display_name": "Python 3",
      "language": "python",
      "name": "python3"
    },
    "language_info": {
      "codemirror_mode": {
        "name": "ipython",
        "version": 3
      },
      "file_extension": ".py",
      "mimetype": "text/x-python",
      "name": "python",
      "nbconvert_exporter": "python",
      "pygments_lexer": "ipython3",
      "version": "3.8.5"
    },
    "toc": {
      "base_numbering": 1,
      "nav_menu": {},
      "number_sections": true,
      "sideBar": true,
      "skip_h1_title": false,
      "title_cell": "Table of Contents",
      "title_sidebar": "Contents",
      "toc_cell": false,
      "toc_position": {},
      "toc_section_display": true,
      "toc_window_display": false
    },
    "varInspector": {
      "cols": {
        "lenName": 16,
        "lenType": 16,
        "lenVar": 40
      },
      "kernels_config": {
        "python": {
          "delete_cmd_postfix": "",
          "delete_cmd_prefix": "del ",
          "library": "var_list.py",
          "varRefreshCmd": "print(var_dic_list())"
        },
        "r": {
          "delete_cmd_postfix": ") ",
          "delete_cmd_prefix": "rm(",
          "library": "var_list.r",
          "varRefreshCmd": "cat(var_dic_list()) "
        }
      },
      "types_to_exclude": [
        "module",
        "function",
        "builtin_function_or_method",
        "instance",
        "_Feature"
      ],
      "window_display": false
    },
    "colab": {
      "name": "lesson 05. Condition.ipynb",
      "provenance": [],
      "collapsed_sections": [],
      "include_colab_link": true
    }
  },
  "nbformat": 4,
  "nbformat_minor": 0
}