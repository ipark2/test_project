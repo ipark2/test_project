{
  "cells": [
    {
      "cell_type": "markdown",
      "metadata": {
        "id": "view-in-github",
        "colab_type": "text"
      },
      "source": [
        "<a href=\"https://colab.research.google.com/github/ipark2/test_project/blob/main/lesson_01_contents_orientation_%26_numpy_1_array%2C_zero%2C_one.ipynb\" target=\"_parent\"><img src=\"https://colab.research.google.com/assets/colab-badge.svg\" alt=\"Open In Colab\"/></a>"
      ]
    },
    {
      "cell_type": "markdown",
      "metadata": {
        "id": "5Z2uOaLr5NoL"
      },
      "source": [
        "## 목차\n",
        "    - numpy\n",
        "    - pandas\n",
        "    - matplotlib & seaborn\n",
        "    - scikit-learn"
      ]
    },
    {
      "cell_type": "markdown",
      "metadata": {
        "id": "mY9OULMr5Nom"
      },
      "source": [
        "### Numpy\n",
        "    - 행렬 연산을 가능하게 해주는 패키지\n",
        "    - python으로 작성되나 연산은 C, C++, 포트란으로 진행\n",
        "        - 선형대수 연산을 빠르게 할 수 있음"
      ]
    },
    {
      "cell_type": "code",
      "execution_count": 2,
      "metadata": {
        "ExecuteTime": {
          "end_time": "2021-02-02T01:38:00.546479Z",
          "start_time": "2021-02-02T01:38:00.528522Z"
        },
        "colab": {
          "base_uri": "https://localhost:8080/"
        },
        "id": "IXXXTTcK5Nop",
        "outputId": "2eec2124-c68e-417c-aae6-75cbb20d713f"
      },
      "outputs": [
        {
          "output_type": "execute_result",
          "data": {
            "text/plain": [
              "(str, 'int32')"
            ]
          },
          "metadata": {},
          "execution_count": 2
        }
      ],
      "source": [
        "import numpy as np # 넘파이 라이브러리 불러오기, 및 np로 작성시 넘파이 사용약속\n",
        "arr = np.array([1, 2, 3]). dtype='int32'\n",
        "type(arr), arr"
      ]
    },
    {
      "cell_type": "markdown",
      "metadata": {
        "id": "YlJX4ZMC5Now"
      },
      "source": [
        "    - ndarray : 한가지 데이터 타입만으로 사용이 가능"
      ]
    },
    {
      "cell_type": "code",
      "execution_count": 6,
      "metadata": {
        "ExecuteTime": {
          "end_time": "2021-02-02T01:39:20.920270Z",
          "start_time": "2021-02-02T01:39:20.903288Z"
        },
        "colab": {
          "base_uri": "https://localhost:8080/"
        },
        "id": "RCBYizUM5Nox",
        "outputId": "5b45adcb-8293-4d7e-f49e-021ca3eeee9a"
      },
      "outputs": [
        {
          "output_type": "stream",
          "name": "stdout",
          "text": [
            "[[1. 2. 3.]\n",
            " [4. 5. 6.]]\n",
            "2\n",
            "(2, 3)\n",
            "6\n",
            "float64\n"
          ]
        },
        {
          "output_type": "execute_result",
          "data": {
            "text/plain": [
              "(array([[1., 2., 3.],\n",
              "        [4., 5., 6.]]), 2, (2, 3))"
            ]
          },
          "metadata": {},
          "execution_count": 6
        }
      ],
      "source": [
        "arr2 = np.array([[1.0, 2.0, 3.0],\n",
        "                 [4.0, 5.0, 6.0]])\n",
        "print(arr2)         # 행렬 확인\n",
        "print(arr2.ndim)    # 형렬의 차원\n",
        "print(arr2.shape)   # 행렬의 형태\n",
        "print(arr2.size)    # 형렬 내 원소개수\n",
        "print(arr2.dtype)   # 행렬의 자료형\n",
        "\n",
        "\n",
        "ary2, ary2.ndim, ary2.shape"
      ]
    },
    {
      "cell_type": "code",
      "source": [
        "help(np.random.randint)"
      ],
      "metadata": {
        "colab": {
          "base_uri": "https://localhost:8080/"
        },
        "id": "V37yGUr86WxL",
        "outputId": "f05ed40e-4ae2-4747-b730-9a9339a1d847"
      },
      "execution_count": 7,
      "outputs": [
        {
          "output_type": "stream",
          "name": "stdout",
          "text": [
            "Help on built-in function randint:\n",
            "\n",
            "randint(...) method of numpy.random.mtrand.RandomState instance\n",
            "    randint(low, high=None, size=None, dtype=int)\n",
            "    \n",
            "    Return random integers from `low` (inclusive) to `high` (exclusive).\n",
            "    \n",
            "    Return random integers from the \"discrete uniform\" distribution of\n",
            "    the specified dtype in the \"half-open\" interval [`low`, `high`). If\n",
            "    `high` is None (the default), then results are from [0, `low`).\n",
            "    \n",
            "    .. note::\n",
            "        New code should use the ``integers`` method of a ``default_rng()``\n",
            "        instance instead; please see the :ref:`random-quick-start`.\n",
            "    \n",
            "    Parameters\n",
            "    ----------\n",
            "    low : int or array-like of ints\n",
            "        Lowest (signed) integers to be drawn from the distribution (unless\n",
            "        ``high=None``, in which case this parameter is one above the\n",
            "        *highest* such integer).\n",
            "    high : int or array-like of ints, optional\n",
            "        If provided, one above the largest (signed) integer to be drawn\n",
            "        from the distribution (see above for behavior if ``high=None``).\n",
            "        If array-like, must contain integer values\n",
            "    size : int or tuple of ints, optional\n",
            "        Output shape.  If the given shape is, e.g., ``(m, n, k)``, then\n",
            "        ``m * n * k`` samples are drawn.  Default is None, in which case a\n",
            "        single value is returned.\n",
            "    dtype : dtype, optional\n",
            "        Desired dtype of the result. Byteorder must be native.\n",
            "        The default value is int.\n",
            "    \n",
            "        .. versionadded:: 1.11.0\n",
            "    \n",
            "    Returns\n",
            "    -------\n",
            "    out : int or ndarray of ints\n",
            "        `size`-shaped array of random integers from the appropriate\n",
            "        distribution, or a single such random int if `size` not provided.\n",
            "    \n",
            "    See Also\n",
            "    --------\n",
            "    random_integers : similar to `randint`, only for the closed\n",
            "        interval [`low`, `high`], and 1 is the lowest value if `high` is\n",
            "        omitted.\n",
            "    Generator.integers: which should be used for new code.\n",
            "    \n",
            "    Examples\n",
            "    --------\n",
            "    >>> np.random.randint(2, size=10)\n",
            "    array([1, 0, 0, 0, 1, 1, 0, 0, 1, 0]) # random\n",
            "    >>> np.random.randint(1, size=10)\n",
            "    array([0, 0, 0, 0, 0, 0, 0, 0, 0, 0])\n",
            "    \n",
            "    Generate a 2 x 4 array of ints between 0 and 4, inclusive:\n",
            "    \n",
            "    >>> np.random.randint(5, size=(2, 4))\n",
            "    array([[4, 0, 2, 1], # random\n",
            "           [3, 2, 2, 0]])\n",
            "    \n",
            "    Generate a 1 x 3 array with 3 different upper bounds\n",
            "    \n",
            "    >>> np.random.randint(1, [3, 5, 10])\n",
            "    array([2, 2, 9]) # random\n",
            "    \n",
            "    Generate a 1 by 3 array with 3 different lower bounds\n",
            "    \n",
            "    >>> np.random.randint([1, 5, 7], 10)\n",
            "    array([9, 8, 7]) # random\n",
            "    \n",
            "    Generate a 2 by 4 array using broadcasting with dtype of uint8\n",
            "    \n",
            "    >>> np.random.randint([1, 3, 5, 7], [[10], [20]], dtype=np.uint8)\n",
            "    array([[ 8,  6,  9,  7], # random\n",
            "           [ 1, 16,  9, 12]], dtype=uint8)\n",
            "\n"
          ]
        }
      ]
    },
    {
      "cell_type": "code",
      "source": [
        "a=np.random.randint(2,10,size=(5,))\n",
        "b=np.random.randint(2,10,size=(2,4))\n",
        "c=np.random.randint(2,10,size=(2,3,4))\n",
        "print(a)\n",
        "print(b)\n",
        "print(c)"
      ],
      "metadata": {
        "colab": {
          "base_uri": "https://localhost:8080/"
        },
        "id": "zdG6V9st7Efj",
        "outputId": "b29ba67f-b029-4888-8b4b-984fe82b55c3"
      },
      "execution_count": 8,
      "outputs": [
        {
          "output_type": "stream",
          "name": "stdout",
          "text": [
            "[6 4 6 5 9]\n",
            "[[7 8 9 2]\n",
            " [9 4 5 6]]\n",
            "[[[8 8 3 8]\n",
            "  [3 7 4 7]\n",
            "  [3 5 4 5]]\n",
            "\n",
            " [[5 6 7 7]\n",
            "  [2 6 5 7]\n",
            "  [4 2 8 2]]]\n"
          ]
        }
      ]
    },
    {
      "cell_type": "code",
      "execution_count": 9,
      "metadata": {
        "ExecuteTime": {
          "end_time": "2021-02-02T01:39:51.378729Z",
          "start_time": "2021-02-02T01:39:51.371748Z"
        },
        "colab": {
          "base_uri": "https://localhost:8080/"
        },
        "id": "6MhHyCjh5Noz",
        "outputId": "9a600396-da89-4945-ae98-628c9ac3bb42"
      },
      "outputs": [
        {
          "output_type": "execute_result",
          "data": {
            "text/plain": [
              "array([[1., 2.],\n",
              "       [3., 4.],\n",
              "       [5., 6.]])"
            ]
          },
          "metadata": {},
          "execution_count": 9
        }
      ],
      "source": [
        "arr2.reshape(3, 2)"
      ]
    },
    {
      "cell_type": "code",
      "execution_count": 10,
      "metadata": {
        "ExecuteTime": {
          "end_time": "2021-02-02T01:40:30.129131Z",
          "start_time": "2021-02-02T01:40:30.108640Z"
        },
        "colab": {
          "base_uri": "https://localhost:8080/"
        },
        "id": "83QPRycC5No0",
        "outputId": "bf8291c7-c6b5-4265-f84a-ab1b9a8111a3"
      },
      "outputs": [
        {
          "output_type": "execute_result",
          "data": {
            "text/plain": [
              "array([4., 5., 6.])"
            ]
          },
          "metadata": {},
          "execution_count": 10
        }
      ],
      "source": [
        "arr2[1]"
      ]
    },
    {
      "cell_type": "code",
      "execution_count": 11,
      "metadata": {
        "ExecuteTime": {
          "end_time": "2021-02-02T01:40:41.796092Z",
          "start_time": "2021-02-02T01:40:41.785080Z"
        },
        "colab": {
          "base_uri": "https://localhost:8080/"
        },
        "id": "EAtqEBl65No2",
        "outputId": "de76ba22-f845-4f33-cecc-602a6d44fe83"
      },
      "outputs": [
        {
          "output_type": "execute_result",
          "data": {
            "text/plain": [
              "5.0"
            ]
          },
          "metadata": {},
          "execution_count": 11
        }
      ],
      "source": [
        "arr2[1, 1]"
      ]
    },
    {
      "cell_type": "markdown",
      "metadata": {
        "id": "7uqACmd05No3"
      },
      "source": [
        "#### 데이터 수정"
      ]
    },
    {
      "cell_type": "code",
      "execution_count": 12,
      "metadata": {
        "ExecuteTime": {
          "end_time": "2021-02-02T01:41:05.267642Z",
          "start_time": "2021-02-02T01:41:05.250664Z"
        },
        "colab": {
          "base_uri": "https://localhost:8080/"
        },
        "id": "Mz7x1Sch5No5",
        "outputId": "a68ab19f-2a25-433f-daae-c717b6aaf5c8"
      },
      "outputs": [
        {
          "output_type": "execute_result",
          "data": {
            "text/plain": [
              "[1, 5, 3]"
            ]
          },
          "metadata": {},
          "execution_count": 12
        }
      ],
      "source": [
        "ls = [1, 2, 3]\n",
        "ls[1] = 5\n",
        "ls"
      ]
    },
    {
      "cell_type": "code",
      "execution_count": 13,
      "metadata": {
        "ExecuteTime": {
          "end_time": "2021-02-02T01:41:41.214434Z",
          "start_time": "2021-02-02T01:41:41.207453Z"
        },
        "colab": {
          "base_uri": "https://localhost:8080/"
        },
        "id": "lT66hDfL5No7",
        "outputId": "e5061355-ea65-44bc-d5f3-ef0fe8c691b8"
      },
      "outputs": [
        {
          "output_type": "execute_result",
          "data": {
            "text/plain": [
              "array([[1, 2, 3],\n",
              "       [0, 0, 0]])"
            ]
          },
          "metadata": {},
          "execution_count": 13
        }
      ],
      "source": [
        "arr3 = np.array([[1, 2, 3],\n",
        "                 [0, 1, 0]])\n",
        "arr3[1][1] = 0\n",
        "arr3"
      ]
    },
    {
      "cell_type": "markdown",
      "metadata": {
        "id": "g-0b_BvE5NpA"
      },
      "source": [
        "##### array 브로드캐스팅"
      ]
    },
    {
      "cell_type": "code",
      "execution_count": null,
      "metadata": {
        "ExecuteTime": {
          "end_time": "2021-02-02T01:42:06.656677Z",
          "start_time": "2021-02-02T01:42:06.637726Z"
        },
        "id": "-J95NHto5NpB",
        "outputId": "865bb157-1540-4b04-e248-7d773afcd323"
      },
      "outputs": [
        {
          "data": {
            "text/plain": [
              "array([[0, 0, 0],\n",
              "       [0, 0, 0]])"
            ]
          },
          "execution_count": 9,
          "metadata": {},
          "output_type": "execute_result"
        }
      ],
      "source": [
        "ary3[0] = 0\n",
        "ary3"
      ]
    },
    {
      "cell_type": "markdown",
      "metadata": {
        "id": "2a3xPRTT5NpC"
      },
      "source": [
        "##### array 조건 선택"
      ]
    },
    {
      "cell_type": "code",
      "execution_count": 14,
      "metadata": {
        "ExecuteTime": {
          "end_time": "2021-02-02T01:42:53.899652Z",
          "start_time": "2021-02-02T01:42:53.887684Z"
        },
        "colab": {
          "base_uri": "https://localhost:8080/"
        },
        "id": "7GaFiXZi5NpC",
        "outputId": "d73d271c-bc1a-4743-d93b-c62b2f6f6760"
      },
      "outputs": [
        {
          "output_type": "execute_result",
          "data": {
            "text/plain": [
              "array([[5, 5, 5],\n",
              "       [5, 6, 7]])"
            ]
          },
          "metadata": {},
          "execution_count": 14
        }
      ],
      "source": [
        "arr3[0] = 5\n",
        "arr3[1] = [5, 6, 7]\n",
        "arr3"
      ]
    },
    {
      "cell_type": "code",
      "execution_count": 15,
      "metadata": {
        "ExecuteTime": {
          "end_time": "2021-02-02T01:43:36.435560Z",
          "start_time": "2021-02-02T01:43:36.428609Z"
        },
        "colab": {
          "base_uri": "https://localhost:8080/"
        },
        "id": "nYiHPakX5NpE",
        "outputId": "67499e8f-d4ad-449f-d2ee-6eb42f2b8f86"
      },
      "outputs": [
        {
          "output_type": "execute_result",
          "data": {
            "text/plain": [
              "array([[False, False, False],\n",
              "       [False,  True,  True]])"
            ]
          },
          "metadata": {},
          "execution_count": 15
        }
      ],
      "source": [
        "idx = arr3>5\n",
        "idx"
      ]
    },
    {
      "cell_type": "code",
      "execution_count": 16,
      "metadata": {
        "ExecuteTime": {
          "end_time": "2021-02-02T01:43:36.975713Z",
          "start_time": "2021-02-02T01:43:36.956738Z"
        },
        "colab": {
          "base_uri": "https://localhost:8080/"
        },
        "id": "SacNXbQI5NpF",
        "outputId": "a8448bdd-26d6-44bd-d797-82325aa0025a"
      },
      "outputs": [
        {
          "output_type": "execute_result",
          "data": {
            "text/plain": [
              "array([6, 7])"
            ]
          },
          "metadata": {},
          "execution_count": 16
        }
      ],
      "source": [
        "arr3[arr3>5]"
      ]
    },
    {
      "cell_type": "markdown",
      "metadata": {
        "id": "nBioEJcb5NpG"
      },
      "source": [
        "##### 조건에 맞는 값만 변경"
      ]
    },
    {
      "cell_type": "code",
      "execution_count": 17,
      "metadata": {
        "ExecuteTime": {
          "end_time": "2021-02-02T01:43:58.414724Z",
          "start_time": "2021-02-02T01:43:58.395749Z"
        },
        "colab": {
          "base_uri": "https://localhost:8080/"
        },
        "id": "TClSNWId5NpH",
        "outputId": "4683abc5-f808-4b10-ecf7-fb8e4885e6a0"
      },
      "outputs": [
        {
          "output_type": "execute_result",
          "data": {
            "text/plain": [
              "array([[  5,   5,   5],\n",
              "       [  5, 100, 100]])"
            ]
          },
          "metadata": {},
          "execution_count": 17
        }
      ],
      "source": [
        "arr3[idx] = 100\n",
        "arr3"
      ]
    },
    {
      "cell_type": "markdown",
      "metadata": {
        "id": "c9OHDAXP5NpI"
      },
      "source": [
        "#### zero array"
      ]
    },
    {
      "cell_type": "code",
      "execution_count": 18,
      "metadata": {
        "ExecuteTime": {
          "end_time": "2021-02-02T01:44:32.926690Z",
          "start_time": "2021-02-02T01:44:32.919711Z"
        },
        "colab": {
          "base_uri": "https://localhost:8080/"
        },
        "id": "h8zWbWkN5NpJ",
        "outputId": "f3cd95bd-1d93-43b3-d521-356665c69a2e"
      },
      "outputs": [
        {
          "output_type": "execute_result",
          "data": {
            "text/plain": [
              "array([[0., 0., 0.],\n",
              "       [0., 0., 0.]])"
            ]
          },
          "metadata": {},
          "execution_count": 18
        }
      ],
      "source": [
        "zero_arr = np.zeros((2, 3))\n",
        "zero_arr"
      ]
    },
    {
      "cell_type": "code",
      "execution_count": 19,
      "metadata": {
        "ExecuteTime": {
          "end_time": "2021-02-02T01:44:46.433063Z",
          "start_time": "2021-02-02T01:44:46.426074Z"
        },
        "colab": {
          "base_uri": "https://localhost:8080/"
        },
        "id": "9jWtg_4k5NpK",
        "outputId": "95c3edbf-fae3-4d62-b7c4-90d4856b49b8"
      },
      "outputs": [
        {
          "output_type": "execute_result",
          "data": {
            "text/plain": [
              "numpy.ndarray"
            ]
          },
          "metadata": {},
          "execution_count": 19
        }
      ],
      "source": [
        "type(zero_arr)"
      ]
    },
    {
      "cell_type": "code",
      "execution_count": 20,
      "metadata": {
        "ExecuteTime": {
          "end_time": "2021-02-02T01:45:01.103458Z",
          "start_time": "2021-02-02T01:45:01.092488Z"
        },
        "colab": {
          "base_uri": "https://localhost:8080/"
        },
        "id": "anULOFWL5NpL",
        "outputId": "4f85ff36-f066-402c-96f3-c73e07cbfa24"
      },
      "outputs": [
        {
          "output_type": "execute_result",
          "data": {
            "text/plain": [
              "dtype('float64')"
            ]
          },
          "metadata": {},
          "execution_count": 20
        }
      ],
      "source": [
        "zero_arr.dtype # 실수형 값만 바꿔 넣을 수 있음"
      ]
    },
    {
      "cell_type": "markdown",
      "metadata": {
        "id": "-GdUAYnB5NpM"
      },
      "source": [
        "##### array안의 데이터 형태 변경"
      ]
    },
    {
      "cell_type": "code",
      "execution_count": 22,
      "metadata": {
        "ExecuteTime": {
          "end_time": "2021-02-02T01:46:02.240813Z",
          "start_time": "2021-02-02T01:46:02.231868Z"
        },
        "colab": {
          "base_uri": "https://localhost:8080/"
        },
        "id": "DMPJ9VtO5NpN",
        "outputId": "eb671b95-c76c-4cba-a4f1-54a869dc25cf"
      },
      "outputs": [
        {
          "output_type": "execute_result",
          "data": {
            "text/plain": [
              "dtype('int16')"
            ]
          },
          "metadata": {},
          "execution_count": 22
        }
      ],
      "source": [
        "z2 = zero_arr.astype('int16')\n",
        "z2.dtype"
      ]
    },
    {
      "cell_type": "markdown",
      "metadata": {
        "id": "_5gPt--35NpQ"
      },
      "source": [
        "#### one array"
      ]
    },
    {
      "cell_type": "code",
      "execution_count": 23,
      "metadata": {
        "ExecuteTime": {
          "end_time": "2021-02-02T01:48:07.903196Z",
          "start_time": "2021-02-02T01:48:07.888234Z"
        },
        "colab": {
          "base_uri": "https://localhost:8080/"
        },
        "id": "yUNS0qO85NpR",
        "outputId": "208f8fba-f402-4054-df10-d9dbd8ff24ca"
      },
      "outputs": [
        {
          "output_type": "execute_result",
          "data": {
            "text/plain": [
              "(dtype('float64'), array([[1., 1., 1.],\n",
              "        [1., 1., 1.]]))"
            ]
          },
          "metadata": {},
          "execution_count": 23
        }
      ],
      "source": [
        "one_arr = np.ones((2, 3))\n",
        "one_arr.dtype, one_arr"
      ]
    },
    {
      "cell_type": "code",
      "execution_count": 25,
      "metadata": {
        "ExecuteTime": {
          "end_time": "2021-02-02T01:48:41.625341Z",
          "start_time": "2021-02-02T01:48:41.616365Z"
        },
        "colab": {
          "base_uri": "https://localhost:8080/"
        },
        "id": "grc6s6DQ5NpS",
        "outputId": "09c179e1-f822-4852-8b59-85bc3ce28628"
      },
      "outputs": [
        {
          "output_type": "execute_result",
          "data": {
            "text/plain": [
              "(dtype('int64'), array([[[1, 1],\n",
              "         [1, 1],\n",
              "         [1, 1]],\n",
              " \n",
              "        [[1, 1],\n",
              "         [1, 1],\n",
              "         [1, 1]]]))"
            ]
          },
          "metadata": {},
          "execution_count": 25
        }
      ],
      "source": [
        "one_arr2 = np.ones((2, 3, 2)).astype('int')\n",
        "one_arr2.dtype, one_arr2"
      ]
    },
    {
      "cell_type": "code",
      "source": [
        "id = np.identity(n=6, dtype=np.int8) # 단위 행렬\n",
        "id"
      ],
      "metadata": {
        "colab": {
          "base_uri": "https://localhost:8080/"
        },
        "id": "ep29NFcD-uUD",
        "outputId": "a98e7d30-13dd-49dd-b61f-28af0e44710e"
      },
      "execution_count": 29,
      "outputs": [
        {
          "output_type": "execute_result",
          "data": {
            "text/plain": [
              "array([[1, 0, 0, 0, 0, 0],\n",
              "       [0, 1, 0, 0, 0, 0],\n",
              "       [0, 0, 1, 0, 0, 0],\n",
              "       [0, 0, 0, 1, 0, 0],\n",
              "       [0, 0, 0, 0, 1, 0],\n",
              "       [0, 0, 0, 0, 0, 1]], dtype=int8)"
            ]
          },
          "metadata": {},
          "execution_count": 29
        }
      ]
    },
    {
      "cell_type": "markdown",
      "metadata": {
        "id": "KwBdJO7t5NpT"
      },
      "source": [
        "#### 범위값 array 생성"
      ]
    },
    {
      "cell_type": "code",
      "execution_count": 33,
      "metadata": {
        "ExecuteTime": {
          "end_time": "2021-02-02T01:58:29.771621Z",
          "start_time": "2021-02-02T01:58:29.761651Z"
        },
        "colab": {
          "base_uri": "https://localhost:8080/"
        },
        "id": "yjsAesE15NpU",
        "outputId": "6cf724ba-eca6-430d-a07b-11e86f63eb39"
      },
      "outputs": [
        {
          "output_type": "execute_result",
          "data": {
            "text/plain": [
              "array([ 1,  2,  3,  4,  5,  6,  7,  8,  9, 10])"
            ]
          },
          "metadata": {},
          "execution_count": 33
        }
      ],
      "source": [
        "arr = np.arange(1, 11)\n",
        "arr"
      ]
    },
    {
      "cell_type": "code",
      "source": [
        ""
      ],
      "metadata": {
        "id": "uFEDkO5N-ttH"
      },
      "execution_count": null,
      "outputs": []
    }
  ],
  "metadata": {
    "hide_input": false,
    "kernelspec": {
      "display_name": "Python 3",
      "language": "python",
      "name": "python3"
    },
    "language_info": {
      "codemirror_mode": {
        "name": "ipython",
        "version": 3
      },
      "file_extension": ".py",
      "mimetype": "text/x-python",
      "name": "python",
      "nbconvert_exporter": "python",
      "pygments_lexer": "ipython3",
      "version": "3.8.5"
    },
    "toc": {
      "base_numbering": 1,
      "nav_menu": {},
      "number_sections": true,
      "sideBar": true,
      "skip_h1_title": false,
      "title_cell": "Table of Contents",
      "title_sidebar": "Contents",
      "toc_cell": false,
      "toc_position": {},
      "toc_section_display": true,
      "toc_window_display": false
    },
    "varInspector": {
      "cols": {
        "lenName": 16,
        "lenType": 16,
        "lenVar": 40
      },
      "kernels_config": {
        "python": {
          "delete_cmd_postfix": "",
          "delete_cmd_prefix": "del ",
          "library": "var_list.py",
          "varRefreshCmd": "print(var_dic_list())"
        },
        "r": {
          "delete_cmd_postfix": ") ",
          "delete_cmd_prefix": "rm(",
          "library": "var_list.r",
          "varRefreshCmd": "cat(var_dic_list()) "
        }
      },
      "types_to_exclude": [
        "module",
        "function",
        "builtin_function_or_method",
        "instance",
        "_Feature"
      ],
      "window_display": false
    },
    "colab": {
      "name": "lesson 01. contents orientation & numpy 1 - array, zero, one.ipynb",
      "provenance": [],
      "include_colab_link": true
    }
  },
  "nbformat": 4,
  "nbformat_minor": 0
}