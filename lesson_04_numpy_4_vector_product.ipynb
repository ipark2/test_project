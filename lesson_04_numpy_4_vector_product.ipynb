{
  "nbformat": 4,
  "nbformat_minor": 0,
  "metadata": {
    "colab": {
      "name": "lesson 04. numpy 4 - vector product.ipynb",
      "provenance": [],
      "collapsed_sections": [],
      "include_colab_link": true
    },
    "kernelspec": {
      "name": "python3",
      "display_name": "Python 3"
    },
    "language_info": {
      "name": "python"
    }
  },
  "cells": [
    {
      "cell_type": "markdown",
      "metadata": {
        "id": "view-in-github",
        "colab_type": "text"
      },
      "source": [
        "<a href=\"https://colab.research.google.com/github/ipark2/test_project/blob/main/lesson_04_numpy_4_vector_product.ipynb\" target=\"_parent\"><img src=\"https://colab.research.google.com/assets/colab-badge.svg\" alt=\"Open In Colab\"/></a>"
      ]
    },
    {
      "cell_type": "markdown",
      "source": [
        "### inner product"
      ],
      "metadata": {
        "id": "8Oa5SlBmuk4z"
      }
    },
    {
      "cell_type": "code",
      "execution_count": 4,
      "metadata": {
        "id": "CYNkfzU-ub5Y",
        "colab": {
          "base_uri": "https://localhost:8080/"
        },
        "outputId": "9a0698c5-f905-48d4-bcf8-1ed12d5330d9"
      },
      "outputs": [
        {
          "output_type": "execute_result",
          "data": {
            "text/plain": [
              "(array([[0, 6, 8, 2],\n",
              "        [3, 6, 9, 3]]), array([[6, 7, 0, 9],\n",
              "        [9, 3, 8, 4]]))"
            ]
          },
          "metadata": {},
          "execution_count": 4
        }
      ],
      "source": [
        "import numpy as np\n",
        "a = np.random.randint(0,10,(2,4))\n",
        "b = np.random.randint(0,10,(2,4))\n",
        "a,b\n"
      ]
    },
    {
      "cell_type": "code",
      "source": [
        "np.dot(a,b.T)"
      ],
      "metadata": {
        "colab": {
          "base_uri": "https://localhost:8080/"
        },
        "id": "q1J84B1yukan",
        "outputId": "6dad8e89-8b6a-4c96-e4d1-daf098266638"
      },
      "execution_count": 3,
      "outputs": [
        {
          "output_type": "execute_result",
          "data": {
            "text/plain": [
              "array([[34, 40],\n",
              "       [45, 76]])"
            ]
          },
          "metadata": {},
          "execution_count": 3
        }
      ]
    },
    {
      "cell_type": "code",
      "source": [
        "np.inner(a,b)"
      ],
      "metadata": {
        "colab": {
          "base_uri": "https://localhost:8080/"
        },
        "id": "c4tCQWy8vIsT",
        "outputId": "92c63d3c-e1c7-46f7-f46a-c138704bc945"
      },
      "execution_count": null,
      "outputs": [
        {
          "output_type": "execute_result",
          "data": {
            "text/plain": [
              "array([[84, 16],\n",
              "       [70, 29]])"
            ]
          },
          "metadata": {},
          "execution_count": 11
        }
      ]
    },
    {
      "cell_type": "markdown",
      "source": [
        " - numpy.inner : 1차원 또는 2차원 배열일 경우 내적을 위해 두 번째 행렬을 전치한 다음 곱해준다.\n",
        " - numpy.dot : 2차원 배열의 경우 행렬곱 연산을 수행하며 1차원 배열일 경우 벡터의 내적에 해당한다. "
      ],
      "metadata": {
        "id": "qgqb_MzRviLj"
      }
    },
    {
      "cell_type": "code",
      "source": [
        "# blank"
      ],
      "metadata": {
        "id": "dXj0msJHv2Lf"
      },
      "execution_count": null,
      "outputs": []
    },
    {
      "cell_type": "markdown",
      "source": [
        "### 고유값, 고유벡터"
      ],
      "metadata": {
        "id": "5D74H613v8I3"
      }
    },
    {
      "cell_type": "code",
      "source": [
        "# blank"
      ],
      "metadata": {
        "id": "3HTN1u92v7-D"
      },
      "execution_count": null,
      "outputs": []
    },
    {
      "cell_type": "code",
      "source": [
        "# blank"
      ],
      "metadata": {
        "colab": {
          "base_uri": "https://localhost:8080/"
        },
        "id": "ChFeIcK2v7EH",
        "outputId": "b60c254c-d8fc-4ef4-d134-f58a36d62d1a"
      },
      "execution_count": null,
      "outputs": [
        {
          "output_type": "execute_result",
          "data": {
            "text/plain": [
              "(array([1.+1.j, 1.-1.j]),\n",
              " array([[0.70710678+0.j        , 0.70710678-0.j        ],\n",
              "        [0.        -0.70710678j, 0.        +0.70710678j]]))"
            ]
          },
          "metadata": {},
          "execution_count": 13
        }
      ]
    }
  ]
}