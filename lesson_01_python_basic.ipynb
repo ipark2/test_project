{
  "cells": [
    {
      "cell_type": "markdown",
      "metadata": {
        "id": "view-in-github",
        "colab_type": "text"
      },
      "source": [
        "<a href=\"https://colab.research.google.com/github/ipark2/test_project/blob/main/lesson_01_python_basic.ipynb\" target=\"_parent\"><img src=\"https://colab.research.google.com/assets/colab-badge.svg\" alt=\"Open In Colab\"/></a>"
      ]
    },
    {
      "cell_type": "markdown",
      "metadata": {
        "id": "DmvXncuFl28I"
      },
      "source": [
        "## 환경구성\n",
        "    Anaconda 환경\n",
        "    jupyter notebook"
      ]
    },
    {
      "cell_type": "markdown",
      "metadata": {
        "id": "9Gq6nfnOl28N"
      },
      "source": [
        "### Jupyter notebook \n",
        "    mode\n",
        "        - 명령모드(esc)\n",
        "        - 편집모드(셀 선택 후 enter)"
      ]
    },
    {
      "cell_type": "code",
      "execution_count": null,
      "metadata": {
        "id": "7hRDfTrEl28P"
      },
      "outputs": [],
      "source": [
        ""
      ]
    },
    {
      "cell_type": "code",
      "execution_count": null,
      "metadata": {
        "id": "JfoAcbZMl28Q"
      },
      "outputs": [],
      "source": [
        ""
      ]
    },
    {
      "cell_type": "markdown",
      "metadata": {
        "id": "u5Wy-SYYl28R"
      },
      "source": [
        "    Style\n",
        "        - markdown\n",
        "        - code"
      ]
    },
    {
      "cell_type": "markdown",
      "metadata": {
        "id": "Xrqi2MyCl28S"
      },
      "source": [
        ""
      ]
    },
    {
      "cell_type": "markdown",
      "metadata": {
        "id": "ScnDPtSKl28S"
      },
      "source": [
        "이곳에는 노트를 작성하실 수 있습니다\n",
        "\n",
        "    - 1순위\n",
        "        - 2순위\n",
        "            - 3순위"
      ]
    },
    {
      "cell_type": "code",
      "execution_count": null,
      "metadata": {
        "id": "Gi-J8xQBl28T"
      },
      "outputs": [],
      "source": [
        "python code"
      ]
    },
    {
      "cell_type": "markdown",
      "metadata": {
        "id": "1RtjQd9Il28U"
      },
      "source": [
        "    \n",
        "    단축키\n",
        "        - shift+enter : 아래 셀로 내려가면서 실행\n",
        "        - ctrl+enter : 현재 셀에 머무르면서 실행      \n",
        "        - dd(명령모드) : 셀 삭제\n",
        "        - a : 현재 선택된 셀 위에 새로운 셀 생성\n",
        "        - b : 현재 선택된 셀 아래에 새로운 셀 생성\n",
        "        - spacebar : 현재 화면을 위로 올림"
      ]
    },
    {
      "cell_type": "code",
      "execution_count": null,
      "metadata": {
        "id": "pbIDQmVQl28X"
      },
      "outputs": [],
      "source": [
        ""
      ]
    },
    {
      "cell_type": "code",
      "execution_count": null,
      "metadata": {
        "id": "R-W_1AHCl28X"
      },
      "outputs": [],
      "source": [
        ""
      ]
    },
    {
      "cell_type": "markdown",
      "metadata": {
        "id": "9o65i1Avl28X"
      },
      "source": [
        "#### magic command\n",
        "    - % : 한 줄의 magic command를 동작\n",
        "    - %% : 셀 단위의 magic command를 동작\n",
        "    - 주요 magic command\n",
        "        %pwd : 현재 jupyter notebook 파일의 경로\n",
        "        %ls : 현재 디렉토리의 파일 리스트 출력\n",
        "        %whos : 현재 선언된 변수들을 출력\n",
        "        %reset : 현재 선언된 변수들을 전부 삭제"
      ]
    },
    {
      "cell_type": "code",
      "execution_count": null,
      "metadata": {
        "colab": {
          "base_uri": "https://localhost:8080/",
          "height": 35
        },
        "id": "pj8dGqZbl28Y",
        "outputId": "5bf7b48b-8102-4095-d651-2fb2e3a142ae"
      },
      "outputs": [
        {
          "output_type": "execute_result",
          "data": {
            "text/plain": [
              "'/content'"
            ],
            "application/vnd.google.colaboratory.intrinsic+json": {
              "type": "string"
            }
          },
          "metadata": {},
          "execution_count": 1
        }
      ],
      "source": [
        "%pwd"
      ]
    },
    {
      "cell_type": "markdown",
      "metadata": {
        "id": "s8ZmBxAXl28Z"
      },
      "source": [
        "#### shell command\n",
        "    - jupyter notebook을 실행한 shell 환경의 명령을 사용\n",
        "    - 명령어 앞에 !를 붙여서 실행    "
      ]
    },
    {
      "cell_type": "code",
      "execution_count": null,
      "metadata": {
        "colab": {
          "base_uri": "https://localhost:8080/"
        },
        "id": "qm4eiTJ2l28Z",
        "outputId": "51bc327e-c734-474c-d888-e8068d73cb52"
      },
      "outputs": [
        {
          "output_type": "stream",
          "name": "stdout",
          "text": [
            "Looking in indexes: https://pypi.org/simple, https://us-python.pkg.dev/colab-wheels/public/simple/\n",
            "Collecting SimpleITK\n",
            "  Downloading SimpleITK-2.1.1.2-cp37-cp37m-manylinux_2_12_x86_64.manylinux2010_x86_64.whl (48.4 MB)\n",
            "\u001b[K     |████████████████████████████████| 48.4 MB 2.8 MB/s \n",
            "\u001b[?25hInstalling collected packages: SimpleITK\n",
            "Successfully installed SimpleITK-2.1.1.2\n"
          ]
        }
      ],
      "source": [
        "!pip install SimpleITK"
      ]
    },
    {
      "cell_type": "markdown",
      "metadata": {
        "id": "3suTHtxil28a"
      },
      "source": [
        "### 기본 문법\n",
        "    - 변수 선언, 식별자, 자료형, 형변환, 연산자"
      ]
    },
    {
      "cell_type": "markdown",
      "metadata": {
        "id": "GqpxhnT7l28b"
      },
      "source": [
        "#### 주석과 출력\n",
        "    - 주석 : 작성한 문장 맨 앞에 #을 붙이면 주석처리\n",
        "    - 출력 : 셀의 마지막 문장 하나만 결과로 출력\n",
        "            여러 결과나 코드 중간 변수 값을 출력하고 싶을때 print(출력물)로 작성"
      ]
    },
    {
      "cell_type": "code",
      "execution_count": null,
      "metadata": {
        "colab": {
          "base_uri": "https://localhost:8080/"
        },
        "id": "w8BQkc_vl28b",
        "outputId": "593f589f-cde1-4b95-a276-acd2f4f8c1fd"
      },
      "outputs": [
        {
          "output_type": "stream",
          "name": "stdout",
          "text": [
            "Hello Python\n"
          ]
        }
      ],
      "source": [
        "print('Hello Python')\n",
        "# print ('안녕 파이썬')\n"
      ]
    },
    {
      "cell_type": "code",
      "source": [
        "a = 20\n",
        "b = 30\n",
        "a + b"
      ],
      "metadata": {
        "colab": {
          "base_uri": "https://localhost:8080/"
        },
        "id": "9JpXswHToJ8U",
        "outputId": "d3be6fab-77d6-48a2-b3b8-17c7efcc690c"
      },
      "execution_count": null,
      "outputs": [
        {
          "output_type": "execute_result",
          "data": {
            "text/plain": [
              "50"
            ]
          },
          "metadata": {},
          "execution_count": 6
        }
      ]
    },
    {
      "cell_type": "code",
      "execution_count": null,
      "metadata": {
        "id": "mxos8xf6l28c",
        "outputId": "5186bcbf-5ee1-48be-e9e8-7484157af2c5"
      },
      "outputs": [
        {
          "name": "stdout",
          "output_type": "stream",
          "text": [
            "출력 예제 입니다\n"
          ]
        }
      ],
      "source": [
        "print(\"출력 예제 입니다\")"
      ]
    },
    {
      "cell_type": "code",
      "execution_count": null,
      "metadata": {
        "colab": {
          "base_uri": "https://localhost:8080/"
        },
        "id": "_uu9xZhzl28c",
        "outputId": "272cb151-92d0-4b0f-aca4-213172f70b8d"
      },
      "outputs": [
        {
          "output_type": "execute_result",
          "data": {
            "text/plain": [
              "30"
            ]
          },
          "metadata": {},
          "execution_count": 5
        }
      ],
      "source": [
        "a = 10\n",
        "b = 20\n",
        "# print(a+b)\n",
        "a + b"
      ]
    },
    {
      "cell_type": "code",
      "execution_count": null,
      "metadata": {
        "id": "nzOK1optl28d",
        "outputId": "a3f783fb-63ea-42e0-a1a0-0bad3af664be"
      },
      "outputs": [
        {
          "data": {
            "text/plain": [
              "'이 안에 설명을 쓰시면 됩니다.'"
            ]
          },
          "execution_count": 9,
          "metadata": {},
          "output_type": "execute_result"
        }
      ],
      "source": [
        "\"\"\"이 안에 설명을 쓰시면 됩니다.\"\"\""
      ]
    },
    {
      "cell_type": "code",
      "execution_count": null,
      "metadata": {
        "colab": {
          "base_uri": "https://localhost:8080/"
        },
        "id": "YBlfYlqZl28e",
        "outputId": "9cbdeb71-140b-4155-dce1-c99387c07ecb"
      },
      "outputs": [
        {
          "output_type": "stream",
          "name": "stdout",
          "text": [
            "안녕하세요\n",
            "안녕하세요\n",
            "안녕하세요\n",
            "안녕하세요\n",
            "안녕하세요\n",
            "안녕하세요\n",
            "안녕하세요\n",
            "안녕하세요\n",
            "안녕하세요\n",
            "안녕하세요\n"
          ]
        }
      ],
      "source": [
        "for i in range(1, 11):\n",
        "    print('안녕하세요')"
      ]
    },
    {
      "cell_type": "markdown",
      "metadata": {
        "id": "BIseT5Dtl28e"
      },
      "source": [
        "    - docstring : 함수의 사용법을 설명 (단축키: shift+tab)\n",
        "    - 자동완성 : 코드의 일부분만 작성하고 뒷부분을 자동으로 채워주는 기능 (단축키: tab)"
      ]
    },
    {
      "cell_type": "code",
      "execution_count": null,
      "metadata": {
        "colab": {
          "base_uri": "https://localhost:8080/"
        },
        "id": "YTzG1v0Nl28f",
        "outputId": "cdf40fe8-2631-47b1-eecc-06f7e1faacc0"
      },
      "outputs": [
        {
          "output_type": "execute_result",
          "data": {
            "text/plain": [
              "<function Random.random>"
            ]
          },
          "metadata": {},
          "execution_count": 8
        }
      ],
      "source": [
        "import random # random 라이브러리를 불러오는 것\n",
        "random.randint\n",
        "random.random"
      ]
    },
    {
      "cell_type": "code",
      "execution_count": null,
      "metadata": {
        "id": "KmIjhEC3l28f"
      },
      "outputs": [],
      "source": [
        "random.randint, random.random"
      ]
    },
    {
      "cell_type": "markdown",
      "metadata": {
        "id": "a8usRu3Gl28g"
      },
      "source": [
        "#### 변수 선언\n",
        "    RAM 저장 공간에 값을 할당하는 행위"
      ]
    },
    {
      "cell_type": "code",
      "execution_count": null,
      "metadata": {
        "colab": {
          "base_uri": "https://localhost:8080/"
        },
        "id": "MrXbAV6Gl28g",
        "outputId": "627bc1e8-d1cf-4c21-debc-a9161fc8bfdd"
      },
      "outputs": [
        {
          "output_type": "stream",
          "name": "stdout",
          "text": [
            "30\n"
          ]
        }
      ],
      "source": [
        "a = 10\n",
        "b = 20\n",
        "c = a+b\n",
        "print(c)"
      ]
    },
    {
      "cell_type": "code",
      "execution_count": null,
      "metadata": {
        "colab": {
          "base_uri": "https://localhost:8080/"
        },
        "id": "TOAmDuW6l28i",
        "outputId": "2da5ae83-47a4-4e3b-9fd2-2fab09128ce1"
      },
      "outputs": [
        {
          "output_type": "stream",
          "name": "stdout",
          "text": [
            "3 4 5 5\n"
          ]
        }
      ],
      "source": [
        "d, e = 3, 4\n",
        "f = g = 5\n",
        "print(d, e, f, g)"
      ]
    },
    {
      "cell_type": "code",
      "execution_count": null,
      "metadata": {
        "colab": {
          "base_uri": "https://localhost:8080/"
        },
        "id": "eyHOqtTnl28j",
        "outputId": "130201b5-3d0a-40ed-bc14-47340bd9fdd3"
      },
      "outputs": [
        {
          "output_type": "execute_result",
          "data": {
            "text/plain": [
              "(70, 70)"
            ]
          },
          "metadata": {},
          "execution_count": 12
        }
      ],
      "source": [
        "g = h = 70\n",
        "g, h"
      ]
    },
    {
      "cell_type": "code",
      "source": [
        "import numpy as np # numpy 라이브러리를 불러옴\n",
        "a = np.random.randint(0,10,(10,10)) #행렬의 크기가 10x10이고 값들은 0부터 9까지\n",
        "\n",
        "b = np.random.randint(11,20,(10,10))\n",
        "print(a, \"\\n\",b,\"\\n\", a+b)\n"
      ],
      "metadata": {
        "colab": {
          "base_uri": "https://localhost:8080/"
        },
        "id": "csqKbAvZpLWa",
        "outputId": "a6f3ff7f-33b2-42da-e539-3720525c6fa8"
      },
      "execution_count": null,
      "outputs": [
        {
          "output_type": "stream",
          "name": "stdout",
          "text": [
            "[[3 6 9 4 1 6 6 4 4 1]\n",
            " [0 7 2 7 0 9 3 0 9 1]\n",
            " [9 1 7 6 4 8 9 7 4 3]\n",
            " [3 6 5 1 7 4 4 9 8 4]\n",
            " [1 8 7 7 6 4 7 5 3 7]\n",
            " [8 8 4 7 9 6 2 4 3 0]\n",
            " [7 5 7 3 4 1 8 8 0 5]\n",
            " [5 9 8 4 3 4 9 6 5 0]\n",
            " [6 9 9 5 2 1 2 7 7 4]\n",
            " [3 8 2 0 8 0 3 1 2 9]] \n",
            " [[11 12 19 13 16 12 15 19 11 19]\n",
            " [15 11 11 19 19 11 18 14 12 13]\n",
            " [12 18 18 16 19 15 19 11 18 17]\n",
            " [12 19 18 14 16 15 17 16 17 15]\n",
            " [11 13 13 11 14 18 17 16 13 12]\n",
            " [12 18 14 17 17 12 15 15 15 16]\n",
            " [18 15 19 13 14 12 16 19 11 13]\n",
            " [17 12 19 13 11 15 13 12 18 16]\n",
            " [18 18 13 16 18 16 12 19 18 15]\n",
            " [12 18 12 19 17 12 14 12 17 17]] \n",
            " [[14 18 28 17 17 18 21 23 15 20]\n",
            " [15 18 13 26 19 20 21 14 21 14]\n",
            " [21 19 25 22 23 23 28 18 22 20]\n",
            " [15 25 23 15 23 19 21 25 25 19]\n",
            " [12 21 20 18 20 22 24 21 16 19]\n",
            " [20 26 18 24 26 18 17 19 18 16]\n",
            " [25 20 26 16 18 13 24 27 11 18]\n",
            " [22 21 27 17 14 19 22 18 23 16]\n",
            " [24 27 22 21 20 17 14 26 25 19]\n",
            " [15 26 14 19 25 12 17 13 19 26]]\n"
          ]
        }
      ]
    },
    {
      "cell_type": "markdown",
      "metadata": {
        "id": "T4Kczar9l28l"
      },
      "source": [
        "#### 식별자\n",
        "    - 변수, 함수, 클래스, 모듈 등의 이름\n",
        "    - 규칙\n",
        "        - 소문자, 대문자, 숫자, _ (low dash / under_score)\n",
        "        - 가장 앞에 숫자 사용 불가\n",
        "        - 예약어 사용 불가 (def, class, int, ...) : 이미 python에서 문법적으로 정의되어 있는 식별자\n",
        "        - Convention\n",
        "            - snake_case : 변수, 함수\n",
        "            - CamelCase : class"
      ]
    },
    {
      "cell_type": "code",
      "execution_count": null,
      "metadata": {
        "colab": {
          "base_uri": "https://localhost:8080/"
        },
        "id": "F1wNPTLEl28l",
        "outputId": "e497dbb5-ac5b-4dcf-e72b-67d51d5e8364"
      },
      "outputs": [
        {
          "output_type": "stream",
          "name": "stdout",
          "text": [
            "['False', 'None', 'True', 'and', 'as', 'assert', 'async', 'await', 'break', 'class', 'continue', 'def', 'del', 'elif', 'else', 'except', 'finally', 'for', 'from', 'global', 'if', 'import', 'in', 'is', 'lambda', 'nonlocal', 'not', 'or', 'pass', 'raise', 'return', 'try', 'while', 'with', 'yield']\n"
          ]
        }
      ],
      "source": [
        "import keyword\n",
        "print(keyword.kwlist)"
      ]
    },
    {
      "cell_type": "code",
      "execution_count": null,
      "metadata": {
        "colab": {
          "base_uri": "https://localhost:8080/",
          "height": 193
        },
        "id": "6gUdBKvWl28m",
        "outputId": "0882867b-4b58-4ac6-b3e6-a9a68e884ee1"
      },
      "outputs": [
        {
          "output_type": "error",
          "ename": "NameError",
          "evalue": "ignored",
          "traceback": [
            "\u001b[0;31m---------------------------------------------------------------------------\u001b[0m",
            "\u001b[0;31mNameError\u001b[0m                                 Traceback (most recent call last)",
            "\u001b[0;32m<ipython-input-15-df34922a697c>\u001b[0m in \u001b[0;36m<module>\u001b[0;34m()\u001b[0m\n\u001b[0;32m----> 1\u001b[0;31m \u001b[0mcandy_bar\u001b[0m\u001b[0;34m\u001b[0m\u001b[0;34m\u001b[0m\u001b[0m\n\u001b[0m\u001b[1;32m      2\u001b[0m \u001b[0mLowDashError\u001b[0m\u001b[0;34m\u001b[0m\u001b[0;34m\u001b[0m\u001b[0m\n",
            "\u001b[0;31mNameError\u001b[0m: name 'candy_bar' is not defined"
          ]
        }
      ],
      "source": [
        "candy_bar\n",
        "LowDashError"
      ]
    },
    {
      "cell_type": "markdown",
      "metadata": {
        "id": "WkHAbL4Ql28m"
      },
      "source": [
        "#### 데이터 타입\n",
        "    - RAM 저장 공간을 효율적으로 사용하기 위해서 저장 공간의 타입 설정\n",
        "    - 동적 타이핑\n",
        "        - 변수 선언 시 저장되는 값에 따라서 자동으로 타입이 설정"
      ]
    },
    {
      "cell_type": "code",
      "execution_count": null,
      "metadata": {
        "id": "XOY96j3Ml28n"
      },
      "outputs": [],
      "source": [
        "%whos"
      ]
    },
    {
      "cell_type": "code",
      "source": [
        ""
      ],
      "metadata": {
        "id": "obZM8OhBuNlE"
      },
      "execution_count": null,
      "outputs": []
    },
    {
      "cell_type": "code",
      "execution_count": null,
      "metadata": {
        "id": "rnXJaFAGl28o"
      },
      "outputs": [],
      "source": [
        "%reset"
      ]
    },
    {
      "cell_type": "code",
      "execution_count": null,
      "metadata": {
        "id": "eq1a64eml28o",
        "outputId": "5caf22eb-2114-4993-e404-e0e2917188cd"
      },
      "outputs": [
        {
          "name": "stdout",
          "output_type": "stream",
          "text": [
            "Interactive namespace is empty.\n"
          ]
        }
      ],
      "source": [
        "%whos"
      ]
    },
    {
      "cell_type": "code",
      "source": [
        "a = 1\n",
        "b = 'python'\n",
        "c = 1.0\n",
        "type(a), type(b), type(c)"
      ],
      "metadata": {
        "id": "jeMH6ZT0rkcH"
      },
      "execution_count": null,
      "outputs": []
    },
    {
      "cell_type": "code",
      "execution_count": null,
      "metadata": {
        "id": "jDmEKRz4l28o",
        "outputId": "938951f3-e252-421e-8b83-19259e7f63e9"
      },
      "outputs": [
        {
          "name": "stdout",
          "output_type": "stream",
          "text": [
            "The Zen of Python, by Tim Peters\n",
            "\n",
            "Beautiful is better than ugly.\n",
            "Explicit is better than implicit.\n",
            "Simple is better than complex.\n",
            "Complex is better than complicated.\n",
            "Flat is better than nested.\n",
            "Sparse is better than dense.\n",
            "Readability counts.\n",
            "Special cases aren't special enough to break the rules.\n",
            "Although practicality beats purity.\n",
            "Errors should never pass silently.\n",
            "Unless explicitly silenced.\n",
            "In the face of ambiguity, refuse the temptation to guess.\n",
            "There should be one-- and preferably only one --obvious way to do it.\n",
            "Although that way may not be obvious at first unless you're Dutch.\n",
            "Now is better than never.\n",
            "Although never is often better than *right* now.\n",
            "If the implementation is hard to explain, it's a bad idea.\n",
            "If the implementation is easy to explain, it may be a good idea.\n",
            "Namespaces are one honking great idea -- let's do more of those!\n"
          ]
        }
      ],
      "source": [
        "import this"
      ]
    }
  ],
  "metadata": {
    "hide_input": false,
    "kernelspec": {
      "display_name": "Python 3",
      "language": "python",
      "name": "python3"
    },
    "language_info": {
      "codemirror_mode": {
        "name": "ipython",
        "version": 3
      },
      "file_extension": ".py",
      "mimetype": "text/x-python",
      "name": "python",
      "nbconvert_exporter": "python",
      "pygments_lexer": "ipython3",
      "version": "3.8.5"
    },
    "toc": {
      "base_numbering": 1,
      "nav_menu": {},
      "number_sections": true,
      "sideBar": true,
      "skip_h1_title": false,
      "title_cell": "Table of Contents",
      "title_sidebar": "Contents",
      "toc_cell": false,
      "toc_position": {},
      "toc_section_display": true,
      "toc_window_display": false
    },
    "varInspector": {
      "cols": {
        "lenName": 16,
        "lenType": 16,
        "lenVar": 40
      },
      "kernels_config": {
        "python": {
          "delete_cmd_postfix": "",
          "delete_cmd_prefix": "del ",
          "library": "var_list.py",
          "varRefreshCmd": "print(var_dic_list())"
        },
        "r": {
          "delete_cmd_postfix": ") ",
          "delete_cmd_prefix": "rm(",
          "library": "var_list.r",
          "varRefreshCmd": "cat(var_dic_list()) "
        }
      },
      "types_to_exclude": [
        "module",
        "function",
        "builtin_function_or_method",
        "instance",
        "_Feature"
      ],
      "window_display": false
    },
    "colab": {
      "name": "lesson 01. python basic.ipynb",
      "provenance": [],
      "include_colab_link": true
    }
  },
  "nbformat": 4,
  "nbformat_minor": 0
}