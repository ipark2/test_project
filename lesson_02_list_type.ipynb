{
  "cells": [
    {
      "cell_type": "markdown",
      "metadata": {
        "id": "view-in-github",
        "colab_type": "text"
      },
      "source": [
        "<a href=\"https://colab.research.google.com/github/ipark2/test_project/blob/main/lesson_02_list_type.ipynb\" target=\"_parent\"><img src=\"https://colab.research.google.com/assets/colab-badge.svg\" alt=\"Open In Colab\"/></a>"
      ]
    },
    {
      "cell_type": "markdown",
      "metadata": {
        "id": "py_lXzkeg1-m"
      },
      "source": [
        "### 데이터타입 개념\n",
        "    1. 숫자\n",
        "    2. 문자\n",
        "    3. 리스트 []\n",
        "        - 순서가 있고 수정이 가능한 데이터 타입\n",
        "    4. 튜플(tuple) ()\n",
        "        - 순서가 있고 수정이 불가능한 데이터 타입\n",
        "    5. 사전(dict) {}\n",
        "        - 순서가 없고 키:값 쌍으로 구성된 데이터 타입"
      ]
    },
    {
      "cell_type": "markdown",
      "metadata": {
        "id": "q2eFwuplg1-q"
      },
      "source": [
        "#### 숫자와 문자형\n"
      ]
    },
    {
      "cell_type": "code",
      "execution_count": 1,
      "metadata": {
        "id": "5MvPcZB4g1-r",
        "colab": {
          "base_uri": "https://localhost:8080/"
        },
        "outputId": "389e707c-618c-4be5-a31b-f90a7a5e390e"
      },
      "outputs": [
        {
          "output_type": "stream",
          "name": "stdout",
          "text": [
            "<class 'int'> 726 \n",
            " <class 'str'> brithday\n"
          ]
        }
      ],
      "source": [
        "a = 726\n",
        "b = \"brithday\"\n",
        "print(type(a), a, \"\\n\", type(b), b)"
      ]
    },
    {
      "cell_type": "markdown",
      "metadata": {
        "id": "ucf_F5QXg1-r"
      },
      "source": [
        "#### list"
      ]
    },
    {
      "cell_type": "code",
      "execution_count": 2,
      "metadata": {
        "id": "pFiImYn8g1-s",
        "colab": {
          "base_uri": "https://localhost:8080/"
        },
        "outputId": "5f90636c-17da-4586-c095-4ae6938bc6f9"
      },
      "outputs": [
        {
          "output_type": "execute_result",
          "data": {
            "text/plain": [
              "(list, [True, 1, 2, '삼', [4, 'five'], 6.0])"
            ]
          },
          "metadata": {},
          "execution_count": 2
        }
      ],
      "source": [
        "ls = [True, 1, 2, \"삼\", [4, \"five\"], 6.0]\n",
        "type(ls), ls"
      ]
    },
    {
      "cell_type": "markdown",
      "metadata": {
        "id": "4yfwd6jXg1-s"
      },
      "source": [
        "##### offset index : 순서가 있는 데이터 타입에서는 해당 index(위치)를 사용할 수 있다\n",
        "    - index의 순서는 0부터 시작"
      ]
    },
    {
      "cell_type": "code",
      "execution_count": 3,
      "metadata": {
        "id": "qhsPeTGdg1-t",
        "colab": {
          "base_uri": "https://localhost:8080/"
        },
        "outputId": "8fc661e5-cb6f-46c5-bba2-9b59431fe0c7"
      },
      "outputs": [
        {
          "output_type": "execute_result",
          "data": {
            "text/plain": [
              "('삼', [1, 2, '삼'], [6.0, [4, 'five'], '삼', 2, 1, True])"
            ]
          },
          "metadata": {},
          "execution_count": 3
        }
      ],
      "source": [
        "ls[3], ls[1:4], ls[::-1]"
      ]
    },
    {
      "cell_type": "markdown",
      "metadata": {
        "id": "KkeUEJW1g1-v"
      },
      "source": [
        "##### 추가\n",
        "    - append()"
      ]
    },
    {
      "cell_type": "code",
      "execution_count": 15,
      "metadata": {
        "id": "clIR0i88g1-v",
        "colab": {
          "base_uri": "https://localhost:8080/"
        },
        "outputId": "e1eb2ebc-53b6-4c86-e064-7f766e8976a4"
      },
      "outputs": [
        {
          "output_type": "execute_result",
          "data": {
            "text/plain": [
              "[2, 3, 7, 4, 9, 0]"
            ]
          },
          "metadata": {},
          "execution_count": 15
        }
      ],
      "source": [
        "ls = [2, 3, 7, 4, 9] # list 생성\n",
        "ls.append(0) # 가장 뒤에 추가\n",
        "ls"
      ]
    },
    {
      "cell_type": "markdown",
      "metadata": {
        "id": "8QmmVLsVg1-w"
      },
      "source": [
        "##### 정렬\n",
        "    sort()\n",
        "    - 오름차순/내림차순"
      ]
    },
    {
      "cell_type": "code",
      "execution_count": 5,
      "metadata": {
        "id": "HHqyF6bsg1-w",
        "colab": {
          "base_uri": "https://localhost:8080/"
        },
        "outputId": "cb8fc1e8-ed78-445f-d41c-d22ba1ab3dc5"
      },
      "outputs": [
        {
          "output_type": "stream",
          "name": "stdout",
          "text": [
            "[9, 7, 4, 3, 2, 0]\n"
          ]
        },
        {
          "output_type": "execute_result",
          "data": {
            "text/plain": [
              "[0, 2, 3, 4, 7, 9]"
            ]
          },
          "metadata": {},
          "execution_count": 5
        }
      ],
      "source": [
        "ls.sort(reverse=True)\n",
        "print(ls)\n",
        "ls.sort(reverse=False)\n",
        "ls"
      ]
    },
    {
      "cell_type": "markdown",
      "metadata": {
        "id": "vSloXl5ng1-x"
      },
      "source": [
        "#### 삭제(뽑기)\n",
        "    pop()\n",
        "        기본값 : 리스트 마지막 항목을 뽑아낸다\n",
        "    list.pop(index)\n",
        "        index를 입력하면 해당 index 순서에 있는 항목을 뽑아낸다\n",
        "        pop으로 뽑힌 데이터는 다른 변수에 저장이 가능\n",
        "        뽑힌 데이터는 list에서 삭제되어 있음\n"
      ]
    },
    {
      "cell_type": "code",
      "execution_count": 6,
      "metadata": {
        "id": "r_yY9GjPg1-x",
        "colab": {
          "base_uri": "https://localhost:8080/"
        },
        "outputId": "08803ea0-71fd-4d26-e9df-5e732705d694"
      },
      "outputs": [
        {
          "output_type": "stream",
          "name": "stdout",
          "text": [
            "[0, 2, 3, 4, 7, 9]\n",
            "9 [0, 2, 3, 4, 7]\n"
          ]
        }
      ],
      "source": [
        "print(ls)\n",
        "print(ls.pop(), ls)"
      ]
    },
    {
      "cell_type": "code",
      "execution_count": 7,
      "metadata": {
        "id": "sAJMVQFxg1-y",
        "colab": {
          "base_uri": "https://localhost:8080/"
        },
        "outputId": "0752a25e-dd25-4b48-8156-2eafc1245288"
      },
      "outputs": [
        {
          "output_type": "execute_result",
          "data": {
            "text/plain": [
              "(2, [0, 3, 4, 7])"
            ]
          },
          "metadata": {},
          "execution_count": 7
        }
      ],
      "source": [
        "ls.pop(1), ls"
      ]
    },
    {
      "cell_type": "code",
      "execution_count": 11,
      "metadata": {
        "id": "3VTT1Lyig1-y",
        "colab": {
          "base_uri": "https://localhost:8080/"
        },
        "outputId": "1da6d7ef-f268-4a13-af2f-76ea5be8e426"
      },
      "outputs": [
        {
          "output_type": "execute_result",
          "data": {
            "text/plain": [
              "(7, [])"
            ]
          },
          "metadata": {},
          "execution_count": 11
        }
      ],
      "source": [
        "b = ls.pop(0)\n",
        "b, ls"
      ]
    },
    {
      "cell_type": "markdown",
      "source": [
        "#### 뽑아내지 않고 삭제하는 방법\n",
        "    del list[index]"
      ],
      "metadata": {
        "id": "CmcIM0CShihO"
      }
    },
    {
      "cell_type": "code",
      "execution_count": 16,
      "metadata": {
        "id": "XEosj1kgg1-y",
        "colab": {
          "base_uri": "https://localhost:8080/"
        },
        "outputId": "b19caf28-360a-4ff1-8a98-562b364a979e"
      },
      "outputs": [
        {
          "output_type": "execute_result",
          "data": {
            "text/plain": [
              "[2, 7, 4, 9, 0]"
            ]
          },
          "metadata": {},
          "execution_count": 16
        }
      ],
      "source": [
        "del ls[1]\n",
        "ls"
      ]
    },
    {
      "cell_type": "markdown",
      "metadata": {
        "id": "v2oFn4cPg1-y"
      },
      "source": [
        "#### 리스트 타입의 복사\n",
        "    copy()\n",
        "\n",
        "- 얕은 복사(shallow copy) <br/>\n",
        "  메모리 주소만 복사한 것으로 새로운 값을 적용하면 원래 메모리 참조 값을 가져온다.\n",
        "\n",
        "- 깊은 복사(deep copy) <br/>\n",
        "  copy.deepcopy 메소드로 사용 가능하다.\n",
        "  새로운 메모리 값을 사용하므로 다른 주소 값이 할당된다.\n",
        "\n",
        "-얕은 복사와 깊은 복사의 구분은 list, set, dictionary와 같은 가변 객체에 해당하여 적용한다."
      ]
    },
    {
      "cell_type": "code",
      "execution_count": 20,
      "metadata": {
        "id": "QmnrbDXng1-z",
        "colab": {
          "base_uri": "https://localhost:8080/"
        },
        "outputId": "91725a98-b9b5-4535-d7e6-7f8a6a33db3d"
      },
      "outputs": [
        {
          "output_type": "execute_result",
          "data": {
            "text/plain": [
              "([1, 2, 5], [1, 2, 5])"
            ]
          },
          "metadata": {},
          "execution_count": 20
        }
      ],
      "source": [
        "ls1 = [1, 2, 3]\n",
        "ls2 = ls1 # ls2는 ls1의 주소값을 복사\n",
        "ls1[2] = 5 # ls1의 값을 변경하면..?\n",
        "ls1, ls2 # 얕은 복사"
      ]
    },
    {
      "cell_type": "code",
      "execution_count": 21,
      "metadata": {
        "id": "zx8PXNOXg1-z",
        "colab": {
          "base_uri": "https://localhost:8080/"
        },
        "outputId": "445c0a6e-8453-42f0-fd7f-ca7631c5585d"
      },
      "outputs": [
        {
          "output_type": "execute_result",
          "data": {
            "text/plain": [
              "([1, 2, 6], [1, 2, 6], [1, 2, 5])"
            ]
          },
          "metadata": {},
          "execution_count": 21
        }
      ],
      "source": [
        "import copy # copy 라이브러리 호출\n",
        "ls3 = copy.deepcopy(ls1)\n",
        "ls1[2] = 6\n",
        "ls1, ls2, ls3"
      ]
    }
  ],
  "metadata": {
    "kernelspec": {
      "display_name": "Python 3",
      "language": "python",
      "name": "python3"
    },
    "language_info": {
      "codemirror_mode": {
        "name": "ipython",
        "version": 3
      },
      "file_extension": ".py",
      "mimetype": "text/x-python",
      "name": "python",
      "nbconvert_exporter": "python",
      "pygments_lexer": "ipython3",
      "version": "3.8.5"
    },
    "toc": {
      "base_numbering": 1,
      "nav_menu": {},
      "number_sections": true,
      "sideBar": true,
      "skip_h1_title": false,
      "title_cell": "Table of Contents",
      "title_sidebar": "Contents",
      "toc_cell": false,
      "toc_position": {},
      "toc_section_display": true,
      "toc_window_display": false
    },
    "colab": {
      "name": "lesson 02. list type.ipynb",
      "provenance": [],
      "collapsed_sections": [],
      "include_colab_link": true
    }
  },
  "nbformat": 4,
  "nbformat_minor": 0
}