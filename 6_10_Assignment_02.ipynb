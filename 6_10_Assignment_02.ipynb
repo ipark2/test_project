{
  "nbformat": 4,
  "nbformat_minor": 0,
  "metadata": {
    "colab": {
      "name": "6.10 Assignment 02.ipynb",
      "provenance": [],
      "collapsed_sections": [],
      "include_colab_link": true
    },
    "kernelspec": {
      "name": "python3",
      "display_name": "Python 3"
    },
    "language_info": {
      "name": "python"
    }
  },
  "cells": [
    {
      "cell_type": "markdown",
      "metadata": {
        "id": "view-in-github",
        "colab_type": "text"
      },
      "source": [
        "<a href=\"https://colab.research.google.com/github/ipark2/test_project/blob/main/6_10_Assignment_02.ipynb\" target=\"_parent\"><img src=\"https://colab.research.google.com/assets/colab-badge.svg\" alt=\"Open In Colab\"/></a>"
      ]
    },
    {
      "cell_type": "code",
      "execution_count": 67,
      "metadata": {
        "colab": {
          "base_uri": "https://localhost:8080/"
        },
        "id": "N9YUsOry9nD0",
        "outputId": "f290ef9b-5633-43e0-fd2c-1b6c44f5d7b1"
      },
      "outputs": [
        {
          "output_type": "stream",
          "name": "stdout",
          "text": [
            "5000 \n",
            " dict_values([5000, 3000, 2000])\n"
          ]
        }
      ],
      "source": [
        "# 사전의 구조와 이해\n",
        "\n",
        "price = {'김밥': 5000, '어묵':3000, '떡볶이':2000}\n",
        "\n",
        "print(dict['김밥'], \"\\n\",dic.values())"
      ]
    },
    {
      "cell_type": "code",
      "source": [
        "# 리스트의 슬라이싱을 사용하여 아래를 출력하세요\n",
        "\n",
        "tp = [1,2,3,4,5,6,7]\n",
        "\n",
        "print(tp[0], \"\\n\",tp[:-4], \"\\n\",tp[3::], \"\\n\",tp[6], \"\\n\",tp[::-1])\n"
      ],
      "metadata": {
        "colab": {
          "base_uri": "https://localhost:8080/"
        },
        "id": "lQCEERSl-Wba",
        "outputId": "e5588c27-c701-4195-adef-0cab9fc4dc4b"
      },
      "execution_count": 36,
      "outputs": [
        {
          "output_type": "stream",
          "name": "stdout",
          "text": [
            "1 \n",
            " [1, 2, 3] \n",
            " [4, 5, 6, 7] \n",
            " 7 \n",
            " [7, 6, 5, 4, 3, 2, 1]\n"
          ]
        }
      ]
    },
    {
      "cell_type": "code",
      "source": [
        "# 조건문\n",
        "# 점수를 입력받아 등급을 출력하세요\n",
        "# 등급표 81~100\tA / 61~80\tB / 41~60\tC / 21~40\tD / 0~20\tE\n",
        "\n",
        "score = int(input(\"점수를 입력하세요: \"))\n",
        "if score >= 81 and score <= 100: \n",
        "    print(\"{}\".format(score))\n",
        "    print(\"점수는 {}점이며 등급은 A등급입니다\".format(score))\n",
        "elif score >= 61 and score <= 80:\n",
        "    print(\"{}\".format(score))\n",
        "    print(\"점수는 {}점이며 등급은 B등급입니다\".format(score))\n",
        "elif score >= 41 and score <= 60:\n",
        "    print(\"{}\".format(score))\n",
        "    print(\"점수는 {}점이며 등급은 C등급입니다\".format(score))\n",
        "elif score >= 21 and score <= 40:\n",
        "    print(\"{}\".format(score))\n",
        "    print(\"점수는 {}점이며 등급은 D등급입니다\".format(score))\n",
        "elif score >= 0 and score <= 20:\n",
        "    print(\"{}\".format(score))\n",
        "    print(\"점수는 {}점이며 등급은 F등급입니다\".format(score))\n",
        "\n",
        "#\n",
        "######################\n"
      ],
      "metadata": {
        "colab": {
          "base_uri": "https://localhost:8080/"
        },
        "id": "YxX6NxrNCK5z",
        "outputId": "74a4f644-f48e-4b98-fa6a-6a331dc9b82e"
      },
      "execution_count": 70,
      "outputs": [
        {
          "output_type": "stream",
          "name": "stdout",
          "text": [
            "점수를 입력하세요: 85\n",
            "85\n",
            "점수는 85점이며 등급은 A등급입니다\n"
          ]
        }
      ]
    },
    {
      "cell_type": "code",
      "source": [
        "# 함수를 만들고 두 수를 입력받아 연산하세요\n",
        "\n",
        "a = int(input('첫 번째 정수를 입력하세요: '))\n",
        "b = int(input('두 번째 정수를 입력하세요: '))\n",
        "\n",
        "# complete the blanks\n",
        "#\n",
        "\n",
        "\n",
        "\n",
        "\n",
        "\n",
        "\n",
        "\n",
        "\n",
        "#\n",
        "######################\n"
      ],
      "metadata": {
        "colab": {
          "base_uri": "https://localhost:8080/"
        },
        "id": "mD9n7jRG-8qL",
        "outputId": "472d539e-5f39-4a97-e917-e0ca659c2f40"
      },
      "execution_count": null,
      "outputs": [
        {
          "output_type": "stream",
          "name": "stdout",
          "text": [
            "첫 번째 정수를 입력하세요: 3\n",
            "두 번째 정수를 입력하세요: 5\n",
            "덧셈 함수 연산:  8\n",
            "곱셈 함수 연산:  15\n",
            "제곱 함수 연산:  243\n"
          ]
        }
      ]
    },
    {
      "cell_type": "code",
      "source": [
        "a = int(input('첫 번째 정수를 입력하세요: '))\n",
        "b = int(input('두 번째 정수를 입력하세요: '))\n",
        "\n",
        "def sum(a, b):\n",
        "    v = sum(a,b)\n",
        "    print(v)\n"
      ],
      "metadata": {
        "colab": {
          "base_uri": "https://localhost:8080/"
        },
        "id": "J4KorxA2roN5",
        "outputId": "2ea41025-6286-42ea-c6a5-1209805e5d1f"
      },
      "execution_count": 87,
      "outputs": [
        {
          "name": "stdout",
          "output_type": "stream",
          "text": [
            "첫 번째 정수를 입력하세요: 3\n",
            "두 번째 정수를 입력하세요: 5\n"
          ]
        }
      ]
    },
    {
      "cell_type": "markdown",
      "source": [
        "첫 번째 정수를 입력하세요: 3\n",
        "두 번째 정수를 입력하세요: 5\n",
        "덧셈 함수 연산:  8\n",
        "곱셈 함수 연산:  15\n",
        "제곱 함수 연산:  243\n"
      ],
      "metadata": {
        "id": "XnCsN8nvrt6t"
      }
    },
    {
      "cell_type": "markdown",
      "source": [
        ""
      ],
      "metadata": {
        "id": "hO1-IhXgrrL4"
      }
    },
    {
      "cell_type": "code",
      "source": [
        "# 알고리즘 생성\n",
        "# 피보나치 수열을 계산하는 함수를 생성하고 자연수 10을 넣어 실행하세요\n",
        "\n",
        "# complete the blanks\n",
        "#\n",
        "\n",
        "\n",
        "\n",
        "#\n",
        "######################\n",
        "\n",
        "print(pivo(10))\n"
      ],
      "metadata": {
        "colab": {
          "base_uri": "https://localhost:8080/"
        },
        "id": "OL3QMyusC9V0",
        "outputId": "5b4b0774-7f19-4cea-a237-14504a57eb92"
      },
      "execution_count": null,
      "outputs": [
        {
          "output_type": "stream",
          "name": "stdout",
          "text": [
            "55\n"
          ]
        }
      ]
    },
    {
      "cell_type": "code",
      "source": [
        "# 클래스\n",
        "# 사람 (Human) 클래스를 정의하고 (이름, 나이, 성별)을 받는 생성자를 추가하세요.\n"
      ],
      "metadata": {
        "id": "nYv044w8Ae0Z"
      },
      "execution_count": null,
      "outputs": []
    }
  ]
}